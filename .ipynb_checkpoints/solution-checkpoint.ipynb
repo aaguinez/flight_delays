{
 "cells": [
  {
   "cell_type": "markdown",
   "id": "cc40b79c",
   "metadata": {
    "jp-MarkdownHeadingCollapsed": true,
    "tags": []
   },
   "source": [
    "# Libraries"
   ]
  },
  {
   "cell_type": "code",
   "execution_count": 147,
   "id": "d8339792",
   "metadata": {
    "collapsed": true,
    "jupyter": {
     "outputs_hidden": true
    },
    "tags": []
   },
   "outputs": [
    {
     "name": "stdout",
     "output_type": "stream",
     "text": [
      "Requirement already satisfied: pandas in c:\\users\\agustin\\appdata\\local\\programs\\python\\python311\\lib\\site-packages (1.5.3)\n",
      "Requirement already satisfied: python-dateutil>=2.8.1 in c:\\users\\agustin\\appdata\\local\\programs\\python\\python311\\lib\\site-packages (from pandas) (2.8.2)\n",
      "Requirement already satisfied: pytz>=2020.1 in c:\\users\\agustin\\appdata\\local\\programs\\python\\python311\\lib\\site-packages (from pandas) (2022.7.1)\n",
      "Requirement already satisfied: numpy>=1.21.0 in c:\\users\\agustin\\appdata\\local\\programs\\python\\python311\\lib\\site-packages (from pandas) (1.24.2)\n",
      "Requirement already satisfied: six>=1.5 in c:\\users\\agustin\\appdata\\local\\programs\\python\\python311\\lib\\site-packages (from python-dateutil>=2.8.1->pandas) (1.16.0)\n"
     ]
    },
    {
     "name": "stderr",
     "output_type": "stream",
     "text": [
      "\n",
      "[notice] A new release of pip available: 22.3.1 -> 23.0.1\n",
      "[notice] To update, run: python.exe -m pip install --upgrade pip\n"
     ]
    },
    {
     "name": "stdout",
     "output_type": "stream",
     "text": [
      "Requirement already satisfied: numpy in c:\\users\\agustin\\appdata\\local\\programs\\python\\python311\\lib\\site-packages (1.24.2)\n"
     ]
    },
    {
     "name": "stderr",
     "output_type": "stream",
     "text": [
      "\n",
      "[notice] A new release of pip available: 22.3.1 -> 23.0.1\n",
      "[notice] To update, run: python.exe -m pip install --upgrade pip\n"
     ]
    },
    {
     "name": "stdout",
     "output_type": "stream",
     "text": [
      "Requirement already satisfied: matplotlib in c:\\users\\agustin\\appdata\\local\\programs\\python\\python311\\lib\\site-packages (3.7.1)\n",
      "Requirement already satisfied: contourpy>=1.0.1 in c:\\users\\agustin\\appdata\\local\\programs\\python\\python311\\lib\\site-packages (from matplotlib) (1.0.7)\n",
      "Requirement already satisfied: cycler>=0.10 in c:\\users\\agustin\\appdata\\local\\programs\\python\\python311\\lib\\site-packages (from matplotlib) (0.11.0)\n",
      "Requirement already satisfied: fonttools>=4.22.0 in c:\\users\\agustin\\appdata\\local\\programs\\python\\python311\\lib\\site-packages (from matplotlib) (4.39.2)\n",
      "Requirement already satisfied: kiwisolver>=1.0.1 in c:\\users\\agustin\\appdata\\local\\programs\\python\\python311\\lib\\site-packages (from matplotlib) (1.4.4)\n",
      "Requirement already satisfied: numpy>=1.20 in c:\\users\\agustin\\appdata\\local\\programs\\python\\python311\\lib\\site-packages (from matplotlib) (1.24.2)\n",
      "Requirement already satisfied: packaging>=20.0 in c:\\users\\agustin\\appdata\\local\\programs\\python\\python311\\lib\\site-packages (from matplotlib) (23.0)\n",
      "Requirement already satisfied: pillow>=6.2.0 in c:\\users\\agustin\\appdata\\local\\programs\\python\\python311\\lib\\site-packages (from matplotlib) (9.4.0)\n",
      "Requirement already satisfied: pyparsing>=2.3.1 in c:\\users\\agustin\\appdata\\local\\programs\\python\\python311\\lib\\site-packages (from matplotlib) (3.0.9)\n",
      "Requirement already satisfied: python-dateutil>=2.7 in c:\\users\\agustin\\appdata\\local\\programs\\python\\python311\\lib\\site-packages (from matplotlib) (2.8.2)\n",
      "Requirement already satisfied: six>=1.5 in c:\\users\\agustin\\appdata\\local\\programs\\python\\python311\\lib\\site-packages (from python-dateutil>=2.7->matplotlib) (1.16.0)\n"
     ]
    },
    {
     "name": "stderr",
     "output_type": "stream",
     "text": [
      "\n",
      "[notice] A new release of pip available: 22.3.1 -> 23.0.1\n",
      "[notice] To update, run: python.exe -m pip install --upgrade pip\n"
     ]
    },
    {
     "name": "stdout",
     "output_type": "stream",
     "text": [
      "Collecting scikit-learn\n",
      "  Downloading scikit_learn-1.2.2-cp311-cp311-win_amd64.whl (8.3 MB)\n",
      "     ---------------------------------------- 8.3/8.3 MB 10.4 MB/s eta 0:00:00\n",
      "Requirement already satisfied: numpy>=1.17.3 in c:\\users\\agustin\\appdata\\local\\programs\\python\\python311\\lib\\site-packages (from scikit-learn) (1.24.2)\n",
      "Collecting scipy>=1.3.2\n",
      "  Downloading scipy-1.10.1-cp311-cp311-win_amd64.whl (42.2 MB)\n",
      "     ---------------------------------------- 42.2/42.2 MB 6.8 MB/s eta 0:00:00\n",
      "Collecting joblib>=1.1.1\n",
      "  Downloading joblib-1.2.0-py3-none-any.whl (297 kB)\n",
      "     -------------------------------------- 298.0/298.0 kB 1.7 MB/s eta 0:00:00\n",
      "Collecting threadpoolctl>=2.0.0\n",
      "  Downloading threadpoolctl-3.1.0-py3-none-any.whl (14 kB)\n",
      "Installing collected packages: threadpoolctl, scipy, joblib, scikit-learn\n",
      "Successfully installed joblib-1.2.0 scikit-learn-1.2.2 scipy-1.10.1 threadpoolctl-3.1.0\n"
     ]
    },
    {
     "name": "stderr",
     "output_type": "stream",
     "text": [
      "\n",
      "[notice] A new release of pip available: 22.3.1 -> 23.0.1\n",
      "[notice] To update, run: python.exe -m pip install --upgrade pip\n"
     ]
    }
   ],
   "source": [
    "!pip install pandas\n",
    "!pip install numpy\n",
    "!pip install matplotlib\n",
    "!pip install scikit-learn"
   ]
  },
  {
   "cell_type": "code",
   "execution_count": 271,
   "id": "40ed8016",
   "metadata": {
    "tags": []
   },
   "outputs": [],
   "source": [
    "import numpy as np\n",
    "import pandas as pd\n",
    "import matplotlib.pyplot as plt\n",
    "import datetime as dt\n",
    "from sklearn.model_selection import train_test_split\n",
    "from sklearn.linear_model import LogisticRegression\n",
    "from sklearn.metrics import classification_report, confusion_matrix, roc_curve, roc_auc_score\n",
    "from sklearn.model_selection import cross_val_score, KFold, GridSearchCV"
   ]
  },
  {
   "cell_type": "markdown",
   "id": "fa20952d",
   "metadata": {
    "jp-MarkdownHeadingCollapsed": true,
    "tags": []
   },
   "source": [
    "# Data Import And Cleaning"
   ]
  },
  {
   "cell_type": "code",
   "execution_count": 5,
   "id": "dd12ed53",
   "metadata": {
    "tags": []
   },
   "outputs": [
    {
     "name": "stderr",
     "output_type": "stream",
     "text": [
      "C:\\Users\\Agustin\\AppData\\Local\\Temp\\ipykernel_9608\\3809932389.py:1: DtypeWarning: Columns (1,6) have mixed types. Specify dtype option on import or set low_memory=False.\n",
      "  flights = pd.read_csv('data/dataset_SCL.csv', parse_dates = ['Fecha-I', 'Fecha-O']) \\\n"
     ]
    },
    {
     "data": {
      "text/html": [
       "<div>\n",
       "<style scoped>\n",
       "    .dataframe tbody tr th:only-of-type {\n",
       "        vertical-align: middle;\n",
       "    }\n",
       "\n",
       "    .dataframe tbody tr th {\n",
       "        vertical-align: top;\n",
       "    }\n",
       "\n",
       "    .dataframe thead th {\n",
       "        text-align: right;\n",
       "    }\n",
       "</style>\n",
       "<table border=\"1\" class=\"dataframe\">\n",
       "  <thead>\n",
       "    <tr style=\"text-align: right;\">\n",
       "      <th></th>\n",
       "      <th>date_s</th>\n",
       "      <th>flight_s</th>\n",
       "      <th>city_code_origin_s</th>\n",
       "      <th>city_code_destination_s</th>\n",
       "      <th>airline_code_s</th>\n",
       "      <th>date_o</th>\n",
       "      <th>flight_o</th>\n",
       "      <th>city_code_origin_o</th>\n",
       "      <th>city_code_destination_o</th>\n",
       "      <th>airline_code_o</th>\n",
       "      <th>wday_o</th>\n",
       "      <th>type</th>\n",
       "      <th>airline_o</th>\n",
       "      <th>city_origin</th>\n",
       "      <th>city_destination</th>\n",
       "    </tr>\n",
       "  </thead>\n",
       "  <tbody>\n",
       "    <tr>\n",
       "      <th>0</th>\n",
       "      <td>2017-01-01 23:30:00</td>\n",
       "      <td>226</td>\n",
       "      <td>SCEL</td>\n",
       "      <td>KMIA</td>\n",
       "      <td>AAL</td>\n",
       "      <td>2017-01-01 23:33:00</td>\n",
       "      <td>226</td>\n",
       "      <td>SCEL</td>\n",
       "      <td>KMIA</td>\n",
       "      <td>AAL</td>\n",
       "      <td>Domingo</td>\n",
       "      <td>I</td>\n",
       "      <td>American Airlines</td>\n",
       "      <td>Santiago</td>\n",
       "      <td>Miami</td>\n",
       "    </tr>\n",
       "    <tr>\n",
       "      <th>1</th>\n",
       "      <td>2017-01-02 23:30:00</td>\n",
       "      <td>226</td>\n",
       "      <td>SCEL</td>\n",
       "      <td>KMIA</td>\n",
       "      <td>AAL</td>\n",
       "      <td>2017-01-02 23:39:00</td>\n",
       "      <td>226</td>\n",
       "      <td>SCEL</td>\n",
       "      <td>KMIA</td>\n",
       "      <td>AAL</td>\n",
       "      <td>Lunes</td>\n",
       "      <td>I</td>\n",
       "      <td>American Airlines</td>\n",
       "      <td>Santiago</td>\n",
       "      <td>Miami</td>\n",
       "    </tr>\n",
       "    <tr>\n",
       "      <th>2</th>\n",
       "      <td>2017-01-03 23:30:00</td>\n",
       "      <td>226</td>\n",
       "      <td>SCEL</td>\n",
       "      <td>KMIA</td>\n",
       "      <td>AAL</td>\n",
       "      <td>2017-01-03 23:39:00</td>\n",
       "      <td>226</td>\n",
       "      <td>SCEL</td>\n",
       "      <td>KMIA</td>\n",
       "      <td>AAL</td>\n",
       "      <td>Martes</td>\n",
       "      <td>I</td>\n",
       "      <td>American Airlines</td>\n",
       "      <td>Santiago</td>\n",
       "      <td>Miami</td>\n",
       "    </tr>\n",
       "    <tr>\n",
       "      <th>3</th>\n",
       "      <td>2017-01-04 23:30:00</td>\n",
       "      <td>226</td>\n",
       "      <td>SCEL</td>\n",
       "      <td>KMIA</td>\n",
       "      <td>AAL</td>\n",
       "      <td>2017-01-04 23:33:00</td>\n",
       "      <td>226</td>\n",
       "      <td>SCEL</td>\n",
       "      <td>KMIA</td>\n",
       "      <td>AAL</td>\n",
       "      <td>Miercoles</td>\n",
       "      <td>I</td>\n",
       "      <td>American Airlines</td>\n",
       "      <td>Santiago</td>\n",
       "      <td>Miami</td>\n",
       "    </tr>\n",
       "    <tr>\n",
       "      <th>4</th>\n",
       "      <td>2017-01-05 23:30:00</td>\n",
       "      <td>226</td>\n",
       "      <td>SCEL</td>\n",
       "      <td>KMIA</td>\n",
       "      <td>AAL</td>\n",
       "      <td>2017-01-05 23:28:00</td>\n",
       "      <td>226</td>\n",
       "      <td>SCEL</td>\n",
       "      <td>KMIA</td>\n",
       "      <td>AAL</td>\n",
       "      <td>Jueves</td>\n",
       "      <td>I</td>\n",
       "      <td>American Airlines</td>\n",
       "      <td>Santiago</td>\n",
       "      <td>Miami</td>\n",
       "    </tr>\n",
       "  </tbody>\n",
       "</table>\n",
       "</div>"
      ],
      "text/plain": [
       "               date_s flight_s city_code_origin_s city_code_destination_s  \\\n",
       "0 2017-01-01 23:30:00      226               SCEL                    KMIA   \n",
       "1 2017-01-02 23:30:00      226               SCEL                    KMIA   \n",
       "2 2017-01-03 23:30:00      226               SCEL                    KMIA   \n",
       "3 2017-01-04 23:30:00      226               SCEL                    KMIA   \n",
       "4 2017-01-05 23:30:00      226               SCEL                    KMIA   \n",
       "\n",
       "  airline_code_s              date_o flight_o city_code_origin_o  \\\n",
       "0            AAL 2017-01-01 23:33:00      226               SCEL   \n",
       "1            AAL 2017-01-02 23:39:00      226               SCEL   \n",
       "2            AAL 2017-01-03 23:39:00      226               SCEL   \n",
       "3            AAL 2017-01-04 23:33:00      226               SCEL   \n",
       "4            AAL 2017-01-05 23:28:00      226               SCEL   \n",
       "\n",
       "  city_code_destination_o airline_code_o     wday_o type          airline_o  \\\n",
       "0                    KMIA            AAL    Domingo    I  American Airlines   \n",
       "1                    KMIA            AAL      Lunes    I  American Airlines   \n",
       "2                    KMIA            AAL     Martes    I  American Airlines   \n",
       "3                    KMIA            AAL  Miercoles    I  American Airlines   \n",
       "4                    KMIA            AAL     Jueves    I  American Airlines   \n",
       "\n",
       "  city_origin city_destination  \n",
       "0    Santiago            Miami  \n",
       "1    Santiago            Miami  \n",
       "2    Santiago            Miami  \n",
       "3    Santiago            Miami  \n",
       "4    Santiago            Miami  "
      ]
     },
     "execution_count": 5,
     "metadata": {},
     "output_type": "execute_result"
    }
   ],
   "source": [
    "flights = pd.read_csv('data/dataset_SCL.csv', parse_dates = ['Fecha-I', 'Fecha-O']) \\\n",
    "    .rename(columns = {'Fecha-I':'date_s', 'Vlo-I':'flight_s', 'Ori-I':'city_code_origin_s', 'Des-I':'city_code_destination_s', \n",
    "                   'Emp-I':'airline_code_s', 'Fecha-O':'date_o', 'Vlo-O':'flight_o', 'Ori-O':'city_code_origin_o', \n",
    "                   'Des-O':'city_code_destination_o', 'Emp-O':'airline_code_o', 'DIANOM':'wday_o', 'TIPOVUELO':'type', \n",
    "                   'OPERA':'airline_o', 'SIGLAORI':'city_origin', 'SIGLADES':'city_destination'}) \\\n",
    "    .drop(['DIA', 'MES', 'AÑO'], axis = 1)\n",
    "#flights['date_o'] = pd.to_datetime(flights[['year_o', 'month_o', 'day_o']])\n",
    "flights.head()\n",
    "#flights.info()"
   ]
  },
  {
   "cell_type": "markdown",
   "id": "ba8f6798",
   "metadata": {},
   "source": [
    "Some columns are identical for scheduled and operation values."
   ]
  },
  {
   "cell_type": "code",
   "execution_count": 59,
   "id": "a2a1b73e",
   "metadata": {},
   "outputs": [
    {
     "data": {
      "text/plain": [
       "1850"
      ]
     },
     "execution_count": 59,
     "metadata": {},
     "output_type": "execute_result"
    }
   ],
   "source": [
    "# sum(flights['city_code_origin_s'] != flights['city_code_origin_o'])\n",
    "# sum(flights['city_code_destination_s'] != flights['city_code_destination_o'])\n",
    "# sum(flights['aeroline_code_s'] != flights['aeroline_code_o'])\n",
    "sum(flights['flight_s'] != flights['flight_o'])\n"
   ]
  },
  {
   "cell_type": "markdown",
   "id": "235da9f0",
   "metadata": {},
   "source": [
    "Cambios de aerolinea"
   ]
  },
  {
   "cell_type": "code",
   "execution_count": 57,
   "id": "f7a7e8b9",
   "metadata": {
    "collapsed": true,
    "jupyter": {
     "outputs_hidden": true
    }
   },
   "outputs": [
    {
     "data": {
      "text/html": [
       "<div>\n",
       "<style scoped>\n",
       "    .dataframe tbody tr th:only-of-type {\n",
       "        vertical-align: middle;\n",
       "    }\n",
       "\n",
       "    .dataframe tbody tr th {\n",
       "        vertical-align: top;\n",
       "    }\n",
       "\n",
       "    .dataframe thead th {\n",
       "        text-align: right;\n",
       "    }\n",
       "</style>\n",
       "<table border=\"1\" class=\"dataframe\">\n",
       "  <thead>\n",
       "    <tr style=\"text-align: right;\">\n",
       "      <th></th>\n",
       "      <th>aeroline_code_s</th>\n",
       "      <th>aeroline_code_o</th>\n",
       "      <th>n</th>\n",
       "    </tr>\n",
       "  </thead>\n",
       "  <tbody>\n",
       "    <tr>\n",
       "      <th>7</th>\n",
       "      <td>LAN</td>\n",
       "      <td>LXP</td>\n",
       "      <td>14549</td>\n",
       "    </tr>\n",
       "    <tr>\n",
       "      <th>10</th>\n",
       "      <td>LAW</td>\n",
       "      <td>JMR</td>\n",
       "      <td>1547</td>\n",
       "    </tr>\n",
       "    <tr>\n",
       "      <th>6</th>\n",
       "      <td>LAN</td>\n",
       "      <td>LPE</td>\n",
       "      <td>1210</td>\n",
       "    </tr>\n",
       "    <tr>\n",
       "      <th>4</th>\n",
       "      <td>LAN</td>\n",
       "      <td>DSM</td>\n",
       "      <td>491</td>\n",
       "    </tr>\n",
       "    <tr>\n",
       "      <th>5</th>\n",
       "      <td>LAN</td>\n",
       "      <td>LNE</td>\n",
       "      <td>373</td>\n",
       "    </tr>\n",
       "    <tr>\n",
       "      <th>2</th>\n",
       "      <td>AVA</td>\n",
       "      <td>LRC</td>\n",
       "      <td>265</td>\n",
       "    </tr>\n",
       "    <tr>\n",
       "      <th>11</th>\n",
       "      <td>QFU</td>\n",
       "      <td>QFA</td>\n",
       "      <td>195</td>\n",
       "    </tr>\n",
       "    <tr>\n",
       "      <th>9</th>\n",
       "      <td>LAW</td>\n",
       "      <td>56R</td>\n",
       "      <td>17</td>\n",
       "    </tr>\n",
       "    <tr>\n",
       "      <th>8</th>\n",
       "      <td>LAW</td>\n",
       "      <td>48O</td>\n",
       "      <td>10</td>\n",
       "    </tr>\n",
       "    <tr>\n",
       "      <th>0</th>\n",
       "      <td>ARG</td>\n",
       "      <td>AUT</td>\n",
       "      <td>5</td>\n",
       "    </tr>\n",
       "    <tr>\n",
       "      <th>12</th>\n",
       "      <td>TAM</td>\n",
       "      <td>LAP</td>\n",
       "      <td>3</td>\n",
       "    </tr>\n",
       "    <tr>\n",
       "      <th>1</th>\n",
       "      <td>AUT</td>\n",
       "      <td>ARG</td>\n",
       "      <td>2</td>\n",
       "    </tr>\n",
       "    <tr>\n",
       "      <th>3</th>\n",
       "      <td>AVA</td>\n",
       "      <td>TPU</td>\n",
       "      <td>2</td>\n",
       "    </tr>\n",
       "  </tbody>\n",
       "</table>\n",
       "</div>"
      ],
      "text/plain": [
       "   aeroline_code_s aeroline_code_o      n\n",
       "7              LAN             LXP  14549\n",
       "10             LAW             JMR   1547\n",
       "6              LAN             LPE   1210\n",
       "4              LAN             DSM    491\n",
       "5              LAN             LNE    373\n",
       "2              AVA             LRC    265\n",
       "11             QFU             QFA    195\n",
       "9              LAW             56R     17\n",
       "8              LAW             48O     10\n",
       "0              ARG             AUT      5\n",
       "12             TAM             LAP      3\n",
       "1              AUT             ARG      2\n",
       "3              AVA             TPU      2"
      ]
     },
     "execution_count": 57,
     "metadata": {},
     "output_type": "execute_result"
    }
   ],
   "source": [
    "pd.DataFrame(\n",
    "    flights[flights['aeroline_code_s'] != flights['aeroline_code_o']] \\\n",
    "    .groupby(['aeroline_code_s', 'aeroline_code_o']) \\\n",
    "    .size() \\\n",
    "    .reset_index(name = 'n') \\\n",
    "    .sort_values('n', ascending = False))\n",
    "# flights[flights['aeroline_code_s'] != flights['aeroline_code_o']].size('aeroline_code_s', 'aeroline_code_o')"
   ]
  },
  {
   "cell_type": "markdown",
   "id": "7d3f5396",
   "metadata": {
    "jp-MarkdownHeadingCollapsed": true,
    "tags": []
   },
   "source": [
    "# Data Distribution"
   ]
  },
  {
   "cell_type": "markdown",
   "id": "26e29ea5",
   "metadata": {
    "jp-MarkdownHeadingCollapsed": true,
    "tags": []
   },
   "source": [
    "## Number of Flights Over Time"
   ]
  },
  {
   "cell_type": "code",
   "execution_count": 85,
   "id": "591f823c",
   "metadata": {
    "collapsed": true,
    "jupyter": {
     "outputs_hidden": true
    }
   },
   "outputs": [
    {
     "data": {
      "text/plain": [
       "<Axes: xlabel='date_o'>"
      ]
     },
     "execution_count": 85,
     "metadata": {},
     "output_type": "execute_result"
    },
    {
     "data": {
      "image/png": "[encoded data removed]",
      "text/plain": [
       "<Figure size 640x480 with 1 Axes>"
      ]
     },
     "metadata": {},
     "output_type": "display_data"
    }
   ],
   "source": [
    "flights.resample('D', on = 'date_o').size().plot()"
   ]
  },
  {
   "cell_type": "markdown",
   "id": "2353bfa6",
   "metadata": {},
   "source": [
    "In order to eliminate the weekly seasonality and observe more easily the trends, I also plotted the number of flight per week"
   ]
  },
  {
   "cell_type": "code",
   "execution_count": 84,
   "id": "b8e918cc",
   "metadata": {
    "collapsed": true,
    "jupyter": {
     "outputs_hidden": true
    }
   },
   "outputs": [
    {
     "data": {
      "text/plain": [
       "<Axes: xlabel='date_o'>"
      ]
     },
     "execution_count": 84,
     "metadata": {},
     "output_type": "execute_result"
    },
    {
     "data": {
      "image/png": "[encoded data removed]",
      "text/plain": [
       "<Figure size 640x480 with 1 Axes>"
      ]
     },
     "metadata": {},
     "output_type": "display_data"
    }
   ],
   "source": [
    "flights.resample('W', on = 'date_o').size().plot()"
   ]
  },
  {
   "cell_type": "markdown",
   "id": "9cc4dd0f",
   "metadata": {},
   "source": [
    "Distribution of flights per day of the week"
   ]
  },
  {
   "cell_type": "code",
   "execution_count": 103,
   "id": "b21209fb",
   "metadata": {
    "collapsed": true,
    "jupyter": {
     "outputs_hidden": true
    }
   },
   "outputs": [
    {
     "data": {
      "text/plain": [
       "<Axes: xlabel='wday_o'>"
      ]
     },
     "execution_count": 103,
     "metadata": {},
     "output_type": "execute_result"
    },
    {
     "data": {
      "image/png": "[encoded data removed]",
      "text/plain": [
       "<Figure size 640x480 with 1 Axes>"
      ]
     },
     "metadata": {},
     "output_type": "display_data"
    }
   ],
   "source": [
    "flights.groupby('wday_o').size().plot(kind = 'bar')"
   ]
  },
  {
   "cell_type": "markdown",
   "id": "630dc378",
   "metadata": {
    "jp-MarkdownHeadingCollapsed": true,
    "tags": []
   },
   "source": [
    "## Origins and Destinations"
   ]
  },
  {
   "cell_type": "markdown",
   "id": "4e394632",
   "metadata": {},
   "source": [
    "All flights take off from Santiago, and none of them lands in Santiago"
   ]
  },
  {
   "cell_type": "code",
   "execution_count": 87,
   "id": "81ab5467",
   "metadata": {
    "collapsed": true,
    "jupyter": {
     "outputs_hidden": true
    }
   },
   "outputs": [
    {
     "data": {
      "text/html": [
       "<div>\n",
       "<style scoped>\n",
       "    .dataframe tbody tr th:only-of-type {\n",
       "        vertical-align: middle;\n",
       "    }\n",
       "\n",
       "    .dataframe tbody tr th {\n",
       "        vertical-align: top;\n",
       "    }\n",
       "\n",
       "    .dataframe thead th {\n",
       "        text-align: right;\n",
       "    }\n",
       "</style>\n",
       "<table border=\"1\" class=\"dataframe\">\n",
       "  <thead>\n",
       "    <tr style=\"text-align: right;\">\n",
       "      <th></th>\n",
       "      <th>city_destination</th>\n",
       "      <th>city_code_destination_o</th>\n",
       "      <th>city_code_destination_s</th>\n",
       "      <th>n</th>\n",
       "    </tr>\n",
       "  </thead>\n",
       "  <tbody>\n",
       "    <tr>\n",
       "      <th>0</th>\n",
       "      <td>Antofagasta</td>\n",
       "      <td>SCFA</td>\n",
       "      <td>SCFA</td>\n",
       "      <td>5786</td>\n",
       "    </tr>\n",
       "    <tr>\n",
       "      <th>34</th>\n",
       "      <td>Lima</td>\n",
       "      <td>SPJC</td>\n",
       "      <td>SPJC</td>\n",
       "      <td>5270</td>\n",
       "    </tr>\n",
       "    <tr>\n",
       "      <th>13</th>\n",
       "      <td>Calama</td>\n",
       "      <td>SCCF</td>\n",
       "      <td>SCCF</td>\n",
       "      <td>5145</td>\n",
       "    </tr>\n",
       "    <tr>\n",
       "      <th>53</th>\n",
       "      <td>Puerto Montt</td>\n",
       "      <td>SCTE</td>\n",
       "      <td>SCTE</td>\n",
       "      <td>4351</td>\n",
       "    </tr>\n",
       "    <tr>\n",
       "      <th>22</th>\n",
       "      <td>Concepcion</td>\n",
       "      <td>SCIE</td>\n",
       "      <td>SCIE</td>\n",
       "      <td>3993</td>\n",
       "    </tr>\n",
       "    <tr>\n",
       "      <th>...</th>\n",
       "      <td>...</td>\n",
       "      <td>...</td>\n",
       "      <td>...</td>\n",
       "      <td>...</td>\n",
       "    </tr>\n",
       "    <tr>\n",
       "      <th>18</th>\n",
       "      <td>Cataratas Iguacu</td>\n",
       "      <td>SBFI</td>\n",
       "      <td>SBFI</td>\n",
       "      <td>1</td>\n",
       "    </tr>\n",
       "    <tr>\n",
       "      <th>17</th>\n",
       "      <td>Cataratas Iguacu</td>\n",
       "      <td>SBFI</td>\n",
       "      <td>SARI</td>\n",
       "      <td>1</td>\n",
       "    </tr>\n",
       "    <tr>\n",
       "      <th>14</th>\n",
       "      <td>Calama</td>\n",
       "      <td>SCCF</td>\n",
       "      <td>SCFA</td>\n",
       "      <td>1</td>\n",
       "    </tr>\n",
       "    <tr>\n",
       "      <th>10</th>\n",
       "      <td>Buenos Aires</td>\n",
       "      <td>SABE</td>\n",
       "      <td>SEGU</td>\n",
       "      <td>1</td>\n",
       "    </tr>\n",
       "    <tr>\n",
       "      <th>77</th>\n",
       "      <td>Washington</td>\n",
       "      <td>KIAD</td>\n",
       "      <td>KIAH</td>\n",
       "      <td>1</td>\n",
       "    </tr>\n",
       "  </tbody>\n",
       "</table>\n",
       "<p>78 rows × 4 columns</p>\n",
       "</div>"
      ],
      "text/plain": [
       "    city_destination city_code_destination_o city_code_destination_s     n\n",
       "0        Antofagasta                    SCFA                    SCFA  5786\n",
       "34              Lima                    SPJC                    SPJC  5270\n",
       "13            Calama                    SCCF                    SCCF  5145\n",
       "53      Puerto Montt                    SCTE                    SCTE  4351\n",
       "22        Concepcion                    SCIE                    SCIE  3993\n",
       "..               ...                     ...                     ...   ...\n",
       "18  Cataratas Iguacu                    SBFI                    SBFI     1\n",
       "17  Cataratas Iguacu                    SBFI                    SARI     1\n",
       "14            Calama                    SCCF                    SCFA     1\n",
       "10      Buenos Aires                    SABE                    SEGU     1\n",
       "77        Washington                    KIAD                    KIAH     1\n",
       "\n",
       "[78 rows x 4 columns]"
      ]
     },
     "execution_count": 87,
     "metadata": {},
     "output_type": "execute_result"
    }
   ],
   "source": [
    "flights['city_origin'].value_counts()\n",
    "pd.DataFrame(flights.groupby(['city_origin', 'city_code_origin_o', 'city_code_origin_s']).size())\n",
    "pd.DataFrame(flights.groupby(['city_destination', 'city_code_destination_o', 'city_code_destination_s']) \\\n",
    "             .size() \\\n",
    "             .reset_index(name = 'n') \\\n",
    "             .sort_values('n', ascending = False)\n",
    "            )\n",
    "# sum(flights['city_code_destination_o'] == 'SCEL')"
   ]
  },
  {
   "cell_type": "markdown",
   "id": "f84d7251",
   "metadata": {},
   "source": [
    "Distribution of destinations"
   ]
  },
  {
   "cell_type": "code",
   "execution_count": 102,
   "id": "9933e92d",
   "metadata": {
    "tags": []
   },
   "outputs": [
    {
     "data": {
      "text/plain": [
       "<Axes: xlabel='city_destination'>"
      ]
     },
     "execution_count": 102,
     "metadata": {},
     "output_type": "execute_result"
    },
    {
     "data": {
      "image/png": "[encoded data removed]",
      "text/plain": [
       "<Figure size 2000x500 with 1 Axes>"
      ]
     },
     "metadata": {},
     "output_type": "display_data"
    }
   ],
   "source": [
    "flights.groupby('city_destination').size().reset_index(name = 'n') \\\n",
    "    .sort_values('n', ascending = False) \\\n",
    "    .plot(x = 'city_destination', y = 'n', kind = 'bar', figsize=(20, 5))"
   ]
  },
  {
   "cell_type": "markdown",
   "id": "111f40f5",
   "metadata": {},
   "source": [
    "Number of flight by type"
   ]
  },
  {
   "cell_type": "code",
   "execution_count": 106,
   "id": "e62b9fa6",
   "metadata": {
    "collapsed": true,
    "jupyter": {
     "outputs_hidden": true
    }
   },
   "outputs": [
    {
     "data": {
      "text/plain": [
       "<Axes: xlabel='type'>"
      ]
     },
     "execution_count": 106,
     "metadata": {},
     "output_type": "execute_result"
    },
    {
     "data": {
      "image/png": "[encoded data removed]",
      "text/plain": [
       "<Figure size 2000x500 with 1 Axes>"
      ]
     },
     "metadata": {},
     "output_type": "display_data"
    }
   ],
   "source": [
    "flights.groupby('type').size().reset_index(name = 'n') \\\n",
    "    .sort_values('n', ascending = False) \\\n",
    "    .plot(x = 'type', y = 'n', kind = 'bar', figsize=(20, 5))"
   ]
  },
  {
   "cell_type": "markdown",
   "id": "88d2850f",
   "metadata": {
    "jp-MarkdownHeadingCollapsed": true,
    "tags": []
   },
   "source": [
    "## Flights by Airline"
   ]
  },
  {
   "cell_type": "markdown",
   "id": "24306834",
   "metadata": {},
   "source": [
    "Sometimes different airline codes have the same airline name. In particular, Grupo Latam had 7 different codes in 2017, which probably correspond to the same company or holding in different countries."
   ]
  },
  {
   "cell_type": "code",
   "execution_count": 114,
   "id": "40c2fb06",
   "metadata": {
    "tags": []
   },
   "outputs": [
    {
     "data": {
      "text/html": [
       "<div>\n",
       "<style scoped>\n",
       "    .dataframe tbody tr th:only-of-type {\n",
       "        vertical-align: middle;\n",
       "    }\n",
       "\n",
       "    .dataframe tbody tr th {\n",
       "        vertical-align: top;\n",
       "    }\n",
       "\n",
       "    .dataframe thead th {\n",
       "        text-align: right;\n",
       "    }\n",
       "</style>\n",
       "<table border=\"1\" class=\"dataframe\">\n",
       "  <thead>\n",
       "    <tr style=\"text-align: right;\">\n",
       "      <th></th>\n",
       "      <th>airline_o</th>\n",
       "      <th>airline_code_o</th>\n",
       "      <th>n</th>\n",
       "    </tr>\n",
       "  </thead>\n",
       "  <tbody>\n",
       "    <tr>\n",
       "      <th>0</th>\n",
       "      <td>Aerolineas Argentinas</td>\n",
       "      <td>ARG</td>\n",
       "      <td>1944</td>\n",
       "    </tr>\n",
       "    <tr>\n",
       "      <th>1</th>\n",
       "      <td>Aerolineas Argentinas</td>\n",
       "      <td>AUT</td>\n",
       "      <td>5</td>\n",
       "    </tr>\n",
       "    <tr>\n",
       "      <th>2</th>\n",
       "      <td>Aeromexico</td>\n",
       "      <td>AMX</td>\n",
       "      <td>351</td>\n",
       "    </tr>\n",
       "    <tr>\n",
       "      <th>3</th>\n",
       "      <td>Air Canada</td>\n",
       "      <td>ACA</td>\n",
       "      <td>565</td>\n",
       "    </tr>\n",
       "    <tr>\n",
       "      <th>4</th>\n",
       "      <td>Air France</td>\n",
       "      <td>AFR</td>\n",
       "      <td>358</td>\n",
       "    </tr>\n",
       "    <tr>\n",
       "      <th>5</th>\n",
       "      <td>Alitalia</td>\n",
       "      <td>AZA</td>\n",
       "      <td>259</td>\n",
       "    </tr>\n",
       "    <tr>\n",
       "      <th>6</th>\n",
       "      <td>American Airlines</td>\n",
       "      <td>AAL</td>\n",
       "      <td>757</td>\n",
       "    </tr>\n",
       "    <tr>\n",
       "      <th>8</th>\n",
       "      <td>Austral</td>\n",
       "      <td>AUT</td>\n",
       "      <td>72</td>\n",
       "    </tr>\n",
       "    <tr>\n",
       "      <th>7</th>\n",
       "      <td>Austral</td>\n",
       "      <td>ARG</td>\n",
       "      <td>2</td>\n",
       "    </tr>\n",
       "    <tr>\n",
       "      <th>9</th>\n",
       "      <td>Avianca</td>\n",
       "      <td>AVA</td>\n",
       "      <td>885</td>\n",
       "    </tr>\n",
       "    <tr>\n",
       "      <th>10</th>\n",
       "      <td>Avianca</td>\n",
       "      <td>LRC</td>\n",
       "      <td>265</td>\n",
       "    </tr>\n",
       "    <tr>\n",
       "      <th>11</th>\n",
       "      <td>Avianca</td>\n",
       "      <td>TPU</td>\n",
       "      <td>2</td>\n",
       "    </tr>\n",
       "    <tr>\n",
       "      <th>12</th>\n",
       "      <td>British Airways</td>\n",
       "      <td>BAW</td>\n",
       "      <td>205</td>\n",
       "    </tr>\n",
       "    <tr>\n",
       "      <th>13</th>\n",
       "      <td>Copa Air</td>\n",
       "      <td>CMP</td>\n",
       "      <td>1850</td>\n",
       "    </tr>\n",
       "    <tr>\n",
       "      <th>14</th>\n",
       "      <td>Delta Air</td>\n",
       "      <td>DAL</td>\n",
       "      <td>358</td>\n",
       "    </tr>\n",
       "    <tr>\n",
       "      <th>15</th>\n",
       "      <td>Gol Trans</td>\n",
       "      <td>GLO</td>\n",
       "      <td>806</td>\n",
       "    </tr>\n",
       "    <tr>\n",
       "      <th>17</th>\n",
       "      <td>Grupo LATAM</td>\n",
       "      <td>LAN</td>\n",
       "      <td>20988</td>\n",
       "    </tr>\n",
       "    <tr>\n",
       "      <th>21</th>\n",
       "      <td>Grupo LATAM</td>\n",
       "      <td>LXP</td>\n",
       "      <td>14558</td>\n",
       "    </tr>\n",
       "    <tr>\n",
       "      <th>22</th>\n",
       "      <td>Grupo LATAM</td>\n",
       "      <td>TAM</td>\n",
       "      <td>3046</td>\n",
       "    </tr>\n",
       "    <tr>\n",
       "      <th>20</th>\n",
       "      <td>Grupo LATAM</td>\n",
       "      <td>LPE</td>\n",
       "      <td>1214</td>\n",
       "    </tr>\n",
       "    <tr>\n",
       "      <th>16</th>\n",
       "      <td>Grupo LATAM</td>\n",
       "      <td>DSM</td>\n",
       "      <td>493</td>\n",
       "    </tr>\n",
       "    <tr>\n",
       "      <th>19</th>\n",
       "      <td>Grupo LATAM</td>\n",
       "      <td>LNE</td>\n",
       "      <td>374</td>\n",
       "    </tr>\n",
       "    <tr>\n",
       "      <th>18</th>\n",
       "      <td>Grupo LATAM</td>\n",
       "      <td>LAP</td>\n",
       "      <td>219</td>\n",
       "    </tr>\n",
       "    <tr>\n",
       "      <th>23</th>\n",
       "      <td>Iberia</td>\n",
       "      <td>IBE</td>\n",
       "      <td>362</td>\n",
       "    </tr>\n",
       "    <tr>\n",
       "      <th>24</th>\n",
       "      <td>JetSmart SPA</td>\n",
       "      <td>JAT</td>\n",
       "      <td>1095</td>\n",
       "    </tr>\n",
       "    <tr>\n",
       "      <th>25</th>\n",
       "      <td>K.L.M.</td>\n",
       "      <td>KLM</td>\n",
       "      <td>251</td>\n",
       "    </tr>\n",
       "    <tr>\n",
       "      <th>26</th>\n",
       "      <td>Lacsa</td>\n",
       "      <td>LRC</td>\n",
       "      <td>92</td>\n",
       "    </tr>\n",
       "    <tr>\n",
       "      <th>29</th>\n",
       "      <td>Latin American Wings</td>\n",
       "      <td>JMR</td>\n",
       "      <td>1647</td>\n",
       "    </tr>\n",
       "    <tr>\n",
       "      <th>28</th>\n",
       "      <td>Latin American Wings</td>\n",
       "      <td>56R</td>\n",
       "      <td>17</td>\n",
       "    </tr>\n",
       "    <tr>\n",
       "      <th>27</th>\n",
       "      <td>Latin American Wings</td>\n",
       "      <td>48O</td>\n",
       "      <td>10</td>\n",
       "    </tr>\n",
       "    <tr>\n",
       "      <th>30</th>\n",
       "      <td>Oceanair Linhas Aereas</td>\n",
       "      <td>ONE</td>\n",
       "      <td>279</td>\n",
       "    </tr>\n",
       "    <tr>\n",
       "      <th>31</th>\n",
       "      <td>Plus Ultra Lineas Aereas</td>\n",
       "      <td>PUE</td>\n",
       "      <td>49</td>\n",
       "    </tr>\n",
       "    <tr>\n",
       "      <th>32</th>\n",
       "      <td>Qantas Airways</td>\n",
       "      <td>QFA</td>\n",
       "      <td>195</td>\n",
       "    </tr>\n",
       "    <tr>\n",
       "      <th>33</th>\n",
       "      <td>Sky Airline</td>\n",
       "      <td>SKU</td>\n",
       "      <td>14298</td>\n",
       "    </tr>\n",
       "    <tr>\n",
       "      <th>34</th>\n",
       "      <td>United Airlines</td>\n",
       "      <td>UAL</td>\n",
       "      <td>335</td>\n",
       "    </tr>\n",
       "  </tbody>\n",
       "</table>\n",
       "</div>"
      ],
      "text/plain": [
       "                   airline_o airline_code_o      n\n",
       "0      Aerolineas Argentinas            ARG   1944\n",
       "1      Aerolineas Argentinas            AUT      5\n",
       "2                 Aeromexico            AMX    351\n",
       "3                 Air Canada            ACA    565\n",
       "4                 Air France            AFR    358\n",
       "5                   Alitalia            AZA    259\n",
       "6          American Airlines            AAL    757\n",
       "8                    Austral            AUT     72\n",
       "7                    Austral            ARG      2\n",
       "9                    Avianca            AVA    885\n",
       "10                   Avianca            LRC    265\n",
       "11                   Avianca            TPU      2\n",
       "12           British Airways            BAW    205\n",
       "13                  Copa Air            CMP   1850\n",
       "14                 Delta Air            DAL    358\n",
       "15                 Gol Trans            GLO    806\n",
       "17               Grupo LATAM            LAN  20988\n",
       "21               Grupo LATAM            LXP  14558\n",
       "22               Grupo LATAM            TAM   3046\n",
       "20               Grupo LATAM            LPE   1214\n",
       "16               Grupo LATAM            DSM    493\n",
       "19               Grupo LATAM            LNE    374\n",
       "18               Grupo LATAM            LAP    219\n",
       "23                    Iberia            IBE    362\n",
       "24              JetSmart SPA            JAT   1095\n",
       "25                    K.L.M.            KLM    251\n",
       "26                     Lacsa            LRC     92\n",
       "29      Latin American Wings            JMR   1647\n",
       "28      Latin American Wings            56R     17\n",
       "27      Latin American Wings            48O     10\n",
       "30    Oceanair Linhas Aereas            ONE    279\n",
       "31  Plus Ultra Lineas Aereas            PUE     49\n",
       "32            Qantas Airways            QFA    195\n",
       "33               Sky Airline            SKU  14298\n",
       "34           United Airlines            UAL    335"
      ]
     },
     "execution_count": 114,
     "metadata": {},
     "output_type": "execute_result"
    }
   ],
   "source": [
    "flights.groupby(['airline_o', 'airline_code_o']).size().reset_index(name = 'n').sort_values(['airline_o', 'n'], ascending = [True, False])"
   ]
  },
  {
   "cell_type": "markdown",
   "id": "fb1c45b1",
   "metadata": {},
   "source": [
    "Number of flights by names of airline."
   ]
  },
  {
   "cell_type": "code",
   "execution_count": 109,
   "id": "32046647",
   "metadata": {
    "collapsed": true,
    "jupyter": {
     "outputs_hidden": true
    }
   },
   "outputs": [
    {
     "data": {
      "text/plain": [
       "<Axes: xlabel='airline_o'>"
      ]
     },
     "execution_count": 109,
     "metadata": {},
     "output_type": "execute_result"
    },
    {
     "data": {
      "image/png": "[encoded data removed]",
      "text/plain": [
       "<Figure size 2000x500 with 1 Axes>"
      ]
     },
     "metadata": {},
     "output_type": "display_data"
    }
   ],
   "source": [
    "flights.groupby('airline_o').size().reset_index(name = 'n') \\\n",
    "    .sort_values('n', ascending = False) \\\n",
    "    .plot(x = 'airline_o', y = 'n', kind = 'bar', figsize=(20, 5))"
   ]
  },
  {
   "cell_type": "markdown",
   "id": "98a93558",
   "metadata": {
    "jp-MarkdownHeadingCollapsed": true,
    "tags": []
   },
   "source": [
    "# Feature Engineering"
   ]
  },
  {
   "cell_type": "markdown",
   "id": "0f3602d6",
   "metadata": {},
   "source": [
    "The high_season, min_diff, delay_15 and period_day columns are added"
   ]
  },
  {
   "cell_type": "code",
   "execution_count": 180,
   "id": "94494796",
   "metadata": {
    "tags": []
   },
   "outputs": [],
   "source": [
    "# high_season\n",
    "flights['high_season'] = (flights['date_s'].dt.date <= dt.date(2017, 3, 3)) | \\\n",
    "    (flights['date_s'].dt.date >= dt.date(2017, 12, 15)) | \\\n",
    "    ((flights['date_s'].dt.date >= dt.date(2017, 7, 15)) & \n",
    "        (flights['date_s'].dt.date <= dt.date(2017, 7, 31))) | \\\n",
    "    ((flights['date_s'].dt.date >= dt.date(2017, 9, 11)) & \n",
    "        (flights['date_s'].dt.date <= dt.date(2017, 9, 30)))\n",
    "flights['high_season'] = flights['high_season'].astype('int')\n",
    "\n",
    "# min_diff\n",
    "flights['min_diff'] = (flights['date_o'] - flights['date_s']).dt.total_seconds() / 60\n",
    "\n",
    "# delay_15\n",
    "flights['delay_15'] = flights['min_diff'] > 15\n",
    "flights['delay_15'] = flights['delay_15'].astype('int')\n",
    "\n",
    "# period_day\n",
    "bins_period_day = [-1, 4, 11, 18, 24]\n",
    "labels_period_day = ['night', 'morning', 'afternoon', 'night']\n",
    "flights['period_day'] = pd.cut(flights['date_s'].dt.hour, bins = bins_period_day, \n",
    "                                 labels = labels_period_day, ordered = False)"
   ]
  },
  {
   "cell_type": "markdown",
   "id": "3ca774d7-dcb4-49e6-b11e-6c204dcfcb19",
   "metadata": {
    "tags": []
   },
   "source": [
    "Check for period_day column"
   ]
  },
  {
   "cell_type": "code",
   "execution_count": 85,
   "id": "fcf2439f-5837-4553-803d-4b8e64e698bb",
   "metadata": {
    "collapsed": true,
    "jupyter": {
     "outputs_hidden": true
    },
    "tags": []
   },
   "outputs": [
    {
     "data": {
      "text/html": [
       "<div>\n",
       "<style scoped>\n",
       "    .dataframe tbody tr th:only-of-type {\n",
       "        vertical-align: middle;\n",
       "    }\n",
       "\n",
       "    .dataframe tbody tr th {\n",
       "        vertical-align: top;\n",
       "    }\n",
       "\n",
       "    .dataframe thead th {\n",
       "        text-align: right;\n",
       "    }\n",
       "</style>\n",
       "<table border=\"1\" class=\"dataframe\">\n",
       "  <thead>\n",
       "    <tr style=\"text-align: right;\">\n",
       "      <th></th>\n",
       "      <th>hour_s</th>\n",
       "      <th>period_day</th>\n",
       "    </tr>\n",
       "  </thead>\n",
       "  <tbody>\n",
       "    <tr>\n",
       "      <th>438</th>\n",
       "      <td>12</td>\n",
       "      <td>afternoon</td>\n",
       "    </tr>\n",
       "    <tr>\n",
       "      <th>79</th>\n",
       "      <td>13</td>\n",
       "      <td>afternoon</td>\n",
       "    </tr>\n",
       "    <tr>\n",
       "      <th>138</th>\n",
       "      <td>14</td>\n",
       "      <td>afternoon</td>\n",
       "    </tr>\n",
       "    <tr>\n",
       "      <th>1179</th>\n",
       "      <td>15</td>\n",
       "      <td>afternoon</td>\n",
       "    </tr>\n",
       "    <tr>\n",
       "      <th>254</th>\n",
       "      <td>16</td>\n",
       "      <td>afternoon</td>\n",
       "    </tr>\n",
       "    <tr>\n",
       "      <th>350</th>\n",
       "      <td>17</td>\n",
       "      <td>afternoon</td>\n",
       "    </tr>\n",
       "    <tr>\n",
       "      <th>461</th>\n",
       "      <td>18</td>\n",
       "      <td>afternoon</td>\n",
       "    </tr>\n",
       "    <tr>\n",
       "      <th>477</th>\n",
       "      <td>5</td>\n",
       "      <td>morning</td>\n",
       "    </tr>\n",
       "    <tr>\n",
       "      <th>407</th>\n",
       "      <td>6</td>\n",
       "      <td>morning</td>\n",
       "    </tr>\n",
       "    <tr>\n",
       "      <th>347</th>\n",
       "      <td>7</td>\n",
       "      <td>morning</td>\n",
       "    </tr>\n",
       "    <tr>\n",
       "      <th>314</th>\n",
       "      <td>8</td>\n",
       "      <td>morning</td>\n",
       "    </tr>\n",
       "    <tr>\n",
       "      <th>229</th>\n",
       "      <td>9</td>\n",
       "      <td>morning</td>\n",
       "    </tr>\n",
       "    <tr>\n",
       "      <th>201</th>\n",
       "      <td>10</td>\n",
       "      <td>morning</td>\n",
       "    </tr>\n",
       "    <tr>\n",
       "      <th>437</th>\n",
       "      <td>11</td>\n",
       "      <td>morning</td>\n",
       "    </tr>\n",
       "    <tr>\n",
       "      <th>169</th>\n",
       "      <td>0</td>\n",
       "      <td>night</td>\n",
       "    </tr>\n",
       "    <tr>\n",
       "      <th>409</th>\n",
       "      <td>1</td>\n",
       "      <td>night</td>\n",
       "    </tr>\n",
       "    <tr>\n",
       "      <th>740</th>\n",
       "      <td>2</td>\n",
       "      <td>night</td>\n",
       "    </tr>\n",
       "    <tr>\n",
       "      <th>539</th>\n",
       "      <td>3</td>\n",
       "      <td>night</td>\n",
       "    </tr>\n",
       "    <tr>\n",
       "      <th>983</th>\n",
       "      <td>4</td>\n",
       "      <td>night</td>\n",
       "    </tr>\n",
       "    <tr>\n",
       "      <th>285</th>\n",
       "      <td>19</td>\n",
       "      <td>night</td>\n",
       "    </tr>\n",
       "    <tr>\n",
       "      <th>1000</th>\n",
       "      <td>20</td>\n",
       "      <td>night</td>\n",
       "    </tr>\n",
       "    <tr>\n",
       "      <th>109</th>\n",
       "      <td>21</td>\n",
       "      <td>night</td>\n",
       "    </tr>\n",
       "    <tr>\n",
       "      <th>18</th>\n",
       "      <td>22</td>\n",
       "      <td>night</td>\n",
       "    </tr>\n",
       "    <tr>\n",
       "      <th>0</th>\n",
       "      <td>23</td>\n",
       "      <td>night</td>\n",
       "    </tr>\n",
       "  </tbody>\n",
       "</table>\n",
       "</div>"
      ],
      "text/plain": [
       "      hour_s period_day\n",
       "438       12  afternoon\n",
       "79        13  afternoon\n",
       "138       14  afternoon\n",
       "1179      15  afternoon\n",
       "254       16  afternoon\n",
       "350       17  afternoon\n",
       "461       18  afternoon\n",
       "477        5    morning\n",
       "407        6    morning\n",
       "347        7    morning\n",
       "314        8    morning\n",
       "229        9    morning\n",
       "201       10    morning\n",
       "437       11    morning\n",
       "169        0      night\n",
       "409        1      night\n",
       "740        2      night\n",
       "539        3      night\n",
       "983        4      night\n",
       "285       19      night\n",
       "1000      20      night\n",
       "109       21      night\n",
       "18        22      night\n",
       "0         23      night"
      ]
     },
     "execution_count": 85,
     "metadata": {},
     "output_type": "execute_result"
    }
   ],
   "source": [
    "pd.set_option('display.max_rows', 24)\n",
    "flights['hour_s'] = flights['date_s'].dt.hour\n",
    "flights[['hour_s', 'period_day']].drop_duplicates().sort_values(['period_day', 'hour_s'])"
   ]
  },
  {
   "cell_type": "markdown",
   "id": "24494d96",
   "metadata": {},
   "source": [
    "Check of the high_season column"
   ]
  },
  {
   "cell_type": "code",
   "execution_count": 55,
   "id": "659a7e3d",
   "metadata": {
    "collapsed": true,
    "jupyter": {
     "outputs_hidden": true
    },
    "tags": []
   },
   "outputs": [
    {
     "data": {
      "text/html": [
       "<div>\n",
       "<style scoped>\n",
       "    .dataframe tbody tr th:only-of-type {\n",
       "        vertical-align: middle;\n",
       "    }\n",
       "\n",
       "    .dataframe tbody tr th {\n",
       "        vertical-align: top;\n",
       "    }\n",
       "\n",
       "    .dataframe thead th {\n",
       "        text-align: right;\n",
       "    }\n",
       "</style>\n",
       "<table border=\"1\" class=\"dataframe\">\n",
       "  <thead>\n",
       "    <tr style=\"text-align: right;\">\n",
       "      <th></th>\n",
       "      <th>date_wo_time</th>\n",
       "      <th>high_season</th>\n",
       "    </tr>\n",
       "  </thead>\n",
       "  <tbody>\n",
       "    <tr>\n",
       "      <th>0</th>\n",
       "      <td>2017-01-01</td>\n",
       "      <td>True</td>\n",
       "    </tr>\n",
       "    <tr>\n",
       "      <th>1</th>\n",
       "      <td>2017-01-02</td>\n",
       "      <td>True</td>\n",
       "    </tr>\n",
       "    <tr>\n",
       "      <th>2</th>\n",
       "      <td>2017-01-03</td>\n",
       "      <td>True</td>\n",
       "    </tr>\n",
       "    <tr>\n",
       "      <th>3</th>\n",
       "      <td>2017-01-04</td>\n",
       "      <td>True</td>\n",
       "    </tr>\n",
       "    <tr>\n",
       "      <th>4</th>\n",
       "      <td>2017-01-05</td>\n",
       "      <td>True</td>\n",
       "    </tr>\n",
       "    <tr>\n",
       "      <th>...</th>\n",
       "      <td>...</td>\n",
       "      <td>...</td>\n",
       "    </tr>\n",
       "    <tr>\n",
       "      <th>61858</th>\n",
       "      <td>2017-12-27</td>\n",
       "      <td>True</td>\n",
       "    </tr>\n",
       "    <tr>\n",
       "      <th>61859</th>\n",
       "      <td>2017-12-28</td>\n",
       "      <td>True</td>\n",
       "    </tr>\n",
       "    <tr>\n",
       "      <th>61860</th>\n",
       "      <td>2017-12-29</td>\n",
       "      <td>True</td>\n",
       "    </tr>\n",
       "    <tr>\n",
       "      <th>61861</th>\n",
       "      <td>2017-12-30</td>\n",
       "      <td>True</td>\n",
       "    </tr>\n",
       "    <tr>\n",
       "      <th>61862</th>\n",
       "      <td>2017-12-31</td>\n",
       "      <td>True</td>\n",
       "    </tr>\n",
       "  </tbody>\n",
       "</table>\n",
       "<p>365 rows × 2 columns</p>\n",
       "</div>"
      ],
      "text/plain": [
       "      date_wo_time  high_season\n",
       "0       2017-01-01         True\n",
       "1       2017-01-02         True\n",
       "2       2017-01-03         True\n",
       "3       2017-01-04         True\n",
       "4       2017-01-05         True\n",
       "...            ...          ...\n",
       "61858   2017-12-27         True\n",
       "61859   2017-12-28         True\n",
       "61860   2017-12-29         True\n",
       "61861   2017-12-30         True\n",
       "61862   2017-12-31         True\n",
       "\n",
       "[365 rows x 2 columns]"
      ]
     },
     "metadata": {},
     "output_type": "display_data"
    }
   ],
   "source": [
    "pd.set_option('display.max_rows', 15)\n",
    "\n",
    "flights['date_wo_time'] = flights['date_s'].dt.date\n",
    "from IPython.display import display\n",
    "display(flights[['date_wo_time', 'high_season']].drop_duplicates().sort_values('date_wo_time'))"
   ]
  },
  {
   "cell_type": "markdown",
   "id": "921ff247-ef21-46c7-a114-38f5d37a9056",
   "metadata": {},
   "source": [
    "Review of the high_season column"
   ]
  },
  {
   "cell_type": "code",
   "execution_count": null,
   "id": "5e387827-c98f-44cd-ad00-46a6e50f5654",
   "metadata": {},
   "outputs": [],
   "source": [
    "flights['high_season'].value_counts()"
   ]
  },
  {
   "cell_type": "markdown",
   "id": "5824f9e9-280c-4e20-b862-85d567d5df64",
   "metadata": {},
   "source": [
    "Review of the min_diff column"
   ]
  },
  {
   "cell_type": "code",
   "execution_count": 64,
   "id": "478c685f-bce4-49f8-bc4f-d7ed0c44d398",
   "metadata": {
    "tags": []
   },
   "outputs": [
    {
     "data": {
      "text/plain": [
       "<Axes: ylabel='Frequency'>"
      ]
     },
     "execution_count": 64,
     "metadata": {},
     "output_type": "execute_result"
    },
    {
     "data": {
      "image/png": "[encoded data removed]",
      "text/plain": [
       "<Figure size 640x480 with 1 Axes>"
      ]
     },
     "metadata": {},
     "output_type": "display_data"
    }
   ],
   "source": [
    "flights['min_diff'].describe()\n",
    "flights['min_diff'].plot(kind = 'hist', bins = 50)"
   ]
  },
  {
   "cell_type": "markdown",
   "id": "1687ed87-0d61-4639-be9f-14c7779860d6",
   "metadata": {},
   "source": [
    "Distribution of delay_15"
   ]
  },
  {
   "cell_type": "code",
   "execution_count": 91,
   "id": "b74d9907-8ae4-424a-9bf6-aa225c9db6b3",
   "metadata": {
    "tags": []
   },
   "outputs": [
    {
     "data": {
      "text/plain": [
       "False    0.81506\n",
       "True     0.18494\n",
       "Name: delay_15, dtype: float64"
      ]
     },
     "execution_count": 91,
     "metadata": {},
     "output_type": "execute_result"
    }
   ],
   "source": [
    "flights['delay_15'].value_counts(normalize = True)"
   ]
  },
  {
   "cell_type": "markdown",
   "id": "2db23692-506b-4bb8-8d7e-6111a9a120d5",
   "metadata": {
    "jupyter": {
     "outputs_hidden": true
    },
    "tags": []
   },
   "source": [
    "Distribution of period_day"
   ]
  },
  {
   "cell_type": "code",
   "execution_count": 92,
   "id": "8ad82d39-067e-4d5e-ad80-520f6dc7b2c3",
   "metadata": {
    "tags": []
   },
   "outputs": [
    {
     "data": {
      "text/plain": [
       "afternoon    0.373955\n",
       "morning      0.371698\n",
       "night        0.254347\n",
       "Name: period_day, dtype: float64"
      ]
     },
     "execution_count": 92,
     "metadata": {},
     "output_type": "execute_result"
    }
   ],
   "source": [
    "flights['period_day'].value_counts(normalize = True)"
   ]
  },
  {
   "cell_type": "markdown",
   "id": "ed884c00-b055-4a86-949b-6a5e6bb19318",
   "metadata": {
    "jp-MarkdownHeadingCollapsed": true,
    "tags": []
   },
   "source": [
    "# Delay Rate Across Variables"
   ]
  },
  {
   "cell_type": "markdown",
   "id": "b45bf2ee-b5fb-4758-ac9f-801932f876c2",
   "metadata": {},
   "source": [
    "It is assummed that a delay is considered as such only if it is longer than 15 minutes"
   ]
  },
  {
   "cell_type": "markdown",
   "id": "14897653-7aa4-43c6-be2c-b5bdea3ff033",
   "metadata": {
    "tags": []
   },
   "source": [
    "## Delay rate by destination"
   ]
  },
  {
   "cell_type": "code",
   "execution_count": 126,
   "id": "1dc7fecb-a7a5-4f3a-bf39-278edd22f990",
   "metadata": {
    "collapsed": true,
    "jupyter": {
     "outputs_hidden": true,
     "source_hidden": true
    },
    "tags": []
   },
   "outputs": [
    {
     "data": {
      "text/html": [
       "<div>\n",
       "<style scoped>\n",
       "    .dataframe tbody tr th:only-of-type {\n",
       "        vertical-align: middle;\n",
       "    }\n",
       "\n",
       "    .dataframe tbody tr th {\n",
       "        vertical-align: top;\n",
       "    }\n",
       "\n",
       "    .dataframe thead th {\n",
       "        text-align: right;\n",
       "    }\n",
       "</style>\n",
       "<table border=\"1\" class=\"dataframe\">\n",
       "  <thead>\n",
       "    <tr style=\"text-align: right;\">\n",
       "      <th></th>\n",
       "      <th>city_destination_summarized</th>\n",
       "      <th>prop_delay_15</th>\n",
       "    </tr>\n",
       "  </thead>\n",
       "  <tbody>\n",
       "    <tr>\n",
       "      <th>10</th>\n",
       "      <td>Cordoba</td>\n",
       "      <td>0.301075</td>\n",
       "    </tr>\n",
       "    <tr>\n",
       "      <th>21</th>\n",
       "      <td>Rio de Janeiro</td>\n",
       "      <td>0.282230</td>\n",
       "    </tr>\n",
       "    <tr>\n",
       "      <th>15</th>\n",
       "      <td>Mendoza</td>\n",
       "      <td>0.272615</td>\n",
       "    </tr>\n",
       "    <tr>\n",
       "      <th>3</th>\n",
       "      <td>Bogota</td>\n",
       "      <td>0.258728</td>\n",
       "    </tr>\n",
       "    <tr>\n",
       "      <th>4</th>\n",
       "      <td>Buenos Aires</td>\n",
       "      <td>0.255722</td>\n",
       "    </tr>\n",
       "    <tr>\n",
       "      <th>...</th>\n",
       "      <td>...</td>\n",
       "      <td>...</td>\n",
       "    </tr>\n",
       "    <tr>\n",
       "      <th>9</th>\n",
       "      <td>Copiapo</td>\n",
       "      <td>0.135955</td>\n",
       "    </tr>\n",
       "    <tr>\n",
       "      <th>1</th>\n",
       "      <td>Arica</td>\n",
       "      <td>0.135468</td>\n",
       "    </tr>\n",
       "    <tr>\n",
       "      <th>5</th>\n",
       "      <td>Calama</td>\n",
       "      <td>0.122231</td>\n",
       "    </tr>\n",
       "    <tr>\n",
       "      <th>6</th>\n",
       "      <td>Ciudad de Mexico</td>\n",
       "      <td>0.094286</td>\n",
       "    </tr>\n",
       "    <tr>\n",
       "      <th>7</th>\n",
       "      <td>Ciudad de Panama</td>\n",
       "      <td>0.062703</td>\n",
       "    </tr>\n",
       "  </tbody>\n",
       "</table>\n",
       "<p>25 rows × 2 columns</p>\n",
       "</div>"
      ],
      "text/plain": [
       "   city_destination_summarized  prop_delay_15\n",
       "10                     Cordoba       0.301075\n",
       "21              Rio de Janeiro       0.282230\n",
       "15                     Mendoza       0.272615\n",
       "3                       Bogota       0.258728\n",
       "4                 Buenos Aires       0.255722\n",
       "..                         ...            ...\n",
       "9                      Copiapo       0.135955\n",
       "1                        Arica       0.135468\n",
       "5                       Calama       0.122231\n",
       "6             Ciudad de Mexico       0.094286\n",
       "7             Ciudad de Panama       0.062703\n",
       "\n",
       "[25 rows x 2 columns]"
      ]
     },
     "execution_count": 126,
     "metadata": {},
     "output_type": "execute_result"
    }
   ],
   "source": [
    "# Cities with less than 500 flights.\n",
    "flights_by_city = flights.groupby('city_destination').size().reset_index(name = 'n')\n",
    "cities_less_than_500_flights = flights_by_city.loc[flights_by_city['n'] < 500, 'city_destination']\n",
    "cities_less_than_500_flights\n",
    "flights.loc[flights['city_destination'].isin(cities_less_than_500_flights), \n",
    "            'city_destination_summarized'] = 'Others' \n",
    "flights.loc[~ flights['city_destination'].isin(cities_less_than_500_flights), \n",
    "            'city_destination_summarized'] = flights['city_destination'] \n",
    "flights\n",
    "flights.groupby('city_destination_summarized')['delay_15'].agg([np.mean]) \\\n",
    "    .rename(columns = {'mean':'prop_delay_15'}) \\\n",
    "    .reset_index() \\\n",
    "    .sort_values('prop_delay_15', ascending = False)"
   ]
  },
  {
   "cell_type": "markdown",
   "id": "aa77420d-d6c8-4809-9e11-4f35ea4b0705",
   "metadata": {
    "jp-MarkdownHeadingCollapsed": true,
    "tags": []
   },
   "source": [
    "## Delay rate by airline"
   ]
  },
  {
   "cell_type": "code",
   "execution_count": 134,
   "id": "55a0d14c-2ea4-4de7-bdc4-998bc37cbf1d",
   "metadata": {
    "collapsed": true,
    "jupyter": {
     "outputs_hidden": true
    },
    "tags": []
   },
   "outputs": [
    {
     "data": {
      "text/html": [
       "<div>\n",
       "<style scoped>\n",
       "    .dataframe tbody tr th:only-of-type {\n",
       "        vertical-align: middle;\n",
       "    }\n",
       "\n",
       "    .dataframe tbody tr th {\n",
       "        vertical-align: top;\n",
       "    }\n",
       "\n",
       "    .dataframe thead th {\n",
       "        text-align: right;\n",
       "    }\n",
       "</style>\n",
       "<table border=\"1\" class=\"dataframe\">\n",
       "  <thead>\n",
       "    <tr style=\"text-align: right;\">\n",
       "      <th></th>\n",
       "      <th>airline_code_s_summarized</th>\n",
       "      <th>prop_delay_15</th>\n",
       "    </tr>\n",
       "  </thead>\n",
       "  <tbody>\n",
       "    <tr>\n",
       "      <th>20</th>\n",
       "      <td>QFU</td>\n",
       "      <td>0.579487</td>\n",
       "    </tr>\n",
       "    <tr>\n",
       "      <th>1</th>\n",
       "      <td>ACA</td>\n",
       "      <td>0.456637</td>\n",
       "    </tr>\n",
       "    <tr>\n",
       "      <th>17</th>\n",
       "      <td>LAW</td>\n",
       "      <td>0.407878</td>\n",
       "    </tr>\n",
       "    <tr>\n",
       "      <th>13</th>\n",
       "      <td>JMR</td>\n",
       "      <td>0.390000</td>\n",
       "    </tr>\n",
       "    <tr>\n",
       "      <th>10</th>\n",
       "      <td>GLO</td>\n",
       "      <td>0.356079</td>\n",
       "    </tr>\n",
       "    <tr>\n",
       "      <th>19</th>\n",
       "      <td>Others</td>\n",
       "      <td>0.294372</td>\n",
       "    </tr>\n",
       "    <tr>\n",
       "      <th>16</th>\n",
       "      <td>LAP</td>\n",
       "      <td>0.282407</td>\n",
       "    </tr>\n",
       "    <tr>\n",
       "      <th>5</th>\n",
       "      <td>AVA</td>\n",
       "      <td>0.265625</td>\n",
       "    </tr>\n",
       "    <tr>\n",
       "      <th>22</th>\n",
       "      <td>TAM</td>\n",
       "      <td>0.255822</td>\n",
       "    </tr>\n",
       "    <tr>\n",
       "      <th>4</th>\n",
       "      <td>ARG</td>\n",
       "      <td>0.240123</td>\n",
       "    </tr>\n",
       "    <tr>\n",
       "      <th>12</th>\n",
       "      <td>JAT</td>\n",
       "      <td>0.178995</td>\n",
       "    </tr>\n",
       "    <tr>\n",
       "      <th>21</th>\n",
       "      <td>SKU</td>\n",
       "      <td>0.177647</td>\n",
       "    </tr>\n",
       "    <tr>\n",
       "      <th>15</th>\n",
       "      <td>LAN</td>\n",
       "      <td>0.171572</td>\n",
       "    </tr>\n",
       "    <tr>\n",
       "      <th>18</th>\n",
       "      <td>ONE</td>\n",
       "      <td>0.154122</td>\n",
       "    </tr>\n",
       "    <tr>\n",
       "      <th>7</th>\n",
       "      <td>BAW</td>\n",
       "      <td>0.141463</td>\n",
       "    </tr>\n",
       "    <tr>\n",
       "      <th>6</th>\n",
       "      <td>AZA</td>\n",
       "      <td>0.111969</td>\n",
       "    </tr>\n",
       "    <tr>\n",
       "      <th>11</th>\n",
       "      <td>IBE</td>\n",
       "      <td>0.099448</td>\n",
       "    </tr>\n",
       "    <tr>\n",
       "      <th>2</th>\n",
       "      <td>AFR</td>\n",
       "      <td>0.083799</td>\n",
       "    </tr>\n",
       "    <tr>\n",
       "      <th>14</th>\n",
       "      <td>KLM</td>\n",
       "      <td>0.083665</td>\n",
       "    </tr>\n",
       "    <tr>\n",
       "      <th>0</th>\n",
       "      <td>AAL</td>\n",
       "      <td>0.067371</td>\n",
       "    </tr>\n",
       "    <tr>\n",
       "      <th>8</th>\n",
       "      <td>CMP</td>\n",
       "      <td>0.062703</td>\n",
       "    </tr>\n",
       "    <tr>\n",
       "      <th>9</th>\n",
       "      <td>DAL</td>\n",
       "      <td>0.058659</td>\n",
       "    </tr>\n",
       "    <tr>\n",
       "      <th>23</th>\n",
       "      <td>UAL</td>\n",
       "      <td>0.050746</td>\n",
       "    </tr>\n",
       "    <tr>\n",
       "      <th>3</th>\n",
       "      <td>AMX</td>\n",
       "      <td>0.028490</td>\n",
       "    </tr>\n",
       "  </tbody>\n",
       "</table>\n",
       "</div>"
      ],
      "text/plain": [
       "   airline_code_s_summarized  prop_delay_15\n",
       "20                       QFU       0.579487\n",
       "1                        ACA       0.456637\n",
       "17                       LAW       0.407878\n",
       "13                       JMR       0.390000\n",
       "10                       GLO       0.356079\n",
       "19                    Others       0.294372\n",
       "16                       LAP       0.282407\n",
       "5                        AVA       0.265625\n",
       "22                       TAM       0.255822\n",
       "4                        ARG       0.240123\n",
       "12                       JAT       0.178995\n",
       "21                       SKU       0.177647\n",
       "15                       LAN       0.171572\n",
       "18                       ONE       0.154122\n",
       "7                        BAW       0.141463\n",
       "6                        AZA       0.111969\n",
       "11                       IBE       0.099448\n",
       "2                        AFR       0.083799\n",
       "14                       KLM       0.083665\n",
       "0                        AAL       0.067371\n",
       "8                        CMP       0.062703\n",
       "9                        DAL       0.058659\n",
       "23                       UAL       0.050746\n",
       "3                        AMX       0.028490"
      ]
     },
     "execution_count": 134,
     "metadata": {},
     "output_type": "execute_result"
    }
   ],
   "source": [
    "# Cities with less than 100 flights.\n",
    "flights_by_airline = flights.groupby('airline_code_s').size().reset_index(name = 'n')\n",
    "airlines_less_than_100_flights = flights_by_airline.loc[flights_by_airline['n'] < 100, 'airline_code_s']\n",
    "\n",
    "flights.loc[flights['airline_code_s'].isin(airlines_less_than_100_flights), \n",
    "            'airline_code_s_summarized'] = 'Others' \n",
    "flights.loc[~ flights['airline_code_s'].isin(airlines_less_than_100_flights), \n",
    "            'airline_code_s_summarized'] = flights['airline_code_s'] \n",
    "flights.groupby('airline_code_s_summarized')['delay_15'].agg([np.mean]) \\\n",
    "    .rename(columns = {'mean':'prop_delay_15'}) \\\n",
    "    .reset_index() \\\n",
    "    .sort_values('prop_delay_15', ascending = False)"
   ]
  },
  {
   "cell_type": "markdown",
   "id": "145a5692-d43b-47d2-bcd3-2d3565b5eea9",
   "metadata": {
    "jp-MarkdownHeadingCollapsed": true,
    "tags": []
   },
   "source": [
    "## Delay rate by month"
   ]
  },
  {
   "cell_type": "code",
   "execution_count": 135,
   "id": "5446612d-7495-49dd-8112-9a18b32f74e5",
   "metadata": {
    "tags": []
   },
   "outputs": [
    {
     "data": {
      "text/html": [
       "<div>\n",
       "<style scoped>\n",
       "    .dataframe tbody tr th:only-of-type {\n",
       "        vertical-align: middle;\n",
       "    }\n",
       "\n",
       "    .dataframe tbody tr th {\n",
       "        vertical-align: top;\n",
       "    }\n",
       "\n",
       "    .dataframe thead th {\n",
       "        text-align: right;\n",
       "    }\n",
       "</style>\n",
       "<table border=\"1\" class=\"dataframe\">\n",
       "  <thead>\n",
       "    <tr style=\"text-align: right;\">\n",
       "      <th></th>\n",
       "      <th>date_s</th>\n",
       "      <th>prop_delay_15</th>\n",
       "    </tr>\n",
       "  </thead>\n",
       "  <tbody>\n",
       "    <tr>\n",
       "      <th>6</th>\n",
       "      <td>2017-07-31</td>\n",
       "      <td>0.293440</td>\n",
       "    </tr>\n",
       "    <tr>\n",
       "      <th>11</th>\n",
       "      <td>2017-12-31</td>\n",
       "      <td>0.254051</td>\n",
       "    </tr>\n",
       "    <tr>\n",
       "      <th>9</th>\n",
       "      <td>2017-10-31</td>\n",
       "      <td>0.225962</td>\n",
       "    </tr>\n",
       "    <tr>\n",
       "      <th>10</th>\n",
       "      <td>2017-11-30</td>\n",
       "      <td>0.197336</td>\n",
       "    </tr>\n",
       "    <tr>\n",
       "      <th>7</th>\n",
       "      <td>2017-08-31</td>\n",
       "      <td>0.173398</td>\n",
       "    </tr>\n",
       "    <tr>\n",
       "      <th>8</th>\n",
       "      <td>2017-09-30</td>\n",
       "      <td>0.172371</td>\n",
       "    </tr>\n",
       "    <tr>\n",
       "      <th>5</th>\n",
       "      <td>2017-06-30</td>\n",
       "      <td>0.171016</td>\n",
       "    </tr>\n",
       "    <tr>\n",
       "      <th>0</th>\n",
       "      <td>2017-01-31</td>\n",
       "      <td>0.160282</td>\n",
       "    </tr>\n",
       "    <tr>\n",
       "      <th>4</th>\n",
       "      <td>2017-05-31</td>\n",
       "      <td>0.157664</td>\n",
       "    </tr>\n",
       "    <tr>\n",
       "      <th>1</th>\n",
       "      <td>2017-02-28</td>\n",
       "      <td>0.151591</td>\n",
       "    </tr>\n",
       "    <tr>\n",
       "      <th>3</th>\n",
       "      <td>2017-04-30</td>\n",
       "      <td>0.116710</td>\n",
       "    </tr>\n",
       "    <tr>\n",
       "      <th>2</th>\n",
       "      <td>2017-03-31</td>\n",
       "      <td>0.114781</td>\n",
       "    </tr>\n",
       "  </tbody>\n",
       "</table>\n",
       "</div>"
      ],
      "text/plain": [
       "       date_s  prop_delay_15\n",
       "6  2017-07-31       0.293440\n",
       "11 2017-12-31       0.254051\n",
       "9  2017-10-31       0.225962\n",
       "10 2017-11-30       0.197336\n",
       "7  2017-08-31       0.173398\n",
       "8  2017-09-30       0.172371\n",
       "5  2017-06-30       0.171016\n",
       "0  2017-01-31       0.160282\n",
       "4  2017-05-31       0.157664\n",
       "1  2017-02-28       0.151591\n",
       "3  2017-04-30       0.116710\n",
       "2  2017-03-31       0.114781"
      ]
     },
     "execution_count": 135,
     "metadata": {},
     "output_type": "execute_result"
    }
   ],
   "source": [
    "flights.resample('M', on = 'date_s')['delay_15'].agg([np.mean]) \\\n",
    "    .rename(columns = {'mean':'prop_delay_15'}) \\\n",
    "    .reset_index() \\\n",
    "    .sort_values('prop_delay_15', ascending = False)"
   ]
  },
  {
   "cell_type": "markdown",
   "id": "4e39eabc-941d-4886-9cca-4ef99c1b3360",
   "metadata": {
    "jp-MarkdownHeadingCollapsed": true,
    "tags": []
   },
   "source": [
    "## Delay rate by day of the week"
   ]
  },
  {
   "cell_type": "code",
   "execution_count": 138,
   "id": "2a05a50e-849d-414f-a2c8-8a11d6690bdd",
   "metadata": {
    "tags": []
   },
   "outputs": [
    {
     "data": {
      "text/html": [
       "<div>\n",
       "<style scoped>\n",
       "    .dataframe tbody tr th:only-of-type {\n",
       "        vertical-align: middle;\n",
       "    }\n",
       "\n",
       "    .dataframe tbody tr th {\n",
       "        vertical-align: top;\n",
       "    }\n",
       "\n",
       "    .dataframe thead th {\n",
       "        text-align: right;\n",
       "    }\n",
       "</style>\n",
       "<table border=\"1\" class=\"dataframe\">\n",
       "  <thead>\n",
       "    <tr style=\"text-align: right;\">\n",
       "      <th></th>\n",
       "      <th>wday_s</th>\n",
       "      <th>prop_delay_15</th>\n",
       "    </tr>\n",
       "  </thead>\n",
       "  <tbody>\n",
       "    <tr>\n",
       "      <th>0</th>\n",
       "      <td>Friday</td>\n",
       "      <td>0.223480</td>\n",
       "    </tr>\n",
       "    <tr>\n",
       "      <th>1</th>\n",
       "      <td>Monday</td>\n",
       "      <td>0.201129</td>\n",
       "    </tr>\n",
       "    <tr>\n",
       "      <th>4</th>\n",
       "      <td>Thursday</td>\n",
       "      <td>0.199122</td>\n",
       "    </tr>\n",
       "    <tr>\n",
       "      <th>6</th>\n",
       "      <td>Wednesday</td>\n",
       "      <td>0.171705</td>\n",
       "    </tr>\n",
       "    <tr>\n",
       "      <th>5</th>\n",
       "      <td>Tuesday</td>\n",
       "      <td>0.169460</td>\n",
       "    </tr>\n",
       "    <tr>\n",
       "      <th>3</th>\n",
       "      <td>Sunday</td>\n",
       "      <td>0.162616</td>\n",
       "    </tr>\n",
       "    <tr>\n",
       "      <th>2</th>\n",
       "      <td>Saturday</td>\n",
       "      <td>0.159764</td>\n",
       "    </tr>\n",
       "  </tbody>\n",
       "</table>\n",
       "</div>"
      ],
      "text/plain": [
       "      wday_s  prop_delay_15\n",
       "0     Friday       0.223480\n",
       "1     Monday       0.201129\n",
       "4   Thursday       0.199122\n",
       "6  Wednesday       0.171705\n",
       "5    Tuesday       0.169460\n",
       "3     Sunday       0.162616\n",
       "2   Saturday       0.159764"
      ]
     },
     "execution_count": 138,
     "metadata": {},
     "output_type": "execute_result"
    }
   ],
   "source": [
    "flights['wday_s'] = flights['date_s'].dt.day_name()\n",
    "flights.groupby('wday_s')['delay_15'].agg([np.mean]) \\\n",
    "    .rename(columns = {'mean':'prop_delay_15'}) \\\n",
    "    .reset_index() \\\n",
    "    .sort_values('prop_delay_15', ascending = False)"
   ]
  },
  {
   "cell_type": "markdown",
   "id": "3255be54-6011-4653-8ee2-85184821838c",
   "metadata": {
    "jp-MarkdownHeadingCollapsed": true,
    "tags": []
   },
   "source": [
    "## Delay rate by season"
   ]
  },
  {
   "cell_type": "code",
   "execution_count": 139,
   "id": "c14e477f-8247-40f3-91ca-134b1aa79f1f",
   "metadata": {
    "tags": []
   },
   "outputs": [
    {
     "data": {
      "text/html": [
       "<div>\n",
       "<style scoped>\n",
       "    .dataframe tbody tr th:only-of-type {\n",
       "        vertical-align: middle;\n",
       "    }\n",
       "\n",
       "    .dataframe tbody tr th {\n",
       "        vertical-align: top;\n",
       "    }\n",
       "\n",
       "    .dataframe thead th {\n",
       "        text-align: right;\n",
       "    }\n",
       "</style>\n",
       "<table border=\"1\" class=\"dataframe\">\n",
       "  <thead>\n",
       "    <tr style=\"text-align: right;\">\n",
       "      <th></th>\n",
       "      <th>high_season</th>\n",
       "      <th>prop_delay_15</th>\n",
       "    </tr>\n",
       "  </thead>\n",
       "  <tbody>\n",
       "    <tr>\n",
       "      <th>1</th>\n",
       "      <td>True</td>\n",
       "      <td>0.19638</td>\n",
       "    </tr>\n",
       "    <tr>\n",
       "      <th>0</th>\n",
       "      <td>False</td>\n",
       "      <td>0.17921</td>\n",
       "    </tr>\n",
       "  </tbody>\n",
       "</table>\n",
       "</div>"
      ],
      "text/plain": [
       "   high_season  prop_delay_15\n",
       "1         True        0.19638\n",
       "0        False        0.17921"
      ]
     },
     "execution_count": 139,
     "metadata": {},
     "output_type": "execute_result"
    }
   ],
   "source": [
    "flights.groupby('high_season')['delay_15'].agg([np.mean]) \\\n",
    "    .rename(columns = {'mean':'prop_delay_15'}) \\\n",
    "    .reset_index() \\\n",
    "    .sort_values('prop_delay_15', ascending = False)"
   ]
  },
  {
   "cell_type": "markdown",
   "id": "6b862711-501f-4eb2-a67d-ea153a808299",
   "metadata": {
    "tags": []
   },
   "source": [
    "## Delay rate by type of flight"
   ]
  },
  {
   "cell_type": "code",
   "execution_count": 140,
   "id": "3dcbf42f-a038-4dae-b9d4-30ec39ac052d",
   "metadata": {
    "tags": []
   },
   "outputs": [
    {
     "data": {
      "text/html": [
       "<div>\n",
       "<style scoped>\n",
       "    .dataframe tbody tr th:only-of-type {\n",
       "        vertical-align: middle;\n",
       "    }\n",
       "\n",
       "    .dataframe tbody tr th {\n",
       "        vertical-align: top;\n",
       "    }\n",
       "\n",
       "    .dataframe thead th {\n",
       "        text-align: right;\n",
       "    }\n",
       "</style>\n",
       "<table border=\"1\" class=\"dataframe\">\n",
       "  <thead>\n",
       "    <tr style=\"text-align: right;\">\n",
       "      <th></th>\n",
       "      <th>type</th>\n",
       "      <th>prop_delay_15</th>\n",
       "    </tr>\n",
       "  </thead>\n",
       "  <tbody>\n",
       "    <tr>\n",
       "      <th>0</th>\n",
       "      <td>I</td>\n",
       "      <td>0.225608</td>\n",
       "    </tr>\n",
       "    <tr>\n",
       "      <th>1</th>\n",
       "      <td>N</td>\n",
       "      <td>0.150571</td>\n",
       "    </tr>\n",
       "  </tbody>\n",
       "</table>\n",
       "</div>"
      ],
      "text/plain": [
       "  type  prop_delay_15\n",
       "0    I       0.225608\n",
       "1    N       0.150571"
      ]
     },
     "execution_count": 140,
     "metadata": {},
     "output_type": "execute_result"
    }
   ],
   "source": [
    "flights.groupby('type')['delay_15'].agg([np.mean]) \\\n",
    "    .rename(columns = {'mean':'prop_delay_15'}) \\\n",
    "    .reset_index() \\\n",
    "    .sort_values('prop_delay_15', ascending = False)"
   ]
  },
  {
   "cell_type": "markdown",
   "id": "c8099a03-25b0-4e54-a7d9-d335f4090a80",
   "metadata": {
    "tags": []
   },
   "source": [
    "## Variables Expected to Influence Delays the Most"
   ]
  },
  {
   "cell_type": "markdown",
   "id": "6d30ba22-cfdf-4b66-b7c4-65b3a7fe314a",
   "metadata": {},
   "source": [
    "Given the greater variability of the delay rate for destinations and airlines, I expect these two variables to have a greater effect."
   ]
  },
  {
   "cell_type": "markdown",
   "id": "b3c811f8-b039-40dc-9420-b2db65299f91",
   "metadata": {},
   "source": [
    "# Model for Prediction of Delays"
   ]
  },
  {
   "cell_type": "markdown",
   "id": "915bdbc0-5636-4f90-91aa-ee56a7aeb1c9",
   "metadata": {},
   "source": [
    "## Data Preprocessing"
   ]
  },
  {
   "cell_type": "code",
   "execution_count": 181,
   "id": "8a3e1fa6-8977-4fa9-b0a0-99f9ad077ab8",
   "metadata": {
    "collapsed": true,
    "jupyter": {
     "outputs_hidden": true
    },
    "tags": []
   },
   "outputs": [
    {
     "name": "stdout",
     "output_type": "stream",
     "text": [
      "Index(['date_s', 'flight_s', 'city_code_origin_s', 'city_code_destination_s',\n",
      "       'airline_code_s', 'date_o', 'flight_o', 'city_code_origin_o',\n",
      "       'city_code_destination_o', 'airline_code_o', 'wday_o', 'type',\n",
      "       'airline_o', 'city_origin', 'city_destination', 'date_wo_time',\n",
      "       'high_season', 'min_diff', 'delay_15', 'age_category', 'period_day',\n",
      "       'hour_s', 'city_destination_summarized', 'airline_code_s_summarized',\n",
      "       'wday_s'],\n",
      "      dtype='object')\n",
      "[[1 0 0 ... 0 0 0]\n",
      " [1 1 0 ... 0 0 0]\n",
      " [1 0 0 ... 0 0 0]\n",
      " ...\n",
      " [1 0 0 ... 0 0 0]\n",
      " [1 0 0 ... 0 0 0]\n",
      " [1 0 0 ... 0 0 0]]\n",
      "[[0]\n",
      " [0]\n",
      " [0]\n",
      " ...\n",
      " [1]\n",
      " [0]\n",
      " [0]]\n"
     ]
    }
   ],
   "source": [
    "print(flights.columns)\n",
    "# flights['high_season'].astype(int)\n",
    "dummy_variables = pd.get_dummies(flights[['wday_s', 'period_day', 'city_destination_summarized', \n",
    "                                          'airline_code_s_summarized']], \n",
    "                                 drop_first = True)\n",
    "X = pd.concat([flights[['high_season']], dummy_variables], axis = 1).values\n",
    "y = flights[['delay_15']].values\n",
    "print(X)\n",
    "print(y"
   ]
  },
  {
   "cell_type": "markdown",
   "id": "0490c960-60dd-43c2-912e-c64a7d55a729",
   "metadata": {
    "tags": []
   },
   "source": [
    "## Data Partition"
   ]
  },
  {
   "cell_type": "code",
   "execution_count": 252,
   "id": "39e4a98a-631b-4425-8e66-b0bd129c59a9",
   "metadata": {
    "tags": []
   },
   "outputs": [],
   "source": [
    "X_train, X_test, y_train, y_test = train_test_split(X, y, test_size = 0.2, \n",
    "                                                    random_state = 20230326, stratify=y)\n",
    "y_train = np.ravel(y_train)\n",
    "y_test = np.ravel(y_test)"
   ]
  },
  {
   "cell_type": "markdown",
   "id": "31b1de0e-9283-41fe-8cee-29305533bcc6",
   "metadata": {},
   "source": [
    "## Logistic Regression"
   ]
  },
  {
   "cell_type": "markdown",
   "id": "48037733-cc38-4c30-80c6-8ca44363d1c3",
   "metadata": {},
   "source": [
    "### Training"
   ]
  },
  {
   "cell_type": "code",
   "execution_count": 254,
   "id": "05d383cd-d9f8-4155-aead-fe9dd9ed259d",
   "metadata": {
    "tags": []
   },
   "outputs": [
    {
     "data": {
      "text/html": [
       "<style>#sk-container-id-6 {color: black;background-color: white;}#sk-container-id-6 pre{padding: 0;}#sk-container-id-6 div.sk-toggleable {background-color: white;}#sk-container-id-6 label.sk-toggleable__label {cursor: pointer;display: block;width: 100%;margin-bottom: 0;padding: 0.3em;box-sizing: border-box;text-align: center;}#sk-container-id-6 label.sk-toggleable__label-arrow:before {content: \"▸\";float: left;margin-right: 0.25em;color: #696969;}#sk-container-id-6 label.sk-toggleable__label-arrow:hover:before {color: black;}#sk-container-id-6 div.sk-estimator:hover label.sk-toggleable__label-arrow:before {color: black;}#sk-container-id-6 div.sk-toggleable__content {max-height: 0;max-width: 0;overflow: hidden;text-align: left;background-color: #f0f8ff;}#sk-container-id-6 div.sk-toggleable__content pre {margin: 0.2em;color: black;border-radius: 0.25em;background-color: #f0f8ff;}#sk-container-id-6 input.sk-toggleable__control:checked~div.sk-toggleable__content {max-height: 200px;max-width: 100%;overflow: auto;}#sk-container-id-6 input.sk-toggleable__control:checked~label.sk-toggleable__label-arrow:before {content: \"▾\";}#sk-container-id-6 div.sk-estimator input.sk-toggleable__control:checked~label.sk-toggleable__label {background-color: #d4ebff;}#sk-container-id-6 div.sk-label input.sk-toggleable__control:checked~label.sk-toggleable__label {background-color: #d4ebff;}#sk-container-id-6 input.sk-hidden--visually {border: 0;clip: rect(1px 1px 1px 1px);clip: rect(1px, 1px, 1px, 1px);height: 1px;margin: -1px;overflow: hidden;padding: 0;position: absolute;width: 1px;}#sk-container-id-6 div.sk-estimator {font-family: monospace;background-color: #f0f8ff;border: 1px dotted black;border-radius: 0.25em;box-sizing: border-box;margin-bottom: 0.5em;}#sk-container-id-6 div.sk-estimator:hover {background-color: #d4ebff;}#sk-container-id-6 div.sk-parallel-item::after {content: \"\";width: 100%;border-bottom: 1px solid gray;flex-grow: 1;}#sk-container-id-6 div.sk-label:hover label.sk-toggleable__label {background-color: #d4ebff;}#sk-container-id-6 div.sk-serial::before {content: \"\";position: absolute;border-left: 1px solid gray;box-sizing: border-box;top: 0;bottom: 0;left: 50%;z-index: 0;}#sk-container-id-6 div.sk-serial {display: flex;flex-direction: column;align-items: center;background-color: white;padding-right: 0.2em;padding-left: 0.2em;position: relative;}#sk-container-id-6 div.sk-item {position: relative;z-index: 1;}#sk-container-id-6 div.sk-parallel {display: flex;align-items: stretch;justify-content: center;background-color: white;position: relative;}#sk-container-id-6 div.sk-item::before, #sk-container-id-6 div.sk-parallel-item::before {content: \"\";position: absolute;border-left: 1px solid gray;box-sizing: border-box;top: 0;bottom: 0;left: 50%;z-index: -1;}#sk-container-id-6 div.sk-parallel-item {display: flex;flex-direction: column;z-index: 1;position: relative;background-color: white;}#sk-container-id-6 div.sk-parallel-item:first-child::after {align-self: flex-end;width: 50%;}#sk-container-id-6 div.sk-parallel-item:last-child::after {align-self: flex-start;width: 50%;}#sk-container-id-6 div.sk-parallel-item:only-child::after {width: 0;}#sk-container-id-6 div.sk-dashed-wrapped {border: 1px dashed gray;margin: 0 0.4em 0.5em 0.4em;box-sizing: border-box;padding-bottom: 0.4em;background-color: white;}#sk-container-id-6 div.sk-label label {font-family: monospace;font-weight: bold;display: inline-block;line-height: 1.2em;}#sk-container-id-6 div.sk-label-container {text-align: center;}#sk-container-id-6 div.sk-container {/* jupyter's `normalize.less` sets `[hidden] { display: none; }` but bootstrap.min.css set `[hidden] { display: none !important; }` so we also need the `!important` here to be able to override the default hidden behavior on the sphinx rendered scikit-learn.org. See: https://github.com/scikit-learn/scikit-learn/issues/21755 */display: inline-block !important;position: relative;}#sk-container-id-6 div.sk-text-repr-fallback {display: none;}</style><div id=\"sk-container-id-6\" class=\"sk-top-container\"><div class=\"sk-text-repr-fallback\"><pre>LogisticRegression(max_iter=10000)</pre><b>In a Jupyter environment, please rerun this cell to show the HTML representation or trust the notebook. <br />On GitHub, the HTML representation is unable to render, please try loading this page with nbviewer.org.</b></div><div class=\"sk-container\" hidden><div class=\"sk-item\"><div class=\"sk-estimator sk-toggleable\"><input class=\"sk-toggleable__control sk-hidden--visually\" id=\"sk-estimator-id-6\" type=\"checkbox\" checked><label for=\"sk-estimator-id-6\" class=\"sk-toggleable__label sk-toggleable__label-arrow\">LogisticRegression</label><div class=\"sk-toggleable__content\"><pre>LogisticRegression(max_iter=10000)</pre></div></div></div></div></div>"
      ],
      "text/plain": [
       "LogisticRegression(max_iter=10000)"
      ]
     },
     "execution_count": 254,
     "metadata": {},
     "output_type": "execute_result"
    }
   ],
   "source": [
    "logistic_regression = LogisticRegression(max_iter = 10000)\n",
    "logistic_regression.fit(X_train, y_train)"
   ]
  },
  {
   "cell_type": "markdown",
   "id": "55e33430-193e-4f59-8415-322048ae25cf",
   "metadata": {},
   "source": [
    "### Evaluation"
   ]
  },
  {
   "cell_type": "markdown",
   "id": "9e275789-d214-45a0-aa1c-ab29eeb9040a",
   "metadata": {},
   "source": [
    "Predictions for the test set"
   ]
  },
  {
   "cell_type": "code",
   "execution_count": 256,
   "id": "53de22ef-896b-4ed4-8e1c-2bee35fd9018",
   "metadata": {
    "tags": []
   },
   "outputs": [],
   "source": [
    "y_pred = logistic_regression.predict(X_test)"
   ]
  },
  {
   "cell_type": "code",
   "execution_count": 257,
   "id": "4ac7956e-b0a0-410f-a0fb-f79d408c3db0",
   "metadata": {
    "tags": []
   },
   "outputs": [
    {
     "data": {
      "text/plain": [
       "0.817328837413869"
      ]
     },
     "execution_count": 257,
     "metadata": {},
     "output_type": "execute_result"
    }
   ],
   "source": [
    "# print(np.mean(y_pred == np.ravel(y_test)))\n",
    "logistic_regression.score(X_test, y_test)"
   ]
  },
  {
   "cell_type": "code",
   "execution_count": 258,
   "id": "3920e09c-3312-437b-aaf2-a43da64e269f",
   "metadata": {
    "tags": []
   },
   "outputs": [
    {
     "data": {
      "text/plain": [
       "0.817328837413869"
      ]
     },
     "execution_count": 258,
     "metadata": {},
     "output_type": "execute_result"
    }
   ],
   "source": [
    "df_y = pd.DataFrame({'y_pred':y_pred, 'y_test':np.ravel(y_test)})\n",
    "df_y['a'] = df_y['y_pred'] == df_y['y_test']\n",
    "df_y['a'].value_counts()\n",
    "11150/(11150+2492)\n",
    "df_y['a'].mean()"
   ]
  },
  {
   "cell_type": "code",
   "execution_count": 269,
   "id": "fefe54ec-185f-49cb-ad6d-1ffd953e4135",
   "metadata": {
    "tags": []
   },
   "outputs": [
    {
     "data": {
      "text/plain": [
       "y_test  y_pred\n",
       "0       0         11084\n",
       "        1            48\n",
       "1       0          2444\n",
       "        1            66\n",
       "dtype: int64"
      ]
     },
     "execution_count": 269,
     "metadata": {},
     "output_type": "execute_result"
    }
   ],
   "source": [
    "# print(confusion_matrix(y_test, y_pred))\n",
    "df_y.groupby(['y_test', 'y_pred']).size()"
   ]
  },
  {
   "cell_type": "code",
   "execution_count": 216,
   "id": "55e233fc-d7f5-4e2d-8fe2-ecef8e28561c",
   "metadata": {
    "tags": []
   },
   "outputs": [
    {
     "name": "stdout",
     "output_type": "stream",
     "text": [
      "              precision    recall  f1-score   support\n",
      "\n",
      "           0       0.82      1.00      0.90     11132\n",
      "           1       0.58      0.03      0.05      2510\n",
      "\n",
      "    accuracy                           0.82     13642\n",
      "   macro avg       0.70      0.51      0.47     13642\n",
      "weighted avg       0.78      0.82      0.74     13642\n",
      "\n"
     ]
    }
   ],
   "source": [
    "print(classification_report(y_test, y_pred))"
   ]
  },
  {
   "cell_type": "code",
   "execution_count": 270,
   "id": "f97bb32c-4a4f-40a3-a334-890e8063ebc6",
   "metadata": {
    "tags": []
   },
   "outputs": [
    {
     "data": {
      "text/plain": [
       "0.47500000000000003"
      ]
     },
     "execution_count": 270,
     "metadata": {},
     "output_type": "execute_result"
    }
   ],
   "source": [
    "2*(0.82*1.00)/(0.82+1.00)\n",
    "2*(0.576*0.026)/(0.576+0.026)\n",
    "(0.90+0.05)/2"
   ]
  }
 ],
 "metadata": {
  "kernelspec": {
   "display_name": "Python 3 (ipykernel)",
   "language": "python",
   "name": "python3"
  },
  "language_info": {
   "codemirror_mode": {
    "name": "ipython",
    "version": 3
   },
   "file_extension": ".py",
   "mimetype": "text/x-python",
   "name": "python",
   "nbconvert_exporter": "python",
   "pygments_lexer": "ipython3",
   "version": "3.11.2"
  },
  "varInspector": {
   "cols": {
    "lenName": 16,
    "lenType": 16,
    "lenVar": 40
   },
   "kernels_config": {
    "python": {
     "delete_cmd_postfix": "",
     "delete_cmd_prefix": "del ",
     "library": "var_list.py",
     "varRefreshCmd": "print(var_dic_list())"
    },
    "r": {
     "delete_cmd_postfix": ") ",
     "delete_cmd_prefix": "rm(",
     "library": "var_list.r",
     "varRefreshCmd": "cat(var_dic_list()) "
    }
   },
   "types_to_exclude": [
    "module",
    "function",
    "builtin_function_or_method",
    "instance",
    "_Feature"
   ],
   "window_display": false
  }
 },
 "nbformat": 4,
 "nbformat_minor": 5
}
