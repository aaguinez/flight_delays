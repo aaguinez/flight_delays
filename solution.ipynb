{
 "cells": [
  {
   "cell_type": "markdown",
   "id": "cc40b79c",
   "metadata": {
    "tags": []
   },
   "source": [
    "# Libraries"
   ]
  },
  {
   "cell_type": "markdown",
   "id": "0022e129-e0b2-4d5e-87ac-4ca045c2bead",
   "metadata": {},
   "source": [
    "Installation"
   ]
  },
  {
   "cell_type": "code",
   "execution_count": 147,
   "id": "d8339792",
   "metadata": {
    "collapsed": true,
    "jupyter": {
     "outputs_hidden": true
    },
    "tags": []
   },
   "outputs": [
    {
     "name": "stdout",
     "output_type": "stream",
     "text": [
      "Requirement already satisfied: pandas in c:\\users\\agustin\\appdata\\local\\programs\\python\\python311\\lib\\site-packages (1.5.3)\n",
      "Requirement already satisfied: python-dateutil>=2.8.1 in c:\\users\\agustin\\appdata\\local\\programs\\python\\python311\\lib\\site-packages (from pandas) (2.8.2)\n",
      "Requirement already satisfied: pytz>=2020.1 in c:\\users\\agustin\\appdata\\local\\programs\\python\\python311\\lib\\site-packages (from pandas) (2022.7.1)\n",
      "Requirement already satisfied: numpy>=1.21.0 in c:\\users\\agustin\\appdata\\local\\programs\\python\\python311\\lib\\site-packages (from pandas) (1.24.2)\n",
      "Requirement already satisfied: six>=1.5 in c:\\users\\agustin\\appdata\\local\\programs\\python\\python311\\lib\\site-packages (from python-dateutil>=2.8.1->pandas) (1.16.0)\n"
     ]
    },
    {
     "name": "stderr",
     "output_type": "stream",
     "text": [
      "\n",
      "[notice] A new release of pip available: 22.3.1 -> 23.0.1\n",
      "[notice] To update, run: python.exe -m pip install --upgrade pip\n"
     ]
    },
    {
     "name": "stdout",
     "output_type": "stream",
     "text": [
      "Requirement already satisfied: numpy in c:\\users\\agustin\\appdata\\local\\programs\\python\\python311\\lib\\site-packages (1.24.2)\n"
     ]
    },
    {
     "name": "stderr",
     "output_type": "stream",
     "text": [
      "\n",
      "[notice] A new release of pip available: 22.3.1 -> 23.0.1\n",
      "[notice] To update, run: python.exe -m pip install --upgrade pip\n"
     ]
    },
    {
     "name": "stdout",
     "output_type": "stream",
     "text": [
      "Requirement already satisfied: matplotlib in c:\\users\\agustin\\appdata\\local\\programs\\python\\python311\\lib\\site-packages (3.7.1)\n",
      "Requirement already satisfied: contourpy>=1.0.1 in c:\\users\\agustin\\appdata\\local\\programs\\python\\python311\\lib\\site-packages (from matplotlib) (1.0.7)\n",
      "Requirement already satisfied: cycler>=0.10 in c:\\users\\agustin\\appdata\\local\\programs\\python\\python311\\lib\\site-packages (from matplotlib) (0.11.0)\n",
      "Requirement already satisfied: fonttools>=4.22.0 in c:\\users\\agustin\\appdata\\local\\programs\\python\\python311\\lib\\site-packages (from matplotlib) (4.39.2)\n",
      "Requirement already satisfied: kiwisolver>=1.0.1 in c:\\users\\agustin\\appdata\\local\\programs\\python\\python311\\lib\\site-packages (from matplotlib) (1.4.4)\n",
      "Requirement already satisfied: numpy>=1.20 in c:\\users\\agustin\\appdata\\local\\programs\\python\\python311\\lib\\site-packages (from matplotlib) (1.24.2)\n",
      "Requirement already satisfied: packaging>=20.0 in c:\\users\\agustin\\appdata\\local\\programs\\python\\python311\\lib\\site-packages (from matplotlib) (23.0)\n",
      "Requirement already satisfied: pillow>=6.2.0 in c:\\users\\agustin\\appdata\\local\\programs\\python\\python311\\lib\\site-packages (from matplotlib) (9.4.0)\n",
      "Requirement already satisfied: pyparsing>=2.3.1 in c:\\users\\agustin\\appdata\\local\\programs\\python\\python311\\lib\\site-packages (from matplotlib) (3.0.9)\n",
      "Requirement already satisfied: python-dateutil>=2.7 in c:\\users\\agustin\\appdata\\local\\programs\\python\\python311\\lib\\site-packages (from matplotlib) (2.8.2)\n",
      "Requirement already satisfied: six>=1.5 in c:\\users\\agustin\\appdata\\local\\programs\\python\\python311\\lib\\site-packages (from python-dateutil>=2.7->matplotlib) (1.16.0)\n"
     ]
    },
    {
     "name": "stderr",
     "output_type": "stream",
     "text": [
      "\n",
      "[notice] A new release of pip available: 22.3.1 -> 23.0.1\n",
      "[notice] To update, run: python.exe -m pip install --upgrade pip\n"
     ]
    },
    {
     "name": "stdout",
     "output_type": "stream",
     "text": [
      "Collecting scikit-learn\n",
      "  Downloading scikit_learn-1.2.2-cp311-cp311-win_amd64.whl (8.3 MB)\n",
      "     ---------------------------------------- 8.3/8.3 MB 10.4 MB/s eta 0:00:00\n",
      "Requirement already satisfied: numpy>=1.17.3 in c:\\users\\agustin\\appdata\\local\\programs\\python\\python311\\lib\\site-packages (from scikit-learn) (1.24.2)\n",
      "Collecting scipy>=1.3.2\n",
      "  Downloading scipy-1.10.1-cp311-cp311-win_amd64.whl (42.2 MB)\n",
      "     ---------------------------------------- 42.2/42.2 MB 6.8 MB/s eta 0:00:00\n",
      "Collecting joblib>=1.1.1\n",
      "  Downloading joblib-1.2.0-py3-none-any.whl (297 kB)\n",
      "     -------------------------------------- 298.0/298.0 kB 1.7 MB/s eta 0:00:00\n",
      "Collecting threadpoolctl>=2.0.0\n",
      "  Downloading threadpoolctl-3.1.0-py3-none-any.whl (14 kB)\n",
      "Installing collected packages: threadpoolctl, scipy, joblib, scikit-learn\n",
      "Successfully installed joblib-1.2.0 scikit-learn-1.2.2 scipy-1.10.1 threadpoolctl-3.1.0\n"
     ]
    },
    {
     "name": "stderr",
     "output_type": "stream",
     "text": [
      "\n",
      "[notice] A new release of pip available: 22.3.1 -> 23.0.1\n",
      "[notice] To update, run: python.exe -m pip install --upgrade pip\n"
     ]
    }
   ],
   "source": [
    "!pip install pandas\n",
    "!pip install numpy\n",
    "!pip install matplotlib\n",
    "!pip install scikit-learn"
   ]
  },
  {
   "cell_type": "markdown",
   "id": "2be217fc-7751-4eb8-8d3c-ddb6cedb3c4f",
   "metadata": {
    "tags": []
   },
   "source": [
    "Loading"
   ]
  },
  {
   "cell_type": "code",
   "execution_count": 407,
   "id": "40ed8016",
   "metadata": {
    "tags": []
   },
   "outputs": [],
   "source": [
    "import numpy as np\n",
    "import pandas as pd\n",
    "import matplotlib.pyplot as plt\n",
    "import datetime as dt\n",
    "from sklearn.model_selection import train_test_split, cross_val_score, KFold, GridSearchCV\n",
    "from sklearn.linear_model import LogisticRegression\n",
    "from sklearn.metrics import classification_report, confusion_matrix, roc_curve, roc_auc_score\n",
    "pd.set_option('display.max_columns', None)"
   ]
  },
  {
   "cell_type": "markdown",
   "id": "fa20952d",
   "metadata": {
    "tags": []
   },
   "source": [
    "# Data Import And Cleaning"
   ]
  },
  {
   "cell_type": "markdown",
   "id": "3616b71c-6463-40fe-aa54-70d868e6f62b",
   "metadata": {
    "tags": []
   },
   "source": [
    "## Importation and Initial Cleaning"
   ]
  },
  {
   "cell_type": "markdown",
   "id": "ac83b3d4-02d4-40b5-b978-51c1485d0333",
   "metadata": {
    "tags": []
   },
   "source": [
    "Data is imported and column names are standardized to lower case english. The suffix \"_s\" in the assigned column names corresponds to the \"scheduled\" values. Since the city code of origin is identical for the scheduled and operation flights, the column `Ori-O` it is dropped. Also, considering there is a column for tha date of operation, the columns `DIA`, `MES` and `AÑO` are not necessary, so they are also dropped. The column of scheduled date without time `date_wo_time_s` is added.\n",
    "\n",
    "Note: The argument `low_memory` is set to `False` to avoid mixed types inside columns when importing."
   ]
  },
  {
   "cell_type": "code",
   "execution_count": 437,
   "id": "dd12ed53",
   "metadata": {
    "collapsed": true,
    "jupyter": {
     "outputs_hidden": true
    },
    "tags": []
   },
   "outputs": [
    {
     "data": {
      "text/html": [
       "<div>\n",
       "<style scoped>\n",
       "    .dataframe tbody tr th:only-of-type {\n",
       "        vertical-align: middle;\n",
       "    }\n",
       "\n",
       "    .dataframe tbody tr th {\n",
       "        vertical-align: top;\n",
       "    }\n",
       "\n",
       "    .dataframe thead th {\n",
       "        text-align: right;\n",
       "    }\n",
       "</style>\n",
       "<table border=\"1\" class=\"dataframe\">\n",
       "  <thead>\n",
       "    <tr style=\"text-align: right;\">\n",
       "      <th></th>\n",
       "      <th>date_s</th>\n",
       "      <th>flight_s</th>\n",
       "      <th>city_code_origin_s</th>\n",
       "      <th>city_code_destination_s</th>\n",
       "      <th>airline_code_s</th>\n",
       "      <th>date_o</th>\n",
       "      <th>flight_o</th>\n",
       "      <th>city_code_destination_o</th>\n",
       "      <th>airline_code_o</th>\n",
       "      <th>wday_o</th>\n",
       "      <th>type</th>\n",
       "      <th>airline_o</th>\n",
       "      <th>city_origin</th>\n",
       "      <th>city_destination</th>\n",
       "      <th>date_wo_time_s</th>\n",
       "    </tr>\n",
       "  </thead>\n",
       "  <tbody>\n",
       "    <tr>\n",
       "      <th>0</th>\n",
       "      <td>2017-01-01 23:30:00</td>\n",
       "      <td>226</td>\n",
       "      <td>SCEL</td>\n",
       "      <td>KMIA</td>\n",
       "      <td>AAL</td>\n",
       "      <td>2017-01-01 23:33:00</td>\n",
       "      <td>226</td>\n",
       "      <td>KMIA</td>\n",
       "      <td>AAL</td>\n",
       "      <td>Domingo</td>\n",
       "      <td>I</td>\n",
       "      <td>American Airlines</td>\n",
       "      <td>Santiago</td>\n",
       "      <td>Miami</td>\n",
       "      <td>2017-01-01</td>\n",
       "    </tr>\n",
       "    <tr>\n",
       "      <th>1</th>\n",
       "      <td>2017-01-02 23:30:00</td>\n",
       "      <td>226</td>\n",
       "      <td>SCEL</td>\n",
       "      <td>KMIA</td>\n",
       "      <td>AAL</td>\n",
       "      <td>2017-01-02 23:39:00</td>\n",
       "      <td>226</td>\n",
       "      <td>KMIA</td>\n",
       "      <td>AAL</td>\n",
       "      <td>Lunes</td>\n",
       "      <td>I</td>\n",
       "      <td>American Airlines</td>\n",
       "      <td>Santiago</td>\n",
       "      <td>Miami</td>\n",
       "      <td>2017-01-02</td>\n",
       "    </tr>\n",
       "    <tr>\n",
       "      <th>2</th>\n",
       "      <td>2017-01-03 23:30:00</td>\n",
       "      <td>226</td>\n",
       "      <td>SCEL</td>\n",
       "      <td>KMIA</td>\n",
       "      <td>AAL</td>\n",
       "      <td>2017-01-03 23:39:00</td>\n",
       "      <td>226</td>\n",
       "      <td>KMIA</td>\n",
       "      <td>AAL</td>\n",
       "      <td>Martes</td>\n",
       "      <td>I</td>\n",
       "      <td>American Airlines</td>\n",
       "      <td>Santiago</td>\n",
       "      <td>Miami</td>\n",
       "      <td>2017-01-03</td>\n",
       "    </tr>\n",
       "    <tr>\n",
       "      <th>3</th>\n",
       "      <td>2017-01-04 23:30:00</td>\n",
       "      <td>226</td>\n",
       "      <td>SCEL</td>\n",
       "      <td>KMIA</td>\n",
       "      <td>AAL</td>\n",
       "      <td>2017-01-04 23:33:00</td>\n",
       "      <td>226</td>\n",
       "      <td>KMIA</td>\n",
       "      <td>AAL</td>\n",
       "      <td>Miercoles</td>\n",
       "      <td>I</td>\n",
       "      <td>American Airlines</td>\n",
       "      <td>Santiago</td>\n",
       "      <td>Miami</td>\n",
       "      <td>2017-01-04</td>\n",
       "    </tr>\n",
       "    <tr>\n",
       "      <th>4</th>\n",
       "      <td>2017-01-05 23:30:00</td>\n",
       "      <td>226</td>\n",
       "      <td>SCEL</td>\n",
       "      <td>KMIA</td>\n",
       "      <td>AAL</td>\n",
       "      <td>2017-01-05 23:28:00</td>\n",
       "      <td>226</td>\n",
       "      <td>KMIA</td>\n",
       "      <td>AAL</td>\n",
       "      <td>Jueves</td>\n",
       "      <td>I</td>\n",
       "      <td>American Airlines</td>\n",
       "      <td>Santiago</td>\n",
       "      <td>Miami</td>\n",
       "      <td>2017-01-05</td>\n",
       "    </tr>\n",
       "  </tbody>\n",
       "</table>\n",
       "</div>"
      ],
      "text/plain": [
       "               date_s flight_s city_code_origin_s city_code_destination_s  \\\n",
       "0 2017-01-01 23:30:00      226               SCEL                    KMIA   \n",
       "1 2017-01-02 23:30:00      226               SCEL                    KMIA   \n",
       "2 2017-01-03 23:30:00      226               SCEL                    KMIA   \n",
       "3 2017-01-04 23:30:00      226               SCEL                    KMIA   \n",
       "4 2017-01-05 23:30:00      226               SCEL                    KMIA   \n",
       "\n",
       "  airline_code_s              date_o flight_o city_code_destination_o  \\\n",
       "0            AAL 2017-01-01 23:33:00      226                    KMIA   \n",
       "1            AAL 2017-01-02 23:39:00      226                    KMIA   \n",
       "2            AAL 2017-01-03 23:39:00      226                    KMIA   \n",
       "3            AAL 2017-01-04 23:33:00      226                    KMIA   \n",
       "4            AAL 2017-01-05 23:28:00      226                    KMIA   \n",
       "\n",
       "  airline_code_o     wday_o type          airline_o city_origin  \\\n",
       "0            AAL    Domingo    I  American Airlines    Santiago   \n",
       "1            AAL      Lunes    I  American Airlines    Santiago   \n",
       "2            AAL     Martes    I  American Airlines    Santiago   \n",
       "3            AAL  Miercoles    I  American Airlines    Santiago   \n",
       "4            AAL     Jueves    I  American Airlines    Santiago   \n",
       "\n",
       "  city_destination date_wo_time_s  \n",
       "0            Miami     2017-01-01  \n",
       "1            Miami     2017-01-02  \n",
       "2            Miami     2017-01-03  \n",
       "3            Miami     2017-01-04  \n",
       "4            Miami     2017-01-05  "
      ]
     },
     "execution_count": 437,
     "metadata": {},
     "output_type": "execute_result"
    }
   ],
   "source": [
    "flights_w_duplicates = pd.read_csv('data/dataset_SCL.csv', parse_dates = ['Fecha-I', 'Fecha-O'],\n",
    "                      low_memory = False) \\\n",
    "    .rename(columns = {'Fecha-I':'date_s', 'Vlo-I':'flight_s', 'Ori-I':'city_code_origin_s', \n",
    "                       'Des-I':'city_code_destination_s', 'Emp-I':'airline_code_s', \n",
    "                       'Fecha-O':'date_o', 'Vlo-O':'flight_o',\n",
    "                       'Des-O':'city_code_destination_o', 'Emp-O':'airline_code_o', \n",
    "                       'DIANOM':'wday_o', 'TIPOVUELO':'type', 'OPERA':'airline_o', \n",
    "                       'SIGLAORI':'city_origin', 'SIGLADES':'city_destination'}) \\\n",
    "    .drop(['DIA', 'MES', 'AÑO', 'Ori-O'], axis = 1)\n",
    "flights_w_duplicates['date_wo_time_s'] = flights_w_duplicates['date_s'].dt.date\n",
    "flights_w_duplicates.head()"
   ]
  },
  {
   "cell_type": "markdown",
   "id": "da38c67c-c261-48d1-a9a7-90a9bc979da2",
   "metadata": {
    "tags": []
   },
   "source": [
    "## Duplicates"
   ]
  },
  {
   "cell_type": "markdown",
   "id": "cca1a8ca-9a8c-4769-9106-41038b7af099",
   "metadata": {},
   "source": [
    "We create a function that extracts the duplicated rows for a subset of the columns. If a combination of those columns has more than one row, there is a duplicate."
   ]
  },
  {
   "cell_type": "code",
   "execution_count": 431,
   "id": "d765329d-76f3-474d-a256-eabc435d5ebb",
   "metadata": {
    "tags": []
   },
   "outputs": [],
   "source": [
    "def extract_duplicates(df, columns_list):\n",
    "    df = df \\\n",
    "            .groupby(columns_list, group_keys = False) \\\n",
    "            .apply(lambda x: x.assign(n = x.shape[0])).reset_index(drop=True) \\\n",
    "            .sort_values(columns_list)\n",
    "    df = df[df['n'] > 1]\n",
    "    return df"
   ]
  },
  {
   "cell_type": "markdown",
   "id": "f196347f-d566-4abc-8b58-dbbd2865e118",
   "metadata": {},
   "source": [
    "Sometimes, there is more than one observation for the same flight number, airline and date. This is an unusual situation and should be reviewed carefully with more information about the industry. For now, this observations are assumed to be valid."
   ]
  },
  {
   "cell_type": "code",
   "execution_count": 432,
   "id": "4e54a129-dd8d-48b1-8e98-e928220628b1",
   "metadata": {
    "collapsed": true,
    "jupyter": {
     "outputs_hidden": true
    },
    "tags": []
   },
   "outputs": [
    {
     "data": {
      "text/html": [
       "<div>\n",
       "<style scoped>\n",
       "    .dataframe tbody tr th:only-of-type {\n",
       "        vertical-align: middle;\n",
       "    }\n",
       "\n",
       "    .dataframe tbody tr th {\n",
       "        vertical-align: top;\n",
       "    }\n",
       "\n",
       "    .dataframe thead th {\n",
       "        text-align: right;\n",
       "    }\n",
       "</style>\n",
       "<table border=\"1\" class=\"dataframe\">\n",
       "  <thead>\n",
       "    <tr style=\"text-align: right;\">\n",
       "      <th></th>\n",
       "      <th>date_s</th>\n",
       "      <th>flight_s</th>\n",
       "      <th>city_code_origin_s</th>\n",
       "      <th>city_code_destination_s</th>\n",
       "      <th>airline_code_s</th>\n",
       "      <th>date_o</th>\n",
       "      <th>flight_o</th>\n",
       "      <th>city_code_destination_o</th>\n",
       "      <th>airline_code_o</th>\n",
       "      <th>wday_o</th>\n",
       "      <th>type</th>\n",
       "      <th>airline_o</th>\n",
       "      <th>city_origin</th>\n",
       "      <th>city_destination</th>\n",
       "      <th>date_wo_time_s</th>\n",
       "      <th>n</th>\n",
       "    </tr>\n",
       "  </thead>\n",
       "  <tbody>\n",
       "    <tr>\n",
       "      <th>658</th>\n",
       "      <td>2017-01-07 08:40:00</td>\n",
       "      <td>146</td>\n",
       "      <td>SCEL</td>\n",
       "      <td>KATL</td>\n",
       "      <td>DAL</td>\n",
       "      <td>2017-01-07 09:20:00</td>\n",
       "      <td>146</td>\n",
       "      <td>KATL</td>\n",
       "      <td>DAL</td>\n",
       "      <td>Sabado</td>\n",
       "      <td>I</td>\n",
       "      <td>Delta Air</td>\n",
       "      <td>Santiago</td>\n",
       "      <td>Atlanta</td>\n",
       "      <td>2017-01-07</td>\n",
       "      <td>2</td>\n",
       "    </tr>\n",
       "    <tr>\n",
       "      <th>659</th>\n",
       "      <td>2017-01-07 21:50:00</td>\n",
       "      <td>146</td>\n",
       "      <td>SCEL</td>\n",
       "      <td>KATL</td>\n",
       "      <td>DAL</td>\n",
       "      <td>2017-01-07 21:44:00</td>\n",
       "      <td>146</td>\n",
       "      <td>KATL</td>\n",
       "      <td>DAL</td>\n",
       "      <td>Sabado</td>\n",
       "      <td>I</td>\n",
       "      <td>Delta Air</td>\n",
       "      <td>Santiago</td>\n",
       "      <td>Atlanta</td>\n",
       "      <td>2017-01-07</td>\n",
       "      <td>2</td>\n",
       "    </tr>\n",
       "    <tr>\n",
       "      <th>1459</th>\n",
       "      <td>2017-01-28 15:05:00</td>\n",
       "      <td>43</td>\n",
       "      <td>SCEL</td>\n",
       "      <td>SCVD</td>\n",
       "      <td>SKU</td>\n",
       "      <td>2017-01-28 15:29:00</td>\n",
       "      <td>43</td>\n",
       "      <td>SCVD</td>\n",
       "      <td>SKU</td>\n",
       "      <td>Sabado</td>\n",
       "      <td>N</td>\n",
       "      <td>Sky Airline</td>\n",
       "      <td>Santiago</td>\n",
       "      <td>Valdivia</td>\n",
       "      <td>2017-01-28</td>\n",
       "      <td>2</td>\n",
       "    </tr>\n",
       "    <tr>\n",
       "      <th>2524</th>\n",
       "      <td>2017-01-28 17:00:00</td>\n",
       "      <td>43</td>\n",
       "      <td>SCEL</td>\n",
       "      <td>SCVD</td>\n",
       "      <td>SKU</td>\n",
       "      <td>2017-01-28 16:56:00</td>\n",
       "      <td>43</td>\n",
       "      <td>SCVD</td>\n",
       "      <td>SKU</td>\n",
       "      <td>Sabado</td>\n",
       "      <td>N</td>\n",
       "      <td>Sky Airline</td>\n",
       "      <td>Santiago</td>\n",
       "      <td>Valdivia</td>\n",
       "      <td>2017-01-28</td>\n",
       "      <td>2</td>\n",
       "    </tr>\n",
       "    <tr>\n",
       "      <th>7519</th>\n",
       "      <td>2017-02-26 06:40:00</td>\n",
       "      <td>71</td>\n",
       "      <td>SCEL</td>\n",
       "      <td>SCIE</td>\n",
       "      <td>SKU</td>\n",
       "      <td>2017-02-26 06:45:00</td>\n",
       "      <td>71</td>\n",
       "      <td>SCIE</td>\n",
       "      <td>SKU</td>\n",
       "      <td>Domingo</td>\n",
       "      <td>N</td>\n",
       "      <td>Sky Airline</td>\n",
       "      <td>Santiago</td>\n",
       "      <td>Concepcion</td>\n",
       "      <td>2017-02-26</td>\n",
       "      <td>2</td>\n",
       "    </tr>\n",
       "    <tr>\n",
       "      <th>...</th>\n",
       "      <td>...</td>\n",
       "      <td>...</td>\n",
       "      <td>...</td>\n",
       "      <td>...</td>\n",
       "      <td>...</td>\n",
       "      <td>...</td>\n",
       "      <td>...</td>\n",
       "      <td>...</td>\n",
       "      <td>...</td>\n",
       "      <td>...</td>\n",
       "      <td>...</td>\n",
       "      <td>...</td>\n",
       "      <td>...</td>\n",
       "      <td>...</td>\n",
       "      <td>...</td>\n",
       "      <td>...</td>\n",
       "    </tr>\n",
       "    <tr>\n",
       "      <th>55501</th>\n",
       "      <td>2017-10-21 12:30:00</td>\n",
       "      <td>600</td>\n",
       "      <td>SCEL</td>\n",
       "      <td>SPJC</td>\n",
       "      <td>LAW</td>\n",
       "      <td>2017-10-21 13:01:00</td>\n",
       "      <td>600</td>\n",
       "      <td>SPJC</td>\n",
       "      <td>JMR</td>\n",
       "      <td>Sabado</td>\n",
       "      <td>I</td>\n",
       "      <td>Latin American Wings</td>\n",
       "      <td>Santiago</td>\n",
       "      <td>Lima</td>\n",
       "      <td>2017-10-21</td>\n",
       "      <td>2</td>\n",
       "    </tr>\n",
       "    <tr>\n",
       "      <th>55470</th>\n",
       "      <td>2017-10-23 00:30:00</td>\n",
       "      <td>402</td>\n",
       "      <td>SCEL</td>\n",
       "      <td>SAME</td>\n",
       "      <td>LAW</td>\n",
       "      <td>2017-10-23 01:17:00</td>\n",
       "      <td>402</td>\n",
       "      <td>SAME</td>\n",
       "      <td>JMR</td>\n",
       "      <td>Lunes</td>\n",
       "      <td>I</td>\n",
       "      <td>Latin American Wings</td>\n",
       "      <td>Santiago</td>\n",
       "      <td>Mendoza</td>\n",
       "      <td>2017-10-23</td>\n",
       "      <td>2</td>\n",
       "    </tr>\n",
       "    <tr>\n",
       "      <th>55471</th>\n",
       "      <td>2017-10-23 22:40:00</td>\n",
       "      <td>402</td>\n",
       "      <td>SCEL</td>\n",
       "      <td>SAME</td>\n",
       "      <td>LAW</td>\n",
       "      <td>2017-10-23 23:49:00</td>\n",
       "      <td>402</td>\n",
       "      <td>SAME</td>\n",
       "      <td>JMR</td>\n",
       "      <td>Lunes</td>\n",
       "      <td>I</td>\n",
       "      <td>Latin American Wings</td>\n",
       "      <td>Santiago</td>\n",
       "      <td>Mendoza</td>\n",
       "      <td>2017-10-23</td>\n",
       "      <td>2</td>\n",
       "    </tr>\n",
       "    <tr>\n",
       "      <th>61548</th>\n",
       "      <td>2017-11-13 00:40:00</td>\n",
       "      <td>402</td>\n",
       "      <td>SCEL</td>\n",
       "      <td>SAME</td>\n",
       "      <td>LAW</td>\n",
       "      <td>2017-11-13 01:12:00</td>\n",
       "      <td>402</td>\n",
       "      <td>SAME</td>\n",
       "      <td>JMR</td>\n",
       "      <td>Lunes</td>\n",
       "      <td>I</td>\n",
       "      <td>Latin American Wings</td>\n",
       "      <td>Santiago</td>\n",
       "      <td>Mendoza</td>\n",
       "      <td>2017-11-13</td>\n",
       "      <td>2</td>\n",
       "    </tr>\n",
       "    <tr>\n",
       "      <th>61549</th>\n",
       "      <td>2017-11-13 22:00:00</td>\n",
       "      <td>402</td>\n",
       "      <td>SCEL</td>\n",
       "      <td>SAME</td>\n",
       "      <td>LAW</td>\n",
       "      <td>2017-11-13 22:11:00</td>\n",
       "      <td>402</td>\n",
       "      <td>SAME</td>\n",
       "      <td>JMR</td>\n",
       "      <td>Lunes</td>\n",
       "      <td>I</td>\n",
       "      <td>Latin American Wings</td>\n",
       "      <td>Santiago</td>\n",
       "      <td>Mendoza</td>\n",
       "      <td>2017-11-13</td>\n",
       "      <td>2</td>\n",
       "    </tr>\n",
       "  </tbody>\n",
       "</table>\n",
       "<p>38 rows × 16 columns</p>\n",
       "</div>"
      ],
      "text/plain": [
       "                   date_s flight_s city_code_origin_s city_code_destination_s  \\\n",
       "658   2017-01-07 08:40:00      146               SCEL                    KATL   \n",
       "659   2017-01-07 21:50:00      146               SCEL                    KATL   \n",
       "1459  2017-01-28 15:05:00       43               SCEL                    SCVD   \n",
       "2524  2017-01-28 17:00:00       43               SCEL                    SCVD   \n",
       "7519  2017-02-26 06:40:00       71               SCEL                    SCIE   \n",
       "...                   ...      ...                ...                     ...   \n",
       "55501 2017-10-21 12:30:00      600               SCEL                    SPJC   \n",
       "55470 2017-10-23 00:30:00      402               SCEL                    SAME   \n",
       "55471 2017-10-23 22:40:00      402               SCEL                    SAME   \n",
       "61548 2017-11-13 00:40:00      402               SCEL                    SAME   \n",
       "61549 2017-11-13 22:00:00      402               SCEL                    SAME   \n",
       "\n",
       "      airline_code_s              date_o flight_o city_code_destination_o  \\\n",
       "658              DAL 2017-01-07 09:20:00      146                    KATL   \n",
       "659              DAL 2017-01-07 21:44:00      146                    KATL   \n",
       "1459             SKU 2017-01-28 15:29:00       43                    SCVD   \n",
       "2524             SKU 2017-01-28 16:56:00       43                    SCVD   \n",
       "7519             SKU 2017-02-26 06:45:00       71                    SCIE   \n",
       "...              ...                 ...      ...                     ...   \n",
       "55501            LAW 2017-10-21 13:01:00      600                    SPJC   \n",
       "55470            LAW 2017-10-23 01:17:00      402                    SAME   \n",
       "55471            LAW 2017-10-23 23:49:00      402                    SAME   \n",
       "61548            LAW 2017-11-13 01:12:00      402                    SAME   \n",
       "61549            LAW 2017-11-13 22:11:00      402                    SAME   \n",
       "\n",
       "      airline_code_o   wday_o type             airline_o city_origin  \\\n",
       "658              DAL   Sabado    I             Delta Air    Santiago   \n",
       "659              DAL   Sabado    I             Delta Air    Santiago   \n",
       "1459             SKU   Sabado    N           Sky Airline    Santiago   \n",
       "2524             SKU   Sabado    N           Sky Airline    Santiago   \n",
       "7519             SKU  Domingo    N           Sky Airline    Santiago   \n",
       "...              ...      ...  ...                   ...         ...   \n",
       "55501            JMR   Sabado    I  Latin American Wings    Santiago   \n",
       "55470            JMR    Lunes    I  Latin American Wings    Santiago   \n",
       "55471            JMR    Lunes    I  Latin American Wings    Santiago   \n",
       "61548            JMR    Lunes    I  Latin American Wings    Santiago   \n",
       "61549            JMR    Lunes    I  Latin American Wings    Santiago   \n",
       "\n",
       "      city_destination date_wo_time_s  n  \n",
       "658            Atlanta     2017-01-07  2  \n",
       "659            Atlanta     2017-01-07  2  \n",
       "1459          Valdivia     2017-01-28  2  \n",
       "2524          Valdivia     2017-01-28  2  \n",
       "7519        Concepcion     2017-02-26  2  \n",
       "...                ...            ... ..  \n",
       "55501             Lima     2017-10-21  2  \n",
       "55470          Mendoza     2017-10-23  2  \n",
       "55471          Mendoza     2017-10-23  2  \n",
       "61548          Mendoza     2017-11-13  2  \n",
       "61549          Mendoza     2017-11-13  2  \n",
       "\n",
       "[38 rows x 16 columns]"
      ]
     },
     "execution_count": 432,
     "metadata": {},
     "output_type": "execute_result"
    }
   ],
   "source": [
    "duplicates = extract_duplicates(flights, ['date_wo_time_s', 'flight_s', 'airline_code_s']) \n",
    "duplicates"
   ]
  },
  {
   "cell_type": "markdown",
   "id": "0b5c5e85-6421-4034-b978-cef4612b799c",
   "metadata": {},
   "source": [
    "There is however a stranger duplicate, that contains exactly the same information for all columns, except the operation time of the flight. It corresponds to a flight operated by SKY, from Santiago to Puerto Montt. This case should probably not happen, so its two rows are deleted. The final data frame that will be used for analysis and modeling is `flights`."
   ]
  },
  {
   "cell_type": "code",
   "execution_count": 450,
   "id": "794ef435-52bb-47e1-ade2-159308cadd09",
   "metadata": {
    "collapsed": true,
    "jupyter": {
     "outputs_hidden": true
    },
    "tags": []
   },
   "outputs": [
    {
     "name": "stdout",
     "output_type": "stream",
     "text": [
      "Rows before removal of duplicates: 68206\n",
      "Duplicates with time:\n"
     ]
    },
    {
     "data": {
      "text/html": [
       "<div>\n",
       "<style scoped>\n",
       "    .dataframe tbody tr th:only-of-type {\n",
       "        vertical-align: middle;\n",
       "    }\n",
       "\n",
       "    .dataframe tbody tr th {\n",
       "        vertical-align: top;\n",
       "    }\n",
       "\n",
       "    .dataframe thead th {\n",
       "        text-align: right;\n",
       "    }\n",
       "</style>\n",
       "<table border=\"1\" class=\"dataframe\">\n",
       "  <thead>\n",
       "    <tr style=\"text-align: right;\">\n",
       "      <th></th>\n",
       "      <th>date_s</th>\n",
       "      <th>flight_s</th>\n",
       "      <th>city_code_origin_s</th>\n",
       "      <th>city_code_destination_s</th>\n",
       "      <th>airline_code_s</th>\n",
       "      <th>date_o</th>\n",
       "      <th>flight_o</th>\n",
       "      <th>city_code_destination_o</th>\n",
       "      <th>airline_code_o</th>\n",
       "      <th>wday_o</th>\n",
       "      <th>type</th>\n",
       "      <th>airline_o</th>\n",
       "      <th>city_origin</th>\n",
       "      <th>city_destination</th>\n",
       "      <th>date_wo_time_s</th>\n",
       "      <th>n</th>\n",
       "    </tr>\n",
       "  </thead>\n",
       "  <tbody>\n",
       "    <tr>\n",
       "      <th>12719</th>\n",
       "      <td>2017-03-26 08:55:00</td>\n",
       "      <td>1</td>\n",
       "      <td>SCEL</td>\n",
       "      <td>SCTE</td>\n",
       "      <td>SKU</td>\n",
       "      <td>2017-03-26 10:00:00</td>\n",
       "      <td>1</td>\n",
       "      <td>SCTE</td>\n",
       "      <td>SKU</td>\n",
       "      <td>Domingo</td>\n",
       "      <td>N</td>\n",
       "      <td>Sky Airline</td>\n",
       "      <td>Santiago</td>\n",
       "      <td>Puerto Montt</td>\n",
       "      <td>2017-03-26</td>\n",
       "      <td>2</td>\n",
       "    </tr>\n",
       "    <tr>\n",
       "      <th>13905</th>\n",
       "      <td>2017-03-26 08:55:00</td>\n",
       "      <td>1</td>\n",
       "      <td>SCEL</td>\n",
       "      <td>SCTE</td>\n",
       "      <td>SKU</td>\n",
       "      <td>2017-03-26 09:02:00</td>\n",
       "      <td>1</td>\n",
       "      <td>SCTE</td>\n",
       "      <td>SKU</td>\n",
       "      <td>Domingo</td>\n",
       "      <td>N</td>\n",
       "      <td>Sky Airline</td>\n",
       "      <td>Santiago</td>\n",
       "      <td>Puerto Montt</td>\n",
       "      <td>2017-03-26</td>\n",
       "      <td>2</td>\n",
       "    </tr>\n",
       "  </tbody>\n",
       "</table>\n",
       "</div>"
      ],
      "text/plain": [
       "                   date_s flight_s city_code_origin_s city_code_destination_s  \\\n",
       "12719 2017-03-26 08:55:00        1               SCEL                    SCTE   \n",
       "13905 2017-03-26 08:55:00        1               SCEL                    SCTE   \n",
       "\n",
       "      airline_code_s              date_o flight_o city_code_destination_o  \\\n",
       "12719            SKU 2017-03-26 10:00:00        1                    SCTE   \n",
       "13905            SKU 2017-03-26 09:02:00        1                    SCTE   \n",
       "\n",
       "      airline_code_o   wday_o type    airline_o city_origin city_destination  \\\n",
       "12719            SKU  Domingo    N  Sky Airline    Santiago     Puerto Montt   \n",
       "13905            SKU  Domingo    N  Sky Airline    Santiago     Puerto Montt   \n",
       "\n",
       "      date_wo_time_s  n  \n",
       "12719     2017-03-26  2  \n",
       "13905     2017-03-26  2  "
      ]
     },
     "metadata": {},
     "output_type": "display_data"
    },
    {
     "name": "stdout",
     "output_type": "stream",
     "text": [
      "Rows after removal of duplicates: 68204\n"
     ]
    }
   ],
   "source": [
    "print('Rows before removal of duplicates: ' + str(len(flights_w_duplicates)))\n",
    "duplicates_with_time = extract_duplicates(flights_w_duplicates, ['date_s', 'flight_s', 'airline_code_s'])\n",
    "print('Duplicates with time:')\n",
    "display(duplicates_with_time)\n",
    "flights_w_duplicates = flights_w_duplicates \\\n",
    "        .groupby(['date_s', 'flight_s', 'airline_code_s'], group_keys = False) \\\n",
    "        .apply(lambda x: x.assign(n = x.shape[0])).reset_index(drop=True)\n",
    "flights = flights_w_duplicates[flights_w_duplicates['n'] == 1].copy()\n",
    "print('Rows after removal of duplicates: ' + str(len(flights)))"
   ]
  },
  {
   "cell_type": "markdown",
   "id": "7d3f5396",
   "metadata": {
    "tags": []
   },
   "source": [
    "# Data Distribution"
   ]
  },
  {
   "cell_type": "markdown",
   "id": "26e29ea5",
   "metadata": {
    "jp-MarkdownHeadingCollapsed": true,
    "tags": []
   },
   "source": [
    "## Number of Flights Over Time"
   ]
  },
  {
   "cell_type": "markdown",
   "id": "bedc5009-3ce5-4aae-acf3-8c02efa47d26",
   "metadata": {},
   "source": [
    "The number of flights per day is examined in the following plot. There is an apparent weekly seasonality with a lot of variability."
   ]
  },
  {
   "cell_type": "code",
   "execution_count": 441,
   "id": "591f823c",
   "metadata": {
    "tags": []
   },
   "outputs": [
    {
     "data": {
      "text/plain": [
       "<Axes: xlabel='date_s'>"
      ]
     },
     "execution_count": 441,
     "metadata": {},
     "output_type": "execute_result"
    },
    {
     "data": {
      "image/png": "[encoded data removed]",
      "text/plain": [
       "<Figure size 640x480 with 1 Axes>"
      ]
     },
     "metadata": {},
     "output_type": "display_data"
    }
   ],
   "source": [
    "flights.resample('D', on = 'date_s').size().plot()"
   ]
  },
  {
   "cell_type": "markdown",
   "id": "2353bfa6",
   "metadata": {},
   "source": [
    "In order to eliminate the weekly seasonality and observe more easily the trends, the number of flight per week is also plotted. In this plot we observe that the first and last weeks contain less flights, but this is due to the fact that they do not contain 7 days. Also, there is a decrease of flights between march and june. Finally, it is woth mentioning that the pick of flights is at the end of december, probably due to people flying for the holidays."
   ]
  },
  {
   "cell_type": "code",
   "execution_count": 442,
   "id": "b8e918cc",
   "metadata": {
    "tags": []
   },
   "outputs": [
    {
     "data": {
      "text/plain": [
       "<Axes: xlabel='date_o'>"
      ]
     },
     "execution_count": 442,
     "metadata": {},
     "output_type": "execute_result"
    },
    {
     "data": {
      "image/png": "[encoded data removed]",
      "text/plain": [
       "<Figure size 640x480 with 1 Axes>"
      ]
     },
     "metadata": {},
     "output_type": "display_data"
    }
   ],
   "source": [
    "flights.resample('W', on = 'date_o').size().plot()"
   ]
  },
  {
   "cell_type": "markdown",
   "id": "9cc4dd0f",
   "metadata": {},
   "source": [
    "In order to analize the weekly seasonality, the mean number of flights per day of the week is shown in the following plot. It is observed that Friday is the week day with more flights and Saturday is the day with less flights. "
   ]
  },
  {
   "cell_type": "code",
   "execution_count": 459,
   "id": "b21209fb",
   "metadata": {
    "collapsed": true,
    "jupyter": {
     "outputs_hidden": true
    },
    "tags": []
   },
   "outputs": [
    {
     "data": {
      "text/plain": [
       "<Axes: xlabel='wday_s'>"
      ]
     },
     "execution_count": 459,
     "metadata": {},
     "output_type": "execute_result"
    },
    {
     "data": {
      "image/png": "[encoded data removed]",
      "text/plain": [
       "<Figure size 640x480 with 1 Axes>"
      ]
     },
     "metadata": {},
     "output_type": "display_data"
    }
   ],
   "source": [
    "flights['wday_s'] = flights['date_s'].dt.day_name()\n",
    "flights['wday_s']\n",
    "flights.groupby(['date_wo_time_s', 'wday_s']).size().reset_index(name = 'n') \\\n",
    "    .groupby('wday_s')['n'].mean().plot(kind = 'bar')"
   ]
  },
  {
   "cell_type": "markdown",
   "id": "630dc378",
   "metadata": {
    "tags": []
   },
   "source": [
    "## Origins and Destinations"
   ]
  },
  {
   "cell_type": "markdown",
   "id": "ac7150b1-69d5-4703-b93e-f90f92c95e5a",
   "metadata": {
    "jp-MarkdownHeadingCollapsed": true,
    "tags": []
   },
   "source": [
    "### Origins"
   ]
  },
  {
   "cell_type": "markdown",
   "id": "4e394632",
   "metadata": {},
   "source": [
    "All flights take off from Santiago."
   ]
  },
  {
   "cell_type": "code",
   "execution_count": 471,
   "id": "81ab5467",
   "metadata": {
    "tags": []
   },
   "outputs": [
    {
     "data": {
      "text/plain": [
       "Santiago    68204\n",
       "Name: city_origin, dtype: int64"
      ]
     },
     "execution_count": 471,
     "metadata": {},
     "output_type": "execute_result"
    }
   ],
   "source": [
    "flights['city_origin'].value_counts()"
   ]
  },
  {
   "cell_type": "markdown",
   "id": "c6f26614-f20b-4fe9-ad67-7f5b8cd69d9e",
   "metadata": {
    "jp-MarkdownHeadingCollapsed": true,
    "tags": []
   },
   "source": [
    "### Destinations"
   ]
  },
  {
   "cell_type": "markdown",
   "id": "d5564889-2805-48fe-95cd-b7d33b7ab8ae",
   "metadata": {},
   "source": [
    "None of the flights lands in Santiago. The data is supossed to have observations of flights that land in Santiago too, so there might be an issue with the provided file. Nevertheless, the analysis is continued with this warning in mind."
   ]
  },
  {
   "cell_type": "code",
   "execution_count": 469,
   "id": "abd7fbbc-7a29-4ef5-9f63-756d8b64ea88",
   "metadata": {
    "tags": []
   },
   "outputs": [
    {
     "data": {
      "text/plain": [
       "0"
      ]
     },
     "execution_count": 469,
     "metadata": {},
     "output_type": "execute_result"
    }
   ],
   "source": [
    "sum(flights['city_code_destination_o'] == 'SCEL')"
   ]
  },
  {
   "cell_type": "markdown",
   "id": "f84d7251",
   "metadata": {},
   "source": [
    "Buenos Aires, Antofagasta, Lima and Calama are the most popular destinations. Also, there are some destinations with very few flights, such as Washington."
   ]
  },
  {
   "cell_type": "code",
   "execution_count": 472,
   "id": "9933e92d",
   "metadata": {
    "tags": []
   },
   "outputs": [
    {
     "data": {
      "text/plain": [
       "<Axes: xlabel='city_destination'>"
      ]
     },
     "execution_count": 472,
     "metadata": {},
     "output_type": "execute_result"
    },
    {
     "data": {
      "image/png": "[encoded data removed]",
      "text/plain": [
       "<Figure size 2000x500 with 1 Axes>"
      ]
     },
     "metadata": {},
     "output_type": "display_data"
    }
   ],
   "source": [
    "flights.groupby('city_destination').size().reset_index(name = 'n') \\\n",
    "    .sort_values('n', ascending = False) \\\n",
    "    .plot(x = 'city_destination', y = 'n', kind = 'bar', figsize=(20, 5))"
   ]
  },
  {
   "cell_type": "markdown",
   "id": "111f40f5",
   "metadata": {},
   "source": [
    "There are more national flights than international ones."
   ]
  },
  {
   "cell_type": "code",
   "execution_count": 474,
   "id": "e62b9fa6",
   "metadata": {
    "tags": []
   },
   "outputs": [
    {
     "data": {
      "text/plain": [
       "<Axes: xlabel='type'>"
      ]
     },
     "execution_count": 474,
     "metadata": {},
     "output_type": "execute_result"
    },
    {
     "data": {
      "image/png": "[encoded data removed]",
      "text/plain": [
       "<Figure size 2000x500 with 1 Axes>"
      ]
     },
     "metadata": {},
     "output_type": "display_data"
    }
   ],
   "source": [
    "flights.groupby('type').size().reset_index(name = 'n') \\\n",
    "    .sort_values('n', ascending = False) \\\n",
    "    .plot(x = 'type', y = 'n', kind = 'bar', figsize=(20, 5))"
   ]
  },
  {
   "cell_type": "markdown",
   "id": "42a27ce5-bfb5-4753-b8e4-b306470c1066",
   "metadata": {},
   "source": [
    "There are 28 cases where the city of destination is different for the scheduled and operated flights. This is probably because sometimes the operated flight requires a stopover not previously considered in the scheduled flight."
   ]
  },
  {
   "cell_type": "code",
   "execution_count": 486,
   "id": "05b5ac0f-bf8f-4100-9827-4f5afd808829",
   "metadata": {
    "tags": []
   },
   "outputs": [
    {
     "data": {
      "text/plain": [
       "28"
      ]
     },
     "execution_count": 486,
     "metadata": {},
     "output_type": "execute_result"
    }
   ],
   "source": [
    "sum(flights['city_code_destination_s'] != flights['city_code_destination_o'])"
   ]
  },
  {
   "cell_type": "markdown",
   "id": "88d2850f",
   "metadata": {
    "jp-MarkdownHeadingCollapsed": true,
    "tags": []
   },
   "source": [
    "## Flights by Airline"
   ]
  },
  {
   "cell_type": "markdown",
   "id": "24306834",
   "metadata": {},
   "source": [
    "Sometimes different airline codes have the same airline name. In particular, Grupo Latam has 7 different codes in 2017, which probably correspond to the same group of airlines in different countries."
   ]
  },
  {
   "cell_type": "code",
   "execution_count": 114,
   "id": "40c2fb06",
   "metadata": {
    "collapsed": true,
    "jupyter": {
     "outputs_hidden": true
    },
    "tags": []
   },
   "outputs": [
    {
     "data": {
      "text/html": [
       "<div>\n",
       "<style scoped>\n",
       "    .dataframe tbody tr th:only-of-type {\n",
       "        vertical-align: middle;\n",
       "    }\n",
       "\n",
       "    .dataframe tbody tr th {\n",
       "        vertical-align: top;\n",
       "    }\n",
       "\n",
       "    .dataframe thead th {\n",
       "        text-align: right;\n",
       "    }\n",
       "</style>\n",
       "<table border=\"1\" class=\"dataframe\">\n",
       "  <thead>\n",
       "    <tr style=\"text-align: right;\">\n",
       "      <th></th>\n",
       "      <th>airline_o</th>\n",
       "      <th>airline_code_o</th>\n",
       "      <th>n</th>\n",
       "    </tr>\n",
       "  </thead>\n",
       "  <tbody>\n",
       "    <tr>\n",
       "      <th>0</th>\n",
       "      <td>Aerolineas Argentinas</td>\n",
       "      <td>ARG</td>\n",
       "      <td>1944</td>\n",
       "    </tr>\n",
       "    <tr>\n",
       "      <th>1</th>\n",
       "      <td>Aerolineas Argentinas</td>\n",
       "      <td>AUT</td>\n",
       "      <td>5</td>\n",
       "    </tr>\n",
       "    <tr>\n",
       "      <th>2</th>\n",
       "      <td>Aeromexico</td>\n",
       "      <td>AMX</td>\n",
       "      <td>351</td>\n",
       "    </tr>\n",
       "    <tr>\n",
       "      <th>3</th>\n",
       "      <td>Air Canada</td>\n",
       "      <td>ACA</td>\n",
       "      <td>565</td>\n",
       "    </tr>\n",
       "    <tr>\n",
       "      <th>4</th>\n",
       "      <td>Air France</td>\n",
       "      <td>AFR</td>\n",
       "      <td>358</td>\n",
       "    </tr>\n",
       "    <tr>\n",
       "      <th>5</th>\n",
       "      <td>Alitalia</td>\n",
       "      <td>AZA</td>\n",
       "      <td>259</td>\n",
       "    </tr>\n",
       "    <tr>\n",
       "      <th>6</th>\n",
       "      <td>American Airlines</td>\n",
       "      <td>AAL</td>\n",
       "      <td>757</td>\n",
       "    </tr>\n",
       "    <tr>\n",
       "      <th>8</th>\n",
       "      <td>Austral</td>\n",
       "      <td>AUT</td>\n",
       "      <td>72</td>\n",
       "    </tr>\n",
       "    <tr>\n",
       "      <th>7</th>\n",
       "      <td>Austral</td>\n",
       "      <td>ARG</td>\n",
       "      <td>2</td>\n",
       "    </tr>\n",
       "    <tr>\n",
       "      <th>9</th>\n",
       "      <td>Avianca</td>\n",
       "      <td>AVA</td>\n",
       "      <td>885</td>\n",
       "    </tr>\n",
       "    <tr>\n",
       "      <th>10</th>\n",
       "      <td>Avianca</td>\n",
       "      <td>LRC</td>\n",
       "      <td>265</td>\n",
       "    </tr>\n",
       "    <tr>\n",
       "      <th>11</th>\n",
       "      <td>Avianca</td>\n",
       "      <td>TPU</td>\n",
       "      <td>2</td>\n",
       "    </tr>\n",
       "    <tr>\n",
       "      <th>12</th>\n",
       "      <td>British Airways</td>\n",
       "      <td>BAW</td>\n",
       "      <td>205</td>\n",
       "    </tr>\n",
       "    <tr>\n",
       "      <th>13</th>\n",
       "      <td>Copa Air</td>\n",
       "      <td>CMP</td>\n",
       "      <td>1850</td>\n",
       "    </tr>\n",
       "    <tr>\n",
       "      <th>14</th>\n",
       "      <td>Delta Air</td>\n",
       "      <td>DAL</td>\n",
       "      <td>358</td>\n",
       "    </tr>\n",
       "    <tr>\n",
       "      <th>15</th>\n",
       "      <td>Gol Trans</td>\n",
       "      <td>GLO</td>\n",
       "      <td>806</td>\n",
       "    </tr>\n",
       "    <tr>\n",
       "      <th>17</th>\n",
       "      <td>Grupo LATAM</td>\n",
       "      <td>LAN</td>\n",
       "      <td>20988</td>\n",
       "    </tr>\n",
       "    <tr>\n",
       "      <th>21</th>\n",
       "      <td>Grupo LATAM</td>\n",
       "      <td>LXP</td>\n",
       "      <td>14558</td>\n",
       "    </tr>\n",
       "    <tr>\n",
       "      <th>22</th>\n",
       "      <td>Grupo LATAM</td>\n",
       "      <td>TAM</td>\n",
       "      <td>3046</td>\n",
       "    </tr>\n",
       "    <tr>\n",
       "      <th>20</th>\n",
       "      <td>Grupo LATAM</td>\n",
       "      <td>LPE</td>\n",
       "      <td>1214</td>\n",
       "    </tr>\n",
       "    <tr>\n",
       "      <th>16</th>\n",
       "      <td>Grupo LATAM</td>\n",
       "      <td>DSM</td>\n",
       "      <td>493</td>\n",
       "    </tr>\n",
       "    <tr>\n",
       "      <th>19</th>\n",
       "      <td>Grupo LATAM</td>\n",
       "      <td>LNE</td>\n",
       "      <td>374</td>\n",
       "    </tr>\n",
       "    <tr>\n",
       "      <th>18</th>\n",
       "      <td>Grupo LATAM</td>\n",
       "      <td>LAP</td>\n",
       "      <td>219</td>\n",
       "    </tr>\n",
       "    <tr>\n",
       "      <th>23</th>\n",
       "      <td>Iberia</td>\n",
       "      <td>IBE</td>\n",
       "      <td>362</td>\n",
       "    </tr>\n",
       "    <tr>\n",
       "      <th>24</th>\n",
       "      <td>JetSmart SPA</td>\n",
       "      <td>JAT</td>\n",
       "      <td>1095</td>\n",
       "    </tr>\n",
       "    <tr>\n",
       "      <th>25</th>\n",
       "      <td>K.L.M.</td>\n",
       "      <td>KLM</td>\n",
       "      <td>251</td>\n",
       "    </tr>\n",
       "    <tr>\n",
       "      <th>26</th>\n",
       "      <td>Lacsa</td>\n",
       "      <td>LRC</td>\n",
       "      <td>92</td>\n",
       "    </tr>\n",
       "    <tr>\n",
       "      <th>29</th>\n",
       "      <td>Latin American Wings</td>\n",
       "      <td>JMR</td>\n",
       "      <td>1647</td>\n",
       "    </tr>\n",
       "    <tr>\n",
       "      <th>28</th>\n",
       "      <td>Latin American Wings</td>\n",
       "      <td>56R</td>\n",
       "      <td>17</td>\n",
       "    </tr>\n",
       "    <tr>\n",
       "      <th>27</th>\n",
       "      <td>Latin American Wings</td>\n",
       "      <td>48O</td>\n",
       "      <td>10</td>\n",
       "    </tr>\n",
       "    <tr>\n",
       "      <th>30</th>\n",
       "      <td>Oceanair Linhas Aereas</td>\n",
       "      <td>ONE</td>\n",
       "      <td>279</td>\n",
       "    </tr>\n",
       "    <tr>\n",
       "      <th>31</th>\n",
       "      <td>Plus Ultra Lineas Aereas</td>\n",
       "      <td>PUE</td>\n",
       "      <td>49</td>\n",
       "    </tr>\n",
       "    <tr>\n",
       "      <th>32</th>\n",
       "      <td>Qantas Airways</td>\n",
       "      <td>QFA</td>\n",
       "      <td>195</td>\n",
       "    </tr>\n",
       "    <tr>\n",
       "      <th>33</th>\n",
       "      <td>Sky Airline</td>\n",
       "      <td>SKU</td>\n",
       "      <td>14298</td>\n",
       "    </tr>\n",
       "    <tr>\n",
       "      <th>34</th>\n",
       "      <td>United Airlines</td>\n",
       "      <td>UAL</td>\n",
       "      <td>335</td>\n",
       "    </tr>\n",
       "  </tbody>\n",
       "</table>\n",
       "</div>"
      ],
      "text/plain": [
       "                   airline_o airline_code_o      n\n",
       "0      Aerolineas Argentinas            ARG   1944\n",
       "1      Aerolineas Argentinas            AUT      5\n",
       "2                 Aeromexico            AMX    351\n",
       "3                 Air Canada            ACA    565\n",
       "4                 Air France            AFR    358\n",
       "5                   Alitalia            AZA    259\n",
       "6          American Airlines            AAL    757\n",
       "8                    Austral            AUT     72\n",
       "7                    Austral            ARG      2\n",
       "9                    Avianca            AVA    885\n",
       "10                   Avianca            LRC    265\n",
       "11                   Avianca            TPU      2\n",
       "12           British Airways            BAW    205\n",
       "13                  Copa Air            CMP   1850\n",
       "14                 Delta Air            DAL    358\n",
       "15                 Gol Trans            GLO    806\n",
       "17               Grupo LATAM            LAN  20988\n",
       "21               Grupo LATAM            LXP  14558\n",
       "22               Grupo LATAM            TAM   3046\n",
       "20               Grupo LATAM            LPE   1214\n",
       "16               Grupo LATAM            DSM    493\n",
       "19               Grupo LATAM            LNE    374\n",
       "18               Grupo LATAM            LAP    219\n",
       "23                    Iberia            IBE    362\n",
       "24              JetSmart SPA            JAT   1095\n",
       "25                    K.L.M.            KLM    251\n",
       "26                     Lacsa            LRC     92\n",
       "29      Latin American Wings            JMR   1647\n",
       "28      Latin American Wings            56R     17\n",
       "27      Latin American Wings            48O     10\n",
       "30    Oceanair Linhas Aereas            ONE    279\n",
       "31  Plus Ultra Lineas Aereas            PUE     49\n",
       "32            Qantas Airways            QFA    195\n",
       "33               Sky Airline            SKU  14298\n",
       "34           United Airlines            UAL    335"
      ]
     },
     "execution_count": 114,
     "metadata": {},
     "output_type": "execute_result"
    }
   ],
   "source": [
    "flights.groupby(['airline_o', 'airline_code_o']).size().reset_index(name = 'n').sort_values(['airline_o', 'n'], ascending = [True, False])"
   ]
  },
  {
   "cell_type": "markdown",
   "id": "235da9f0",
   "metadata": {},
   "source": [
    "In some cases, the code of the airline that operates is different than the code of the scheduled airline. Nevertheless, it seems that these cases only occur within the same airline group (eg Grupo Latam)."
   ]
  },
  {
   "cell_type": "code",
   "execution_count": 483,
   "id": "f7a7e8b9",
   "metadata": {
    "collapsed": true,
    "jupyter": {
     "outputs_hidden": true
    },
    "tags": []
   },
   "outputs": [
    {
     "data": {
      "text/html": [
       "<div>\n",
       "<style scoped>\n",
       "    .dataframe tbody tr th:only-of-type {\n",
       "        vertical-align: middle;\n",
       "    }\n",
       "\n",
       "    .dataframe tbody tr th {\n",
       "        vertical-align: top;\n",
       "    }\n",
       "\n",
       "    .dataframe thead th {\n",
       "        text-align: right;\n",
       "    }\n",
       "</style>\n",
       "<table border=\"1\" class=\"dataframe\">\n",
       "  <thead>\n",
       "    <tr style=\"text-align: right;\">\n",
       "      <th></th>\n",
       "      <th>airline_code_s</th>\n",
       "      <th>airline_code_o</th>\n",
       "      <th>airline_o</th>\n",
       "      <th>n</th>\n",
       "    </tr>\n",
       "  </thead>\n",
       "  <tbody>\n",
       "    <tr>\n",
       "      <th>7</th>\n",
       "      <td>LAN</td>\n",
       "      <td>LXP</td>\n",
       "      <td>Grupo LATAM</td>\n",
       "      <td>14549</td>\n",
       "    </tr>\n",
       "    <tr>\n",
       "      <th>10</th>\n",
       "      <td>LAW</td>\n",
       "      <td>JMR</td>\n",
       "      <td>Latin American Wings</td>\n",
       "      <td>1547</td>\n",
       "    </tr>\n",
       "    <tr>\n",
       "      <th>6</th>\n",
       "      <td>LAN</td>\n",
       "      <td>LPE</td>\n",
       "      <td>Grupo LATAM</td>\n",
       "      <td>1210</td>\n",
       "    </tr>\n",
       "    <tr>\n",
       "      <th>4</th>\n",
       "      <td>LAN</td>\n",
       "      <td>DSM</td>\n",
       "      <td>Grupo LATAM</td>\n",
       "      <td>491</td>\n",
       "    </tr>\n",
       "    <tr>\n",
       "      <th>5</th>\n",
       "      <td>LAN</td>\n",
       "      <td>LNE</td>\n",
       "      <td>Grupo LATAM</td>\n",
       "      <td>373</td>\n",
       "    </tr>\n",
       "    <tr>\n",
       "      <th>2</th>\n",
       "      <td>AVA</td>\n",
       "      <td>LRC</td>\n",
       "      <td>Avianca</td>\n",
       "      <td>265</td>\n",
       "    </tr>\n",
       "    <tr>\n",
       "      <th>11</th>\n",
       "      <td>QFU</td>\n",
       "      <td>QFA</td>\n",
       "      <td>Qantas Airways</td>\n",
       "      <td>195</td>\n",
       "    </tr>\n",
       "    <tr>\n",
       "      <th>9</th>\n",
       "      <td>LAW</td>\n",
       "      <td>56R</td>\n",
       "      <td>Latin American Wings</td>\n",
       "      <td>17</td>\n",
       "    </tr>\n",
       "    <tr>\n",
       "      <th>8</th>\n",
       "      <td>LAW</td>\n",
       "      <td>48O</td>\n",
       "      <td>Latin American Wings</td>\n",
       "      <td>10</td>\n",
       "    </tr>\n",
       "    <tr>\n",
       "      <th>0</th>\n",
       "      <td>ARG</td>\n",
       "      <td>AUT</td>\n",
       "      <td>Aerolineas Argentinas</td>\n",
       "      <td>5</td>\n",
       "    </tr>\n",
       "    <tr>\n",
       "      <th>12</th>\n",
       "      <td>TAM</td>\n",
       "      <td>LAP</td>\n",
       "      <td>Grupo LATAM</td>\n",
       "      <td>3</td>\n",
       "    </tr>\n",
       "    <tr>\n",
       "      <th>1</th>\n",
       "      <td>AUT</td>\n",
       "      <td>ARG</td>\n",
       "      <td>Austral</td>\n",
       "      <td>2</td>\n",
       "    </tr>\n",
       "    <tr>\n",
       "      <th>3</th>\n",
       "      <td>AVA</td>\n",
       "      <td>TPU</td>\n",
       "      <td>Avianca</td>\n",
       "      <td>2</td>\n",
       "    </tr>\n",
       "  </tbody>\n",
       "</table>\n",
       "</div>"
      ],
      "text/plain": [
       "   airline_code_s airline_code_o              airline_o      n\n",
       "7             LAN            LXP            Grupo LATAM  14549\n",
       "10            LAW            JMR   Latin American Wings   1547\n",
       "6             LAN            LPE            Grupo LATAM   1210\n",
       "4             LAN            DSM            Grupo LATAM    491\n",
       "5             LAN            LNE            Grupo LATAM    373\n",
       "2             AVA            LRC                Avianca    265\n",
       "11            QFU            QFA         Qantas Airways    195\n",
       "9             LAW            56R   Latin American Wings     17\n",
       "8             LAW            48O   Latin American Wings     10\n",
       "0             ARG            AUT  Aerolineas Argentinas      5\n",
       "12            TAM            LAP            Grupo LATAM      3\n",
       "1             AUT            ARG                Austral      2\n",
       "3             AVA            TPU                Avianca      2"
      ]
     },
     "execution_count": 483,
     "metadata": {},
     "output_type": "execute_result"
    }
   ],
   "source": [
    "flights.columns\n",
    "pd.DataFrame(\n",
    "    flights[flights['airline_code_s'] != flights['airline_code_o']] \\\n",
    "    .groupby(['airline_code_s', 'airline_code_o', 'airline_o']) \\\n",
    "    .size() \\\n",
    "    .reset_index(name = 'n') \\\n",
    "    .sort_values('n', ascending = False))\n",
    "# flights[flights['aeroline_code_s'] != flights['aeroline_code_o']].size('aeroline_code_s', 'aeroline_code_o')"
   ]
  },
  {
   "cell_type": "markdown",
   "id": "fb1c45b1",
   "metadata": {},
   "source": [
    "The airline with more flights is Grupo LATAM by far, followed by Sky Airline. The rest of the airlines concentrate a very little percentage of flights."
   ]
  },
  {
   "cell_type": "code",
   "execution_count": 484,
   "id": "32046647",
   "metadata": {
    "tags": []
   },
   "outputs": [
    {
     "data": {
      "text/plain": [
       "<Axes: xlabel='airline_o'>"
      ]
     },
     "execution_count": 484,
     "metadata": {},
     "output_type": "execute_result"
    },
    {
     "data": {
      "image/png": "[encoded data removed]",
      "text/plain": [
       "<Figure size 2000x500 with 1 Axes>"
      ]
     },
     "metadata": {},
     "output_type": "display_data"
    }
   ],
   "source": [
    "flights.groupby('airline_o').size().reset_index(name = 'n') \\\n",
    "    .sort_values('n', ascending = False) \\\n",
    "    .plot(x = 'airline_o', y = 'n', kind = 'bar', figsize=(20, 5))"
   ]
  },
  {
   "cell_type": "markdown",
   "id": "98a93558",
   "metadata": {
    "jp-MarkdownHeadingCollapsed": true,
    "tags": []
   },
   "source": [
    "# Feature Engineering"
   ]
  },
  {
   "cell_type": "markdown",
   "id": "0f3602d6",
   "metadata": {},
   "source": [
    "The high_season, min_diff, delay_15 and period_day columns are added"
   ]
  },
  {
   "cell_type": "code",
   "execution_count": 488,
   "id": "94494796",
   "metadata": {
    "tags": []
   },
   "outputs": [],
   "source": [
    "# high_season\n",
    "flights['high_season'] = (flights['date_s'].dt.date <= dt.date(2017, 3, 3)) | \\\n",
    "    (flights['date_s'].dt.date >= dt.date(2017, 12, 15)) | \\\n",
    "    ((flights['date_s'].dt.date >= dt.date(2017, 7, 15)) & \n",
    "        (flights['date_s'].dt.date <= dt.date(2017, 7, 31))) | \\\n",
    "    ((flights['date_s'].dt.date >= dt.date(2017, 9, 11)) & \n",
    "        (flights['date_s'].dt.date <= dt.date(2017, 9, 30)))\n",
    "flights['high_season'] = flights['high_season'].astype('int')\n",
    "\n",
    "# min_diff\n",
    "flights['min_diff'] = (flights['date_o'] - flights['date_s']).dt.total_seconds() / 60\n",
    "\n",
    "# delay_15\n",
    "flights['delay_15'] = flights['min_diff'] > 15\n",
    "flights['delay_15'] = flights['delay_15'].astype('int')\n",
    "\n",
    "# period_day\n",
    "bins_period_day = [-1, 4, 11, 18, 24]\n",
    "labels_period_day = ['night', 'morning', 'afternoon', 'night']\n",
    "flights['period_day'] = pd.cut(flights['date_s'].dt.hour, bins = bins_period_day, \n",
    "                                 labels = labels_period_day, ordered = False)"
   ]
  },
  {
   "cell_type": "markdown",
   "id": "5824f9e9-280c-4e20-b862-85d567d5df64",
   "metadata": {},
   "source": [
    "Most delays are no longer than 25 minutes. Also, there are some case where the plane takes off before the scheduled time of the flight. This might happen if all the passengers are already inside the plane and the plane is ready to start the flight. In those cases, maybe the flight is allowed to start a little earlier. Also, it is noticed that none of the delays is greater than 3 hours, maybe because in those situations consumers have the right to a compensation (https://www.sernac.cl/portal/607/w3-article-5594.html), so airlines are very carefull to avoid those cases."
   ]
  },
  {
   "cell_type": "code",
   "execution_count": 495,
   "id": "478c685f-bce4-49f8-bc4f-d7ed0c44d398",
   "metadata": {
    "collapsed": true,
    "jupyter": {
     "outputs_hidden": true
    },
    "tags": []
   },
   "outputs": [
    {
     "name": "stdout",
     "output_type": "stream",
     "text": [
      "count    68204.000000\n",
      "mean         9.110067\n",
      "std         19.312483\n",
      "min        -14.000000\n",
      "25%         -1.000000\n",
      "50%          4.000000\n",
      "75%         12.000000\n",
      "max        161.000000\n",
      "Name: min_diff, dtype: float64\n"
     ]
    },
    {
     "data": {
      "text/plain": [
       "<Axes: ylabel='Frequency'>"
      ]
     },
     "execution_count": 495,
     "metadata": {},
     "output_type": "execute_result"
    },
    {
     "data": {
      "image/png": "[encoded data removed]",
      "text/plain": [
       "<Figure size 640x480 with 1 Axes>"
      ]
     },
     "metadata": {},
     "output_type": "display_data"
    }
   ],
   "source": [
    "print(flights['min_diff'].describe())\n",
    "flights['min_diff'].plot(kind = 'hist', bins = 50)"
   ]
  },
  {
   "cell_type": "markdown",
   "id": "1687ed87-0d61-4639-be9f-14c7779860d6",
   "metadata": {},
   "source": [
    "18% of flights have a delay greater than 15 minutes."
   ]
  },
  {
   "cell_type": "code",
   "execution_count": 493,
   "id": "b74d9907-8ae4-424a-9bf6-aa225c9db6b3",
   "metadata": {
    "tags": []
   },
   "outputs": [
    {
     "data": {
      "text/plain": [
       "0    0.815069\n",
       "1    0.184931\n",
       "Name: delay_15, dtype: float64"
      ]
     },
     "execution_count": 493,
     "metadata": {},
     "output_type": "execute_result"
    }
   ],
   "source": [
    "flights['delay_15'].value_counts(normalize = True)"
   ]
  },
  {
   "cell_type": "markdown",
   "id": "2db23692-506b-4bb8-8d7e-6111a9a120d5",
   "metadata": {
    "jupyter": {
     "outputs_hidden": true
    },
    "tags": []
   },
   "source": [
    "During nights there are fewer flights than in the morning and the afternoon."
   ]
  },
  {
   "cell_type": "code",
   "execution_count": 492,
   "id": "8ad82d39-067e-4d5e-ad80-520f6dc7b2c3",
   "metadata": {
    "tags": []
   },
   "outputs": [
    {
     "data": {
      "text/plain": [
       "afternoon    0.373966\n",
       "morning      0.371679\n",
       "night        0.254355\n",
       "Name: period_day, dtype: float64"
      ]
     },
     "execution_count": 492,
     "metadata": {},
     "output_type": "execute_result"
    }
   ],
   "source": [
    "flights['period_day'].value_counts(normalize = True)"
   ]
  },
  {
   "cell_type": "markdown",
   "id": "ed884c00-b055-4a86-949b-6a5e6bb19318",
   "metadata": {
    "tags": []
   },
   "source": [
    "# Delay Rate Across Variables"
   ]
  },
  {
   "cell_type": "markdown",
   "id": "b45bf2ee-b5fb-4758-ac9f-801932f876c2",
   "metadata": {},
   "source": [
    "It is assummed that a delay is considered as such only if it is longer than 15 minutes."
   ]
  },
  {
   "cell_type": "markdown",
   "id": "14897653-7aa4-43c6-be2c-b5bdea3ff033",
   "metadata": {
    "jp-MarkdownHeadingCollapsed": true,
    "tags": []
   },
   "source": [
    "## Delay rate by destination"
   ]
  },
  {
   "cell_type": "markdown",
   "id": "20112b44-4d05-4675-aaf2-a636cfedde50",
   "metadata": {},
   "source": [
    "Córdoba, Río de Janeiro y Mendoza son los destinos con mayor tasa de atraso. There is a lot of variability for the delay rate between different destinations."
   ]
  },
  {
   "cell_type": "code",
   "execution_count": 498,
   "id": "1dc7fecb-a7a5-4f3a-bf39-278edd22f990",
   "metadata": {
    "collapsed": true,
    "jupyter": {
     "outputs_hidden": true
    },
    "tags": []
   },
   "outputs": [
    {
     "data": {
      "text/plain": [
       "<Axes: xlabel='city_destination_summarized'>"
      ]
     },
     "execution_count": 498,
     "metadata": {},
     "output_type": "execute_result"
    },
    {
     "data": {
      "image/png": "[encoded data removed]",
      "text/plain": [
       "<Figure size 640x480 with 1 Axes>"
      ]
     },
     "metadata": {},
     "output_type": "display_data"
    }
   ],
   "source": [
    "# Cities with less than 500 flights.\n",
    "flights_by_city = flights.groupby('city_destination').size().reset_index(name = 'n')\n",
    "cities_less_than_500_flights = flights_by_city.loc[flights_by_city['n'] < 500, 'city_destination']\n",
    "cities_less_than_500_flights\n",
    "flights.loc[flights['city_destination'].isin(cities_less_than_500_flights), \n",
    "            'city_destination_summarized'] = 'Others' \n",
    "flights.loc[~ flights['city_destination'].isin(cities_less_than_500_flights), \n",
    "            'city_destination_summarized'] = flights['city_destination'] \n",
    "flights\n",
    "flights.groupby('city_destination_summarized')['delay_15'].agg([np.mean]) \\\n",
    "    .rename(columns = {'mean':'prop_delay_15'}) \\\n",
    "    .reset_index() \\\n",
    "    .sort_values('prop_delay_15', ascending = False) \\\n",
    "    .plot(x = 'city_destination_summarized', kind = 'bar')"
   ]
  },
  {
   "cell_type": "markdown",
   "id": "aa77420d-d6c8-4809-9e11-4f35ea4b0705",
   "metadata": {
    "jp-MarkdownHeadingCollapsed": true,
    "tags": []
   },
   "source": [
    "## Delay rate by airline"
   ]
  },
  {
   "cell_type": "markdown",
   "id": "315deaea-bd52-4814-a0d0-7f2fb2af8e32",
   "metadata": {},
   "source": [
    "The scheduled airline code with more delay rate is by far QFU. For this analysis it is assumed that this code is a real airline, although it may refer to a type of airline code (https://en.wikipedia.org/wiki/Aeronautical_Code_signals), in which case the interpretation for the data of the code might change."
   ]
  },
  {
   "cell_type": "code",
   "execution_count": 499,
   "id": "55a0d14c-2ea4-4de7-bdc4-998bc37cbf1d",
   "metadata": {
    "tags": []
   },
   "outputs": [
    {
     "data": {
      "text/plain": [
       "<Axes: xlabel='airline_code_s_summarized'>"
      ]
     },
     "execution_count": 499,
     "metadata": {},
     "output_type": "execute_result"
    },
    {
     "data": {
      "image/png": "[encoded data removed]",
      "text/plain": [
       "<Figure size 640x480 with 1 Axes>"
      ]
     },
     "metadata": {},
     "output_type": "display_data"
    }
   ],
   "source": [
    "# Cities with less than 100 flights.\n",
    "flights_by_airline = flights.groupby('airline_code_s').size().reset_index(name = 'n')\n",
    "airlines_less_than_100_flights = flights_by_airline.loc[flights_by_airline['n'] < 100, 'airline_code_s']\n",
    "\n",
    "flights.loc[flights['airline_code_s'].isin(airlines_less_than_100_flights), \n",
    "            'airline_code_s_summarized'] = 'Others' \n",
    "flights.loc[~ flights['airline_code_s'].isin(airlines_less_than_100_flights), \n",
    "            'airline_code_s_summarized'] = flights['airline_code_s'] \n",
    "flights.groupby('airline_code_s_summarized')['delay_15'].agg([np.mean]) \\\n",
    "    .rename(columns = {'mean':'prop_delay_15'}) \\\n",
    "    .reset_index() \\\n",
    "    .sort_values('prop_delay_15', ascending = False) \\\n",
    "    .plot(x = 'airline_code_s_summarized', kind = 'bar')"
   ]
  },
  {
   "cell_type": "markdown",
   "id": "145a5692-d43b-47d2-bcd3-2d3565b5eea9",
   "metadata": {
    "jp-MarkdownHeadingCollapsed": true,
    "tags": []
   },
   "source": [
    "## Delay rate by month"
   ]
  },
  {
   "cell_type": "markdown",
   "id": "fec33f4a-8c1b-40d7-a34f-43af39daa2e5",
   "metadata": {},
   "source": [
    "The months with more percentage of delays are July and December, probably because there are a lot of flights in those months, while march is the month with less delay rate."
   ]
  },
  {
   "cell_type": "code",
   "execution_count": 135,
   "id": "5446612d-7495-49dd-8112-9a18b32f74e5",
   "metadata": {
    "tags": []
   },
   "outputs": [
    {
     "data": {
      "text/html": [
       "<div>\n",
       "<style scoped>\n",
       "    .dataframe tbody tr th:only-of-type {\n",
       "        vertical-align: middle;\n",
       "    }\n",
       "\n",
       "    .dataframe tbody tr th {\n",
       "        vertical-align: top;\n",
       "    }\n",
       "\n",
       "    .dataframe thead th {\n",
       "        text-align: right;\n",
       "    }\n",
       "</style>\n",
       "<table border=\"1\" class=\"dataframe\">\n",
       "  <thead>\n",
       "    <tr style=\"text-align: right;\">\n",
       "      <th></th>\n",
       "      <th>date_s</th>\n",
       "      <th>prop_delay_15</th>\n",
       "    </tr>\n",
       "  </thead>\n",
       "  <tbody>\n",
       "    <tr>\n",
       "      <th>6</th>\n",
       "      <td>2017-07-31</td>\n",
       "      <td>0.293440</td>\n",
       "    </tr>\n",
       "    <tr>\n",
       "      <th>11</th>\n",
       "      <td>2017-12-31</td>\n",
       "      <td>0.254051</td>\n",
       "    </tr>\n",
       "    <tr>\n",
       "      <th>9</th>\n",
       "      <td>2017-10-31</td>\n",
       "      <td>0.225962</td>\n",
       "    </tr>\n",
       "    <tr>\n",
       "      <th>10</th>\n",
       "      <td>2017-11-30</td>\n",
       "      <td>0.197336</td>\n",
       "    </tr>\n",
       "    <tr>\n",
       "      <th>7</th>\n",
       "      <td>2017-08-31</td>\n",
       "      <td>0.173398</td>\n",
       "    </tr>\n",
       "    <tr>\n",
       "      <th>8</th>\n",
       "      <td>2017-09-30</td>\n",
       "      <td>0.172371</td>\n",
       "    </tr>\n",
       "    <tr>\n",
       "      <th>5</th>\n",
       "      <td>2017-06-30</td>\n",
       "      <td>0.171016</td>\n",
       "    </tr>\n",
       "    <tr>\n",
       "      <th>0</th>\n",
       "      <td>2017-01-31</td>\n",
       "      <td>0.160282</td>\n",
       "    </tr>\n",
       "    <tr>\n",
       "      <th>4</th>\n",
       "      <td>2017-05-31</td>\n",
       "      <td>0.157664</td>\n",
       "    </tr>\n",
       "    <tr>\n",
       "      <th>1</th>\n",
       "      <td>2017-02-28</td>\n",
       "      <td>0.151591</td>\n",
       "    </tr>\n",
       "    <tr>\n",
       "      <th>3</th>\n",
       "      <td>2017-04-30</td>\n",
       "      <td>0.116710</td>\n",
       "    </tr>\n",
       "    <tr>\n",
       "      <th>2</th>\n",
       "      <td>2017-03-31</td>\n",
       "      <td>0.114781</td>\n",
       "    </tr>\n",
       "  </tbody>\n",
       "</table>\n",
       "</div>"
      ],
      "text/plain": [
       "       date_s  prop_delay_15\n",
       "6  2017-07-31       0.293440\n",
       "11 2017-12-31       0.254051\n",
       "9  2017-10-31       0.225962\n",
       "10 2017-11-30       0.197336\n",
       "7  2017-08-31       0.173398\n",
       "8  2017-09-30       0.172371\n",
       "5  2017-06-30       0.171016\n",
       "0  2017-01-31       0.160282\n",
       "4  2017-05-31       0.157664\n",
       "1  2017-02-28       0.151591\n",
       "3  2017-04-30       0.116710\n",
       "2  2017-03-31       0.114781"
      ]
     },
     "execution_count": 135,
     "metadata": {},
     "output_type": "execute_result"
    }
   ],
   "source": [
    "flights.resample('M', on = 'date_s')['delay_15'].agg([np.mean]) \\\n",
    "    .rename(columns = {'mean':'prop_delay_15'}) \\\n",
    "    .reset_index() \\\n",
    "    .sort_values('prop_delay_15', ascending = False)"
   ]
  },
  {
   "cell_type": "markdown",
   "id": "4e39eabc-941d-4886-9cca-4ef99c1b3360",
   "metadata": {
    "jp-MarkdownHeadingCollapsed": true,
    "tags": []
   },
   "source": [
    "## Delay rate by day of the week"
   ]
  },
  {
   "cell_type": "markdown",
   "id": "54991a76-18cc-48ce-9b1f-d9b1f04b1494",
   "metadata": {},
   "source": [
    "Friday is the day with more delay rate, while saturday is the day with less."
   ]
  },
  {
   "cell_type": "code",
   "execution_count": 502,
   "id": "2a05a50e-849d-414f-a2c8-8a11d6690bdd",
   "metadata": {
    "tags": []
   },
   "outputs": [
    {
     "data": {
      "text/html": [
       "<div>\n",
       "<style scoped>\n",
       "    .dataframe tbody tr th:only-of-type {\n",
       "        vertical-align: middle;\n",
       "    }\n",
       "\n",
       "    .dataframe tbody tr th {\n",
       "        vertical-align: top;\n",
       "    }\n",
       "\n",
       "    .dataframe thead th {\n",
       "        text-align: right;\n",
       "    }\n",
       "</style>\n",
       "<table border=\"1\" class=\"dataframe\">\n",
       "  <thead>\n",
       "    <tr style=\"text-align: right;\">\n",
       "      <th></th>\n",
       "      <th>wday_s</th>\n",
       "      <th>prop_delay_15</th>\n",
       "    </tr>\n",
       "  </thead>\n",
       "  <tbody>\n",
       "    <tr>\n",
       "      <th>0</th>\n",
       "      <td>Friday</td>\n",
       "      <td>0.223480</td>\n",
       "    </tr>\n",
       "    <tr>\n",
       "      <th>1</th>\n",
       "      <td>Monday</td>\n",
       "      <td>0.201129</td>\n",
       "    </tr>\n",
       "    <tr>\n",
       "      <th>4</th>\n",
       "      <td>Thursday</td>\n",
       "      <td>0.199122</td>\n",
       "    </tr>\n",
       "    <tr>\n",
       "      <th>6</th>\n",
       "      <td>Wednesday</td>\n",
       "      <td>0.171705</td>\n",
       "    </tr>\n",
       "    <tr>\n",
       "      <th>5</th>\n",
       "      <td>Tuesday</td>\n",
       "      <td>0.169460</td>\n",
       "    </tr>\n",
       "    <tr>\n",
       "      <th>3</th>\n",
       "      <td>Sunday</td>\n",
       "      <td>0.162547</td>\n",
       "    </tr>\n",
       "    <tr>\n",
       "      <th>2</th>\n",
       "      <td>Saturday</td>\n",
       "      <td>0.159764</td>\n",
       "    </tr>\n",
       "  </tbody>\n",
       "</table>\n",
       "</div>"
      ],
      "text/plain": [
       "      wday_s  prop_delay_15\n",
       "0     Friday       0.223480\n",
       "1     Monday       0.201129\n",
       "4   Thursday       0.199122\n",
       "6  Wednesday       0.171705\n",
       "5    Tuesday       0.169460\n",
       "3     Sunday       0.162547\n",
       "2   Saturday       0.159764"
      ]
     },
     "execution_count": 502,
     "metadata": {},
     "output_type": "execute_result"
    }
   ],
   "source": [
    "flights['wday_s'] = flights['date_s'].dt.day_name()\n",
    "flights.groupby('wday_s')['delay_15'].agg([np.mean]) \\\n",
    "    .rename(columns = {'mean':'prop_delay_15'}) \\\n",
    "    .reset_index() \\\n",
    "    .sort_values('prop_delay_15', ascending = False)"
   ]
  },
  {
   "cell_type": "markdown",
   "id": "3255be54-6011-4653-8ee2-85184821838c",
   "metadata": {
    "jp-MarkdownHeadingCollapsed": true,
    "tags": []
   },
   "source": [
    "## Delay rate by season"
   ]
  },
  {
   "cell_type": "markdown",
   "id": "e3d376fb-7168-482c-9e99-65fb85868310",
   "metadata": {},
   "source": [
    "Delay rate increases during high season."
   ]
  },
  {
   "cell_type": "code",
   "execution_count": 139,
   "id": "c14e477f-8247-40f3-91ca-134b1aa79f1f",
   "metadata": {
    "tags": []
   },
   "outputs": [
    {
     "data": {
      "text/html": [
       "<div>\n",
       "<style scoped>\n",
       "    .dataframe tbody tr th:only-of-type {\n",
       "        vertical-align: middle;\n",
       "    }\n",
       "\n",
       "    .dataframe tbody tr th {\n",
       "        vertical-align: top;\n",
       "    }\n",
       "\n",
       "    .dataframe thead th {\n",
       "        text-align: right;\n",
       "    }\n",
       "</style>\n",
       "<table border=\"1\" class=\"dataframe\">\n",
       "  <thead>\n",
       "    <tr style=\"text-align: right;\">\n",
       "      <th></th>\n",
       "      <th>high_season</th>\n",
       "      <th>prop_delay_15</th>\n",
       "    </tr>\n",
       "  </thead>\n",
       "  <tbody>\n",
       "    <tr>\n",
       "      <th>1</th>\n",
       "      <td>True</td>\n",
       "      <td>0.19638</td>\n",
       "    </tr>\n",
       "    <tr>\n",
       "      <th>0</th>\n",
       "      <td>False</td>\n",
       "      <td>0.17921</td>\n",
       "    </tr>\n",
       "  </tbody>\n",
       "</table>\n",
       "</div>"
      ],
      "text/plain": [
       "   high_season  prop_delay_15\n",
       "1         True        0.19638\n",
       "0        False        0.17921"
      ]
     },
     "execution_count": 139,
     "metadata": {},
     "output_type": "execute_result"
    }
   ],
   "source": [
    "flights.groupby('high_season')['delay_15'].agg([np.mean]) \\\n",
    "    .rename(columns = {'mean':'prop_delay_15'}) \\\n",
    "    .reset_index() \\\n",
    "    .sort_values('prop_delay_15', ascending = False)"
   ]
  },
  {
   "cell_type": "markdown",
   "id": "6b862711-501f-4eb2-a67d-ea153a808299",
   "metadata": {
    "jp-MarkdownHeadingCollapsed": true,
    "tags": []
   },
   "source": [
    "## Delay rate by type of flight"
   ]
  },
  {
   "cell_type": "markdown",
   "id": "fcde9c71-157b-414f-885f-226d7a2a97d2",
   "metadata": {},
   "source": [
    "International flights are more frequently delayed than national ones. This might be because they require more preparation, since the distances of the trip are longer."
   ]
  },
  {
   "cell_type": "code",
   "execution_count": 140,
   "id": "3dcbf42f-a038-4dae-b9d4-30ec39ac052d",
   "metadata": {
    "tags": []
   },
   "outputs": [
    {
     "data": {
      "text/html": [
       "<div>\n",
       "<style scoped>\n",
       "    .dataframe tbody tr th:only-of-type {\n",
       "        vertical-align: middle;\n",
       "    }\n",
       "\n",
       "    .dataframe tbody tr th {\n",
       "        vertical-align: top;\n",
       "    }\n",
       "\n",
       "    .dataframe thead th {\n",
       "        text-align: right;\n",
       "    }\n",
       "</style>\n",
       "<table border=\"1\" class=\"dataframe\">\n",
       "  <thead>\n",
       "    <tr style=\"text-align: right;\">\n",
       "      <th></th>\n",
       "      <th>type</th>\n",
       "      <th>prop_delay_15</th>\n",
       "    </tr>\n",
       "  </thead>\n",
       "  <tbody>\n",
       "    <tr>\n",
       "      <th>0</th>\n",
       "      <td>I</td>\n",
       "      <td>0.225608</td>\n",
       "    </tr>\n",
       "    <tr>\n",
       "      <th>1</th>\n",
       "      <td>N</td>\n",
       "      <td>0.150571</td>\n",
       "    </tr>\n",
       "  </tbody>\n",
       "</table>\n",
       "</div>"
      ],
      "text/plain": [
       "  type  prop_delay_15\n",
       "0    I       0.225608\n",
       "1    N       0.150571"
      ]
     },
     "execution_count": 140,
     "metadata": {},
     "output_type": "execute_result"
    }
   ],
   "source": [
    "flights.groupby('type')['delay_15'].agg([np.mean]) \\\n",
    "    .rename(columns = {'mean':'prop_delay_15'}) \\\n",
    "    .reset_index() \\\n",
    "    .sort_values('prop_delay_15', ascending = False)"
   ]
  },
  {
   "cell_type": "markdown",
   "id": "c8099a03-25b0-4e54-a7d9-d335f4090a80",
   "metadata": {
    "tags": []
   },
   "source": [
    "## Variables Expected to Influence Delays the Most"
   ]
  },
  {
   "cell_type": "markdown",
   "id": "6d30ba22-cfdf-4b66-b7c4-65b3a7fe314a",
   "metadata": {},
   "source": [
    "Given the greater variability of the delay rate for destinations and airlines, I expect these two variables to have a greater effect than the others in predicting the likelihood of a delay."
   ]
  },
  {
   "cell_type": "markdown",
   "id": "b3c811f8-b039-40dc-9420-b2db65299f91",
   "metadata": {
    "jp-MarkdownHeadingCollapsed": true,
    "tags": []
   },
   "source": [
    "# Model for Prediction of Delays"
   ]
  },
  {
   "cell_type": "markdown",
   "id": "941f3314-4c80-44e6-a389-3f8dc3094a49",
   "metadata": {
    "jp-MarkdownHeadingCollapsed": true,
    "tags": []
   },
   "source": [
    "## Data Preparation"
   ]
  },
  {
   "cell_type": "markdown",
   "id": "915bdbc0-5636-4f90-91aa-ee56a7aeb1c9",
   "metadata": {},
   "source": [
    "### Data Preprocessing"
   ]
  },
  {
   "cell_type": "code",
   "execution_count": 181,
   "id": "8a3e1fa6-8977-4fa9-b0a0-99f9ad077ab8",
   "metadata": {
    "collapsed": true,
    "jupyter": {
     "outputs_hidden": true
    },
    "tags": []
   },
   "outputs": [
    {
     "name": "stdout",
     "output_type": "stream",
     "text": [
      "Index(['date_s', 'flight_s', 'city_code_origin_s', 'city_code_destination_s',\n",
      "       'airline_code_s', 'date_o', 'flight_o', 'city_code_origin_o',\n",
      "       'city_code_destination_o', 'airline_code_o', 'wday_o', 'type',\n",
      "       'airline_o', 'city_origin', 'city_destination', 'date_wo_time',\n",
      "       'high_season', 'min_diff', 'delay_15', 'age_category', 'period_day',\n",
      "       'hour_s', 'city_destination_summarized', 'airline_code_s_summarized',\n",
      "       'wday_s'],\n",
      "      dtype='object')\n",
      "[[1 0 0 ... 0 0 0]\n",
      " [1 1 0 ... 0 0 0]\n",
      " [1 0 0 ... 0 0 0]\n",
      " ...\n",
      " [1 0 0 ... 0 0 0]\n",
      " [1 0 0 ... 0 0 0]\n",
      " [1 0 0 ... 0 0 0]]\n",
      "[[0]\n",
      " [0]\n",
      " [0]\n",
      " ...\n",
      " [1]\n",
      " [0]\n",
      " [0]]\n"
     ]
    }
   ],
   "source": [
    "print(flights.columns)\n",
    "# flights['high_season'].astype(int)\n",
    "dummy_variables = pd.get_dummies(flights[['wday_s', 'period_day', 'city_destination_summarized', \n",
    "                                          'airline_code_s_summarized']], \n",
    "                                 drop_first = True)\n",
    "X = pd.concat([flights[['high_season']], dummy_variables], axis = 1).values\n",
    "y = flights[['delay_15']].values\n",
    "print(X)\n",
    "print(y"
   ]
  },
  {
   "cell_type": "markdown",
   "id": "0490c960-60dd-43c2-912e-c64a7d55a729",
   "metadata": {
    "tags": []
   },
   "source": [
    "### Data Partition"
   ]
  },
  {
   "cell_type": "code",
   "execution_count": 272,
   "id": "39e4a98a-631b-4425-8e66-b0bd129c59a9",
   "metadata": {
    "tags": []
   },
   "outputs": [],
   "source": [
    "X_train, X_test, y_train, y_test = train_test_split(X, y, test_size = 0.2, \n",
    "                                                    random_state = 20230326, stratify=y)\n",
    "y_train = np.ravel(y_train)\n",
    "y_test = np.ravel(y_test)"
   ]
  },
  {
   "cell_type": "markdown",
   "id": "31b1de0e-9283-41fe-8cee-29305533bcc6",
   "metadata": {},
   "source": [
    "## Logistic Regression"
   ]
  },
  {
   "cell_type": "markdown",
   "id": "48037733-cc38-4c30-80c6-8ca44363d1c3",
   "metadata": {
    "jp-MarkdownHeadingCollapsed": true,
    "tags": []
   },
   "source": [
    "### Training"
   ]
  },
  {
   "cell_type": "code",
   "execution_count": 279,
   "id": "05d383cd-d9f8-4155-aead-fe9dd9ed259d",
   "metadata": {
    "tags": []
   },
   "outputs": [
    {
     "data": {
      "text/html": [
       "<style>#sk-container-id-8 {color: black;background-color: white;}#sk-container-id-8 pre{padding: 0;}#sk-container-id-8 div.sk-toggleable {background-color: white;}#sk-container-id-8 label.sk-toggleable__label {cursor: pointer;display: block;width: 100%;margin-bottom: 0;padding: 0.3em;box-sizing: border-box;text-align: center;}#sk-container-id-8 label.sk-toggleable__label-arrow:before {content: \"▸\";float: left;margin-right: 0.25em;color: #696969;}#sk-container-id-8 label.sk-toggleable__label-arrow:hover:before {color: black;}#sk-container-id-8 div.sk-estimator:hover label.sk-toggleable__label-arrow:before {color: black;}#sk-container-id-8 div.sk-toggleable__content {max-height: 0;max-width: 0;overflow: hidden;text-align: left;background-color: #f0f8ff;}#sk-container-id-8 div.sk-toggleable__content pre {margin: 0.2em;color: black;border-radius: 0.25em;background-color: #f0f8ff;}#sk-container-id-8 input.sk-toggleable__control:checked~div.sk-toggleable__content {max-height: 200px;max-width: 100%;overflow: auto;}#sk-container-id-8 input.sk-toggleable__control:checked~label.sk-toggleable__label-arrow:before {content: \"▾\";}#sk-container-id-8 div.sk-estimator input.sk-toggleable__control:checked~label.sk-toggleable__label {background-color: #d4ebff;}#sk-container-id-8 div.sk-label input.sk-toggleable__control:checked~label.sk-toggleable__label {background-color: #d4ebff;}#sk-container-id-8 input.sk-hidden--visually {border: 0;clip: rect(1px 1px 1px 1px);clip: rect(1px, 1px, 1px, 1px);height: 1px;margin: -1px;overflow: hidden;padding: 0;position: absolute;width: 1px;}#sk-container-id-8 div.sk-estimator {font-family: monospace;background-color: #f0f8ff;border: 1px dotted black;border-radius: 0.25em;box-sizing: border-box;margin-bottom: 0.5em;}#sk-container-id-8 div.sk-estimator:hover {background-color: #d4ebff;}#sk-container-id-8 div.sk-parallel-item::after {content: \"\";width: 100%;border-bottom: 1px solid gray;flex-grow: 1;}#sk-container-id-8 div.sk-label:hover label.sk-toggleable__label {background-color: #d4ebff;}#sk-container-id-8 div.sk-serial::before {content: \"\";position: absolute;border-left: 1px solid gray;box-sizing: border-box;top: 0;bottom: 0;left: 50%;z-index: 0;}#sk-container-id-8 div.sk-serial {display: flex;flex-direction: column;align-items: center;background-color: white;padding-right: 0.2em;padding-left: 0.2em;position: relative;}#sk-container-id-8 div.sk-item {position: relative;z-index: 1;}#sk-container-id-8 div.sk-parallel {display: flex;align-items: stretch;justify-content: center;background-color: white;position: relative;}#sk-container-id-8 div.sk-item::before, #sk-container-id-8 div.sk-parallel-item::before {content: \"\";position: absolute;border-left: 1px solid gray;box-sizing: border-box;top: 0;bottom: 0;left: 50%;z-index: -1;}#sk-container-id-8 div.sk-parallel-item {display: flex;flex-direction: column;z-index: 1;position: relative;background-color: white;}#sk-container-id-8 div.sk-parallel-item:first-child::after {align-self: flex-end;width: 50%;}#sk-container-id-8 div.sk-parallel-item:last-child::after {align-self: flex-start;width: 50%;}#sk-container-id-8 div.sk-parallel-item:only-child::after {width: 0;}#sk-container-id-8 div.sk-dashed-wrapped {border: 1px dashed gray;margin: 0 0.4em 0.5em 0.4em;box-sizing: border-box;padding-bottom: 0.4em;background-color: white;}#sk-container-id-8 div.sk-label label {font-family: monospace;font-weight: bold;display: inline-block;line-height: 1.2em;}#sk-container-id-8 div.sk-label-container {text-align: center;}#sk-container-id-8 div.sk-container {/* jupyter's `normalize.less` sets `[hidden] { display: none; }` but bootstrap.min.css set `[hidden] { display: none !important; }` so we also need the `!important` here to be able to override the default hidden behavior on the sphinx rendered scikit-learn.org. See: https://github.com/scikit-learn/scikit-learn/issues/21755 */display: inline-block !important;position: relative;}#sk-container-id-8 div.sk-text-repr-fallback {display: none;}</style><div id=\"sk-container-id-8\" class=\"sk-top-container\"><div class=\"sk-text-repr-fallback\"><pre>LogisticRegression(class_weight=&#x27;balanced&#x27;, max_iter=10000)</pre><b>In a Jupyter environment, please rerun this cell to show the HTML representation or trust the notebook. <br />On GitHub, the HTML representation is unable to render, please try loading this page with nbviewer.org.</b></div><div class=\"sk-container\" hidden><div class=\"sk-item\"><div class=\"sk-estimator sk-toggleable\"><input class=\"sk-toggleable__control sk-hidden--visually\" id=\"sk-estimator-id-8\" type=\"checkbox\" checked><label for=\"sk-estimator-id-8\" class=\"sk-toggleable__label sk-toggleable__label-arrow\">LogisticRegression</label><div class=\"sk-toggleable__content\"><pre>LogisticRegression(class_weight=&#x27;balanced&#x27;, max_iter=10000)</pre></div></div></div></div></div>"
      ],
      "text/plain": [
       "LogisticRegression(class_weight='balanced', max_iter=10000)"
      ]
     },
     "execution_count": 279,
     "metadata": {},
     "output_type": "execute_result"
    }
   ],
   "source": [
    "logistic_regression = LogisticRegression(class_weight = 'balanced', max_iter = 10000)\n",
    "logistic_regression.fit(X_train, y_train)"
   ]
  },
  {
   "cell_type": "markdown",
   "id": "55e33430-193e-4f59-8415-322048ae25cf",
   "metadata": {
    "jp-MarkdownHeadingCollapsed": true,
    "tags": []
   },
   "source": [
    "### Evaluation"
   ]
  },
  {
   "cell_type": "markdown",
   "id": "9e275789-d214-45a0-aa1c-ab29eeb9040a",
   "metadata": {},
   "source": [
    "Predictions for the test set"
   ]
  },
  {
   "cell_type": "code",
   "execution_count": 280,
   "id": "53de22ef-896b-4ed4-8e1c-2bee35fd9018",
   "metadata": {
    "tags": []
   },
   "outputs": [],
   "source": [
    "y_pred = logistic_regression.predict(X_test)"
   ]
  },
  {
   "cell_type": "code",
   "execution_count": 281,
   "id": "4ac7956e-b0a0-410f-a0fb-f79d408c3db0",
   "metadata": {
    "tags": []
   },
   "outputs": [
    {
     "data": {
      "text/plain": [
       "0.623075795337927"
      ]
     },
     "execution_count": 281,
     "metadata": {},
     "output_type": "execute_result"
    }
   ],
   "source": [
    "# print(np.mean(y_pred == np.ravel(y_test)))\n",
    "logistic_regression.score(X_test, y_test)"
   ]
  },
  {
   "cell_type": "code",
   "execution_count": 282,
   "id": "3920e09c-3312-437b-aaf2-a43da64e269f",
   "metadata": {
    "tags": []
   },
   "outputs": [
    {
     "data": {
      "text/plain": [
       "0.623075795337927"
      ]
     },
     "execution_count": 282,
     "metadata": {},
     "output_type": "execute_result"
    }
   ],
   "source": [
    "df_y = pd.DataFrame({'y_pred':y_pred, 'y_test':np.ravel(y_test)})\n",
    "df_y['a'] = df_y['y_pred'] == df_y['y_test']\n",
    "df_y['a'].value_counts()\n",
    "11150/(11150+2492)\n",
    "df_y['a'].mean()"
   ]
  },
  {
   "cell_type": "code",
   "execution_count": 283,
   "id": "fefe54ec-185f-49cb-ad6d-1ffd953e4135",
   "metadata": {
    "tags": []
   },
   "outputs": [
    {
     "data": {
      "text/plain": [
       "y_test  y_pred\n",
       "0       0         7027\n",
       "        1         4092\n",
       "1       0         1050\n",
       "        1         1473\n",
       "dtype: int64"
      ]
     },
     "execution_count": 283,
     "metadata": {},
     "output_type": "execute_result"
    }
   ],
   "source": [
    "# print(confusion_matrix(y_test, y_pred))\n",
    "df_y.groupby(['y_test', 'y_pred']).size()"
   ]
  },
  {
   "cell_type": "code",
   "execution_count": 284,
   "id": "55e233fc-d7f5-4e2d-8fe2-ecef8e28561c",
   "metadata": {
    "tags": []
   },
   "outputs": [
    {
     "name": "stdout",
     "output_type": "stream",
     "text": [
      "              precision    recall  f1-score   support\n",
      "\n",
      "           0       0.87      0.63      0.73     11119\n",
      "           1       0.26      0.58      0.36      2523\n",
      "\n",
      "    accuracy                           0.62     13642\n",
      "   macro avg       0.57      0.61      0.55     13642\n",
      "weighted avg       0.76      0.62      0.66     13642\n",
      "\n"
     ]
    }
   ],
   "source": [
    "print(classification_report(y_test, y_pred))"
   ]
  },
  {
   "cell_type": "code",
   "execution_count": 270,
   "id": "f97bb32c-4a4f-40a3-a334-890e8063ebc6",
   "metadata": {
    "tags": []
   },
   "outputs": [
    {
     "data": {
      "text/plain": [
       "0.47500000000000003"
      ]
     },
     "execution_count": 270,
     "metadata": {},
     "output_type": "execute_result"
    }
   ],
   "source": [
    "2*(0.82*1.00)/(0.82+1.00)\n",
    "2*(0.576*0.026)/(0.576+0.026)\n",
    "(0.90+0.05)/2"
   ]
  },
  {
   "cell_type": "markdown",
   "id": "21ea8af5-9fac-46f1-913e-8c3ddb54ae41",
   "metadata": {
    "jp-MarkdownHeadingCollapsed": true,
    "tags": []
   },
   "source": [
    "### Feature Importance"
   ]
  },
  {
   "cell_type": "markdown",
   "id": "6f8dbd73-4e43-45a0-87d4-114e70bfc462",
   "metadata": {},
   "source": [
    "Review of coefficients"
   ]
  },
  {
   "cell_type": "code",
   "execution_count": 296,
   "id": "fe9321bc-0351-4858-9c12-022b5419b7f8",
   "metadata": {
    "collapsed": true,
    "jupyter": {
     "outputs_hidden": true
    },
    "tags": []
   },
   "outputs": [
    {
     "data": {
      "text/html": [
       "<div>\n",
       "<style scoped>\n",
       "    .dataframe tbody tr th:only-of-type {\n",
       "        vertical-align: middle;\n",
       "    }\n",
       "\n",
       "    .dataframe tbody tr th {\n",
       "        vertical-align: top;\n",
       "    }\n",
       "\n",
       "    .dataframe thead th {\n",
       "        text-align: right;\n",
       "    }\n",
       "</style>\n",
       "<table border=\"1\" class=\"dataframe\">\n",
       "  <thead>\n",
       "    <tr style=\"text-align: right;\">\n",
       "      <th></th>\n",
       "      <th>column</th>\n",
       "      <th>coefficient</th>\n",
       "    </tr>\n",
       "  </thead>\n",
       "  <tbody>\n",
       "    <tr>\n",
       "      <th>35</th>\n",
       "      <td>airline_code_s_summarized_AMX</td>\n",
       "      <td>-0.468693</td>\n",
       "    </tr>\n",
       "    <tr>\n",
       "      <th>2</th>\n",
       "      <td>wday_s_Saturday</td>\n",
       "      <td>-0.455081</td>\n",
       "    </tr>\n",
       "    <tr>\n",
       "      <th>55</th>\n",
       "      <td>airline_code_s_summarized_UAL</td>\n",
       "      <td>-0.396483</td>\n",
       "    </tr>\n",
       "    <tr>\n",
       "      <th>3</th>\n",
       "      <td>wday_s_Sunday</td>\n",
       "      <td>-0.396171</td>\n",
       "    </tr>\n",
       "    <tr>\n",
       "      <th>6</th>\n",
       "      <td>wday_s_Wednesday</td>\n",
       "      <td>-0.351012</td>\n",
       "    </tr>\n",
       "    <tr>\n",
       "      <th>...</th>\n",
       "      <td>...</td>\n",
       "      <td>...</td>\n",
       "    </tr>\n",
       "    <tr>\n",
       "      <th>42</th>\n",
       "      <td>airline_code_s_summarized_GLO</td>\n",
       "      <td>1.954878</td>\n",
       "    </tr>\n",
       "    <tr>\n",
       "      <th>33</th>\n",
       "      <td>airline_code_s_summarized_ACA</td>\n",
       "      <td>2.277921</td>\n",
       "    </tr>\n",
       "    <tr>\n",
       "      <th>49</th>\n",
       "      <td>airline_code_s_summarized_LAW</td>\n",
       "      <td>2.459295</td>\n",
       "    </tr>\n",
       "    <tr>\n",
       "      <th>45</th>\n",
       "      <td>airline_code_s_summarized_JMR</td>\n",
       "      <td>2.700204</td>\n",
       "    </tr>\n",
       "    <tr>\n",
       "      <th>52</th>\n",
       "      <td>airline_code_s_summarized_QFU</td>\n",
       "      <td>2.748959</td>\n",
       "    </tr>\n",
       "  </tbody>\n",
       "</table>\n",
       "<p>56 rows × 2 columns</p>\n",
       "</div>"
      ],
      "text/plain": [
       "                           column  coefficient\n",
       "35  airline_code_s_summarized_AMX    -0.468693\n",
       "2                 wday_s_Saturday    -0.455081\n",
       "55  airline_code_s_summarized_UAL    -0.396483\n",
       "3                   wday_s_Sunday    -0.396171\n",
       "6                wday_s_Wednesday    -0.351012\n",
       "..                            ...          ...\n",
       "42  airline_code_s_summarized_GLO     1.954878\n",
       "33  airline_code_s_summarized_ACA     2.277921\n",
       "49  airline_code_s_summarized_LAW     2.459295\n",
       "45  airline_code_s_summarized_JMR     2.700204\n",
       "52  airline_code_s_summarized_QFU     2.748959\n",
       "\n",
       "[56 rows x 2 columns]"
      ]
     },
     "execution_count": 296,
     "metadata": {},
     "output_type": "execute_result"
    }
   ],
   "source": [
    "# logistic_regression.coef_[0, :]\n",
    "columns = ['high_season'] + list(dummy_variables.columns)\n",
    "pd.DataFrame({'column': columns, 'coefficient': logistic_regression.coef_[0, :]}) \\\n",
    "    .sort_values('coefficient')"
   ]
  },
  {
   "cell_type": "markdown",
   "id": "9afebfad-1c17-4fb8-aae1-641dffd7b18d",
   "metadata": {
    "jp-MarkdownHeadingCollapsed": true,
    "tags": []
   },
   "source": [
    "### Potential Model Improvements "
   ]
  },
  {
   "cell_type": "markdown",
   "id": "f4880c81-245e-4dad-9563-9e8cff5df289",
   "metadata": {},
   "source": [
    "In order to increase model performance, the following ideas could be implemented:\n",
    "\n",
    "1. Add more data: \n",
    "- More observations about flights could be gathered. For example, data for years 2018-2023 or data from other origins than Santiago\n",
    "- New features could be added, such as weather conditions (some flights might be delayed because of adverse weather), model of the aircraft (some models might be more prone to mechanical problems that could delay flights), the route of the flight (adequate weather conditions may be required for the entire route, not just origin and destination airports), etc. Also, functions of the original predictor variables could also be added (feature engineering)\n",
    "2. Try new models:\n",
    "- Some models that were not tried could detect better the patterns for prediction\n",
    "- Maybe an ensemble model combining different approaches could perform better\n",
    "- If it were possible to obtain data about the driver of the delays, a different model for each driver could be created. Then, the probabily of a delay because of at least one driver could be calculated from the outputs of those models assuming independence for the drivers if reasonable (a binomial distribution could be used for such approach)\n",
    "3. Change the response variable:\n",
    "- Instead of predicting weather a flight will be delayed or not, it is possible to predict the number of minutes that the flight will be delayed. In this case, regression models would be applied instead of the classification approach that was used. This alternative might be attractive considering that 15 minutes is a duration a bit arbitrary for determining that a flight will be delayed. A flight that will be delayed, for example, 14 minutes, might also need to be managed"
   ]
  }
 ],
 "metadata": {
  "kernelspec": {
   "display_name": "Python 3 (ipykernel)",
   "language": "python",
   "name": "python3"
  },
  "language_info": {
   "codemirror_mode": {
    "name": "ipython",
    "version": 3
   },
   "file_extension": ".py",
   "mimetype": "text/x-python",
   "name": "python",
   "nbconvert_exporter": "python",
   "pygments_lexer": "ipython3",
   "version": "3.11.2"
  },
  "varInspector": {
   "cols": {
    "lenName": 16,
    "lenType": 16,
    "lenVar": 40
   },
   "kernels_config": {
    "python": {
     "delete_cmd_postfix": "",
     "delete_cmd_prefix": "del ",
     "library": "var_list.py",
     "varRefreshCmd": "print(var_dic_list())"
    },
    "r": {
     "delete_cmd_postfix": ") ",
     "delete_cmd_prefix": "rm(",
     "library": "var_list.r",
     "varRefreshCmd": "cat(var_dic_list()) "
    }
   },
   "types_to_exclude": [
    "module",
    "function",
    "builtin_function_or_method",
    "instance",
    "_Feature"
   ],
   "window_display": false
  }
 },
 "nbformat": 4,
 "nbformat_minor": 5
}
